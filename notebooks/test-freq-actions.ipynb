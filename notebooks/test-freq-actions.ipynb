{
 "cells": [
  {
   "cell_type": "code",
   "execution_count": null,
   "metadata": {},
   "outputs": [],
   "source": [
    "# Third-party\n",
    "from astropy.io import fits\n",
    "import astropy.coordinates as coord\n",
    "import astropy.units as u\n",
    "from astropy.table import Table\n",
    "import matplotlib as mpl\n",
    "import matplotlib.pyplot as plt\n",
    "import numpy as np\n",
    "%matplotlib inline\n",
    "import h5py\n",
    "\n",
    "from pyia import GaiaData\n",
    "\n",
    "import gala.coordinates as gc\n",
    "import gala.dynamics as gd\n",
    "import gala.integrate as gi\n",
    "import gala.potential as gp\n",
    "from gala.units import galactic\n",
    "import superfreq as sf"
   ]
  },
  {
   "cell_type": "code",
   "execution_count": null,
   "metadata": {},
   "outputs": [],
   "source": [
    "gc_frame = coord.Galactocentric(z_sun=0*u.pc, galcen_distance=8.3*u.kpc)"
   ]
  },
  {
   "cell_type": "code",
   "execution_count": null,
   "metadata": {},
   "outputs": [],
   "source": [
    "# see FGK-select.ipynb\n",
    "# stype = 'fgk'\n",
    "stype = 'af'\n",
    "\n",
    "if stype == 'af':\n",
    "    vmax = 1E2\n",
    "    hex_h = 150 # pc\n",
    "    \n",
    "elif stype == 'fgk':\n",
    "    vmax = 3e2\n",
    "    hex_h = 120\n",
    "\n",
    "g = GaiaData('../data/{0}.fits'.format(stype))\n",
    "\n",
    "c = g.skycoord\n",
    "galcen = c.transform_to(gc_frame)"
   ]
  },
  {
   "cell_type": "code",
   "execution_count": null,
   "metadata": {},
   "outputs": [],
   "source": [
    "gal = c.galactic\n",
    "gal.set_representation_cls('cartesian')"
   ]
  },
  {
   "cell_type": "code",
   "execution_count": null,
   "metadata": {},
   "outputs": [],
   "source": [
    "v = galcen.velocity.norm()\n",
    "plt.hist(v.value[np.isfinite(v)], bins=np.linspace(0, 1000, 128));\n",
    "plt.yscale('log')"
   ]
  },
  {
   "cell_type": "code",
   "execution_count": null,
   "metadata": {},
   "outputs": [],
   "source": [
    "mw = gp.MilkyWayPotential()\n",
    "H = gp.Hamiltonian(mw)\n",
    "w0 = gd.PhaseSpacePosition(galcen.cartesian)[108]"
   ]
  },
  {
   "cell_type": "code",
   "execution_count": null,
   "metadata": {},
   "outputs": [],
   "source": [
    "integrate_time = 128 * 250*u.Myr\n",
    "print(integrate_time.to(u.Gyr))\n",
    "\n",
    "orbit = mw.integrate_orbit(w0, dt=0.5*u.Myr, t1=0*u.Myr,\n",
    "                           t2=integrate_time)"
   ]
  },
  {
   "cell_type": "code",
   "execution_count": null,
   "metadata": {},
   "outputs": [],
   "source": [
    "_ = orbit.plot()"
   ]
  },
  {
   "cell_type": "code",
   "execution_count": null,
   "metadata": {},
   "outputs": [],
   "source": [
    "t2s = [2, 4, 8, 16, 32] * u.Gyr\n",
    "acts = []\n",
    "for t2 in t2s:\n",
    "    orbit = mw.integrate_orbit(w0, dt=0.5*u.Myr, t1=0*u.Myr,\n",
    "                               t2=t2)\n",
    "    res = gd.find_actions(orbit, 6)\n",
    "    acts.append(res['actions'].value)\n",
    "    \n",
    "acts = np.array(acts)"
   ]
  },
  {
   "cell_type": "code",
   "execution_count": null,
   "metadata": {},
   "outputs": [],
   "source": [
    "fig, axes = plt.subplots(1, 3, figsize=(16, 4), \n",
    "                         sharex=True, sharey=True)\n",
    "for i in range(3):\n",
    "    axes[i].plot(t2s, np.abs((acts[:, i] - acts[-1, i]) / acts[-1, i]))\n",
    "    axes[i].axhline(0.001)\n",
    "    \n",
    "axes[i].set_xscale('log', basex=2)\n",
    "axes[i].set_yscale('log')\n",
    "axes[i].xaxis.set_ticks(2 ** np.arange(1, 6+1))\n",
    "axes[i].set_ylim(1E-5, 1e0)"
   ]
  },
  {
   "cell_type": "code",
   "execution_count": null,
   "metadata": {},
   "outputs": [],
   "source": [
    "res['freqs']"
   ]
  },
  {
   "cell_type": "code",
   "execution_count": null,
   "metadata": {},
   "outputs": [],
   "source": [
    "def cartesian_to_poincare_polar(w):\n",
    "    r\"\"\"\n",
    "    Convert an array of 6D Cartesian positions to Poincar\u00e9\n",
    "    symplectic polar coordinates. These are similar to cylindrical\n",
    "    coordinates.\n",
    "    Parameters\n",
    "    ----------\n",
    "    w : array_like\n",
    "        Input array of 6D Cartesian phase-space positions. Should have\n",
    "        shape ``(norbits,6)``.\n",
    "    Returns\n",
    "    -------\n",
    "    new_w : :class:`~numpy.ndarray`\n",
    "        Points represented in 6D Poincar\u00e9 polar coordinates.\n",
    "    \"\"\"\n",
    "\n",
    "    R = np.sqrt(w[..., 0]**2 + w[..., 1]**2)\n",
    "    # phi = np.arctan2(w[...,1], w[...,0])\n",
    "    phi = np.arctan2(w[..., 0], w[..., 1])\n",
    "\n",
    "    vR = (w[..., 0]*w[..., 0+3] + w[..., 1]*w[..., 1+3]) / R\n",
    "    vPhi = w[..., 0]*w[..., 1+3] - w[..., 1]*w[..., 0+3]\n",
    "\n",
    "    # pg. 437, Papaphillipou & Laskar (1996)\n",
    "    sqrt_2THETA = np.sqrt(np.abs(2*vPhi))\n",
    "    pp_phi = sqrt_2THETA * np.cos(phi)\n",
    "    pp_phidot = sqrt_2THETA * np.sin(phi)\n",
    "\n",
    "    z = w[..., 2]\n",
    "    zdot = w[..., 2+3]\n",
    "\n",
    "    new_w = np.vstack((R.T, pp_phi.T, z.T,\n",
    "                       vR.T, pp_phidot.T, zdot.T)).T\n",
    "    return new_w\n",
    "\n",
    "\n",
    "def worker(task):\n",
    "    i, w0 = task\n",
    "    w0 = gd.PhaseSpacePosition.from_w(w0, galactic)\n",
    "\n",
    "    # logging.debug('Starting orbit {0}'.format(i))\n",
    "\n",
    "    try:\n",
    "        orbit = mw.integrate_orbit(w0, dt=0.5*u.Myr, t1=0*u.Myr,\n",
    "                                  t2=integrate_time)\n",
    "    except Exception as e:\n",
    "        print('Failed to integrate orbit {0}\\n{1}'\n",
    "                     .format(i, str(e)))\n",
    "        return i, np.full(3, np.nan)\n",
    "\n",
    "    new_ws = cartesian_to_poincare_polar(orbit.w().T).T\n",
    "    fs = [(new_ws[j] + 1j*new_ws[j+3]) for j in range(3)]\n",
    "\n",
    "    freq = sf.SuperFreq(orbit.t.value, p=4)\n",
    "    try:\n",
    "        res = freq.find_fundamental_frequencies(fs)\n",
    "    except Exception as e:\n",
    "        print('Failed to compute frequencies for orbit {0}\\n{1}'\n",
    "                     .format(i, str(e)))\n",
    "        return i, np.full(3, np.nan)\n",
    "    \n",
    "    return i, res.fund_freqs\n",
    "    \n",
    "_, freqs = worker((0, w0.w(galactic)))"
   ]
  },
  {
   "cell_type": "code",
   "execution_count": null,
   "metadata": {},
   "outputs": [],
   "source": [
    "freqs"
   ]
  },
  {
   "cell_type": "code",
   "execution_count": null,
   "metadata": {},
   "outputs": [],
   "source": [
    "np.abs(freqs / res['freqs'])"
   ]
  },
  {
   "cell_type": "code",
   "execution_count": null,
   "metadata": {},
   "outputs": [],
   "source": [
    "freqs, res['freqs']"
   ]
  },
  {
   "cell_type": "code",
   "execution_count": null,
   "metadata": {},
   "outputs": [],
   "source": [
    "2*np.pi / freqs, 2*np.pi / res['freqs']"
   ]
  },
  {
   "cell_type": "code",
   "execution_count": null,
   "metadata": {},
   "outputs": [],
   "source": [
    "data = dict()"
   ]
  },
  {
   "cell_type": "code",
   "execution_count": null,
   "metadata": {},
   "outputs": [],
   "source": [
    "res['actions'].to(u.km/u.s*u.kpc)"
   ]
  },
  {
   "cell_type": "code",
   "execution_count": null,
   "metadata": {},
   "outputs": [],
   "source": []
  },
  {
   "cell_type": "code",
   "execution_count": null,
   "metadata": {},
   "outputs": [],
   "source": [
    "orbit.zmax(approximate=True)\n",
    "\n",
    "orbit.pericenter(approximate=True)\n",
    "\n",
    "orbit.apocenter(approximate=True)"
   ]
  },
  {
   "cell_type": "code",
   "execution_count": null,
   "metadata": {},
   "outputs": [],
   "source": [
    "Lz = orbit[0].angular_momentum()[2]"
   ]
  },
  {
   "cell_type": "code",
   "execution_count": null,
   "metadata": {},
   "outputs": [],
   "source": [
    "E = orbit.energy()[0]"
   ]
  },
  {
   "cell_type": "code",
   "execution_count": null,
   "metadata": {},
   "outputs": [],
   "source": [
    "x0 = w0.cylindrical.rho.to(u.pc).value\n",
    "x0_c = [x0, 0, 0] * u.pc\n",
    "v0 = mw.circular_velocity(x0_c)[0].to(u.km/u.s).value\n",
    "v0_c = [0, v0, 0] * u.km/u.s\n",
    "w0_c = gd.PhaseSpacePosition(pos=x0_c, vel=v0_c)\n",
    "Ec = w0_c.energy(H)[0]"
   ]
  },
  {
   "cell_type": "code",
   "execution_count": null,
   "metadata": {},
   "outputs": [],
   "source": [
    "E_Ec = E - Ec"
   ]
  },
  {
   "cell_type": "code",
   "execution_count": null,
   "metadata": {},
   "outputs": [],
   "source": [
    "E_Ec.to((u.kpc/u.Myr)**2)"
   ]
  },
  {
   "cell_type": "code",
   "execution_count": null,
   "metadata": {},
   "outputs": [],
   "source": [
    "derp = Table.read('../data/R1500_z_750_cyl_rv.fits')"
   ]
  },
  {
   "cell_type": "code",
   "execution_count": null,
   "metadata": {},
   "outputs": [],
   "source": [
    "derp[(derp['parallax'] > 0) & ((derp['parallax']/derp['parallax_error']) > 6)][16:32].write('../data/all-rv.fits', overwrite=True)"
   ]
  },
  {
   "cell_type": "code",
   "execution_count": null,
   "metadata": {},
   "outputs": [],
   "source": []
  },
  {
   "cell_type": "code",
   "execution_count": null,
   "metadata": {},
   "outputs": [],
   "source": []
  },
  {
   "cell_type": "code",
   "execution_count": null,
   "metadata": {},
   "outputs": [],
   "source": []
  }
 ],
 "metadata": {
  "kernelspec": {
   "display_name": "Python [default]",
   "language": "python",
   "name": "python3"
  },
  "language_info": {
   "codemirror_mode": {
    "name": "ipython",
    "version": 3
   },
   "file_extension": ".py",
   "mimetype": "text/x-python",
   "name": "python",
   "nbconvert_exporter": "python",
   "pygments_lexer": "ipython3",
   "version": "3.6.4"
  }
 },
 "nbformat": 4,
 "nbformat_minor": 2
}