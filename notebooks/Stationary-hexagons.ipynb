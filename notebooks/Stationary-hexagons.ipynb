{
 "cells": [
  {
   "cell_type": "code",
   "execution_count": null,
   "metadata": {},
   "outputs": [],
   "source": [
    "# Third-party\n",
    "from astropy.io import fits\n",
    "import astropy.coordinates as coord\n",
    "import astropy.units as u\n",
    "from astropy.table import Table\n",
    "import matplotlib as mpl\n",
    "import matplotlib.pyplot as plt\n",
    "import numpy as np\n",
    "%matplotlib inline\n",
    "from scipy.special import logsumexp\n",
    "from scipy.optimize import minimize\n",
    "\n",
    "from pyia import GaiaData\n",
    "from gala.mpl_style import laguna, hesperia"
   ]
  },
  {
   "cell_type": "code",
   "execution_count": null,
   "metadata": {},
   "outputs": [],
   "source": [
    "gc_frame = coord.Galactocentric(z_sun=0*u.pc, galcen_distance=8.1*u.kpc)"
   ]
  },
  {
   "cell_type": "code",
   "execution_count": null,
   "metadata": {},
   "outputs": [],
   "source": [
    "hex_h = 200\n",
    "filename = 'rv-good-plx.fits'\n",
    "g = GaiaData(filename)\n",
    "\n",
    "c = g.skycoord\n",
    "galcen = c.transform_to(gc_frame)"
   ]
  },
  {
   "cell_type": "code",
   "execution_count": null,
   "metadata": {},
   "outputs": [],
   "source": [
    "gal = c.galactic\n",
    "gal.set_representation_cls('cartesian')"
   ]
  },
  {
   "cell_type": "code",
   "execution_count": null,
   "metadata": {},
   "outputs": [],
   "source": [
    "cyl = gal.transform_to(gc_frame)\n",
    "cyl.set_representation_cls('cylindrical')\n",
    "\n",
    "xyz = np.vstack((gal.u.to(u.pc).value, \n",
    "                 gal.v.to(u.pc).value,\n",
    "                 gal.w.to(u.pc).value)).T\n",
    "\n",
    "UVW = np.vstack((gal.U.to(u.km/u.s).value, \n",
    "                 gal.V.to(u.km/u.s).value, \n",
    "                 gal.W.to(u.km/u.s).value)).T\n",
    "\n",
    "# UVW = np.vstack((cyl.d_rho.to(u.km/u.s).value, \n",
    "#                  - ((cyl.rho * cyl.d_phi).to(u.km/u.s, u.dimensionless_angles()).value + 220.), \n",
    "#                  cyl.d_z.to(u.km/u.s).value)).T\n",
    "\n",
    "disk_vmask = np.linalg.norm(UVW, axis=1) < 120\n",
    "# xyz = xyz[disk_vmask]\n",
    "# UVW = UVW[disk_vmask]"
   ]
  },
  {
   "cell_type": "markdown",
   "metadata": {},
   "source": [
    "---\n",
    "\n",
    "## Hexagons"
   ]
  },
  {
   "cell_type": "code",
   "execution_count": null,
   "metadata": {},
   "outputs": [],
   "source": [
    "def get_hexagons(h):\n",
    "    a = np.sqrt(3)/2 * h # inner side\n",
    "    \n",
    "    pas = dict() # keyed by \"ring\"\n",
    "    pas[0] = list()\n",
    "    pas[1] = list()\n",
    "    \n",
    "    pa0 = mpl.patches.RegularPolygon((0., 0.), numVertices=6, \n",
    "                                     radius=h, orientation=np.pi/2)\n",
    "    pas[0].append(pa0.get_verts())\n",
    "\n",
    "    for ang in np.arange(0, 360, 60)*u.deg:\n",
    "        # Ring 1\n",
    "        xy0 = 2*a * np.array([np.cos(ang+90*u.deg), np.sin(ang+90*u.deg)])\n",
    "        pa = mpl.patches.RegularPolygon(xy0, numVertices=6, \n",
    "                                        radius=h, orientation=np.pi/2)\n",
    "        pas[1].append(pa.get_verts())\n",
    "        \n",
    "    return pas"
   ]
  },
  {
   "cell_type": "code",
   "execution_count": null,
   "metadata": {},
   "outputs": [],
   "source": [
    "hexs = get_hexagons(hex_h)"
   ]
  },
  {
   "cell_type": "code",
   "execution_count": null,
   "metadata": {},
   "outputs": [],
   "source": []
  },
  {
   "cell_type": "code",
   "execution_count": null,
   "metadata": {},
   "outputs": [],
   "source": [
    "fig, ax = plt.subplots(1, 1, figsize=(6, 6))\n",
    "\n",
    "for k in hexs.keys():\n",
    "    for pa in hexs[k]:\n",
    "        pat = mpl.patches.Polygon(pa, facecolor='none', \n",
    "                                  edgecolor='w', linewidth=1, \n",
    "                                  zorder=100)\n",
    "        ax.add_patch(pat)\n",
    "        \n",
    "        pat = mpl.patches.Polygon(pa, facecolor='none', \n",
    "                                 edgecolor='k', linewidth=7, \n",
    "                                 zorder=99)\n",
    "        ax.add_patch(pat)\n",
    "\n",
    "# ax.plot(gal.u, gal.v, \n",
    "#         marker=',', alpha=0.1, color='k',\n",
    "#         linestyle='none', zorder=10)\n",
    "H, xe, ye = np.histogram2d(gal.u.to_value(u.pc), gal.v.to_value(u.pc),\n",
    "                           bins=np.linspace(-1000, 1000, 128))\n",
    "ax.pcolormesh(xe, ye, H.T,\n",
    "              norm=mpl.colors.LogNorm(vmin=4e1, vmax=6e3),\n",
    "              cmap=laguna) \n",
    "        \n",
    "lim = 1000\n",
    "ax.set_xlim(-lim, lim)\n",
    "ax.set_ylim(-lim, lim)\n",
    "\n",
    "ax.set_xlabel('$x$ [pc]')\n",
    "ax.set_ylabel('$y$ [pc]')\n",
    "\n",
    "ax.xaxis.set_visible(False)\n",
    "ax.yaxis.set_visible(False)\n",
    "\n",
    "for k in ax.spines:\n",
    "    ax.spines[k].set_visible(False)\n",
    "\n",
    "fig.tight_layout()\n",
    "# fig.savefig('../../ths.png', dpi=250)"
   ]
  },
  {
   "cell_type": "markdown",
   "metadata": {},
   "source": [
    "---"
   ]
  },
  {
   "cell_type": "code",
   "execution_count": null,
   "metadata": {},
   "outputs": [],
   "source": [
    "# vmax = 1400\n",
    "# for k in hexs.keys():\n",
    "#     for b, pa in enumerate(hexs[k]):\n",
    "#         hex_mask = mpl.patches.Path(pa).contains_points(xyz[:, :2])\n",
    "#         print(hex_mask.sum())\n",
    "\n",
    "#         lim = 150\n",
    "#         bins = np.linspace(-lim, lim, 101)\n",
    "\n",
    "#         fig, axes = plt.subplots(2, 2, figsize=(8, 7.2))\n",
    "        \n",
    "#         for a, (i, j) in zip([0, 2, 3], [(0, 1), (0, 2), (1, 2)]):\n",
    "#             ax = axes.flat[a]\n",
    "#             H, xe, ye = np.histogram2d(UVW[hex_mask,i], UVW[hex_mask,j], bins=bins)\n",
    "#             ax.pcolormesh(xe, ye, H.T, \n",
    "#                           norm=mpl.colors.LogNorm(), \n",
    "#                           cmap='magma', vmin=1, vmax=vmax)\n",
    "#             ax.set_xlim(-lim, lim)\n",
    "#             ax.set_ylim(-lim, lim)\n",
    "        \n",
    "#         axes[0, 0].set_ylabel('$-v_y-220$')\n",
    "#         axes[1, 0].set_ylabel('$v_z$')\n",
    "#         axes[1, 0].set_xlabel('$v_x$')\n",
    "#         axes[1, 1].set_xlabel('$-v_y-220$')\n",
    "#         axes[0, 0].xaxis.set_ticklabels([])\n",
    "#         axes[1, 1].yaxis.set_ticklabels([])\n",
    "        \n",
    "#         # axes[0,1].set_visible(False)\n",
    "#         ax = axes[0,1]\n",
    "#         for k_ in hexs.keys():\n",
    "#             for pa_ in hexs[k_]:\n",
    "#                 pa_ = mpl.patches.Polygon(pa_, facecolor='none', edgecolor='#333333')\n",
    "#                 ax.add_patch(pa_)\n",
    "                \n",
    "#         ax.add_patch(mpl.patches.Polygon(pa, facecolor='#333333', edgecolor='#333333'))\n",
    "#         ax.set_xlim(-750, 750)\n",
    "#         ax.set_ylim(-750, 750)\n",
    "#         ax.set_xlabel('$x$ [pc]')\n",
    "#         ax.set_ylabel('$y$ [pc]')\n",
    "\n",
    "#         fig.tight_layout()\n",
    "#         fig.savefig('../plots/uvw/big-hex-{2}-{0}-{1:02d}.png'.format(k, b, 'all'), dpi=250)\n",
    "#         plt.close(fig)"
   ]
  },
  {
   "cell_type": "code",
   "execution_count": null,
   "metadata": {},
   "outputs": [],
   "source": [
    "_cyl = gal.represent_as('cylindrical')\n",
    "mask_r100 = (_cyl.rho < 100*u.pc) & (np.abs(_cyl.z) < 250*u.pc)\n",
    "mask_r300 = (_cyl.rho < 300*u.pc) & (np.abs(_cyl.z) < 500*u.pc)\n",
    "mask_r500 = (_cyl.rho < 500*u.pc) & (np.abs(_cyl.z) < 500*u.pc)\n",
    "mask_r100.sum(), mask_r500.sum()"
   ]
  },
  {
   "cell_type": "code",
   "execution_count": null,
   "metadata": {},
   "outputs": [],
   "source": [
    "def kde_obj(V, V_local, bw):\n",
    "    \"\"\"Note: this is barely tested...by eye\n",
    "    \n",
    "    V : (n, 3)\n",
    "    V_local : (m, 3)\n",
    "    \"\"\"\n",
    "    delta = V[None] - V_local[:, None] # (m, n, 3)\n",
    "    \n",
    "    # objective function\n",
    "    arg = np.sum(-0.5 * (delta / bw)**2, axis=-1) # (m, n)\n",
    "    scalar = logsumexp(arg, axis=0).sum()\n",
    "    \n",
    "    # gradient \n",
    "    _arg = arg - arg.max(axis=0)[None] # (m, n)\n",
    "    grad = np.sum(-delta / bw**2 * np.exp(_arg)[..., None], axis=0) / np.sum(np.exp(_arg), axis=0)[..., None]\n",
    "    \n",
    "    return scalar, grad"
   ]
  },
  {
   "cell_type": "code",
   "execution_count": null,
   "metadata": {},
   "outputs": [],
   "source": [
    "local_v = UVW[disk_vmask & mask_r100][::24]\n",
    "local_x = xyz[disk_vmask & mask_r100][::24]\n",
    "\n",
    "train_v = UVW[disk_vmask & mask_r300][::128]\n",
    "train_x = xyz[disk_vmask & mask_r300][::128]\n",
    "\n",
    "test_v = UVW[disk_vmask & mask_r300]\n",
    "test_x = xyz[disk_vmask & mask_r300]\n",
    "\n",
    "local_v.shape, train_v.shape, test_v.shape"
   ]
  },
  {
   "cell_type": "code",
   "execution_count": null,
   "metadata": {},
   "outputs": [],
   "source": [
    "# _s, _g = kde_obj(test_v, control_v, bw=5.)"
   ]
  },
  {
   "cell_type": "code",
   "execution_count": null,
   "metadata": {},
   "outputs": [],
   "source": [
    "# test_v2 = test_v.copy()\n",
    "# fudge = .7\n",
    "# test_v2[612, 1] += fudge\n",
    "\n",
    "# _s2, _g2 = kde_obj(test_v2, anchor_v, bw=5.)"
   ]
  },
  {
   "cell_type": "code",
   "execution_count": null,
   "metadata": {},
   "outputs": [],
   "source": [
    "# (_s2 - _s) / fudge # check numerical derivative"
   ]
  },
  {
   "cell_type": "code",
   "execution_count": null,
   "metadata": {},
   "outputs": [],
   "source": [
    "# _g[612, 1]"
   ]
  },
  {
   "cell_type": "code",
   "execution_count": null,
   "metadata": {},
   "outputs": [],
   "source": [
    "def f_and_grad(p, V_train, X_train, V_local, bw):\n",
    "    aij = np.array(p[:9]).reshape(3, 3)\n",
    "    bij = np.array(p[9:]).reshape(9, 3)\n",
    "    \n",
    "    VX_train = (V_train[:, None] * X_train[..., None]).reshape(-1, 9)\n",
    "    s, g = kde_obj(V_train + X_train.dot(aij) + VX_train.dot(bij), \n",
    "                   V_local, bw)\n",
    "    \n",
    "    grad = np.concatenate(((g[:, None] *  X_train[:, :, None]).sum(axis=0).reshape((9,)), \n",
    "                           (g[:, None] * VX_train[:, :, None]).sum(axis=0).reshape((27,))))\n",
    "    \n",
    "    return -s, -grad"
   ]
  },
  {
   "cell_type": "code",
   "execution_count": null,
   "metadata": {},
   "outputs": [],
   "source": [
    "# p = 1e-3 * np.random.random(size=9)\n",
    "p = 1e-3 * np.random.random(size=9+27)\n",
    "_s, _g = f_and_grad(p, train_v, train_x, local_v, bw=5.)"
   ]
  },
  {
   "cell_type": "code",
   "execution_count": null,
   "metadata": {},
   "outputs": [],
   "source": [
    "p2 = p.copy()\n",
    "p2[17] += 1e-8\n",
    "_s2, __ = f_and_grad(p2, train_v, train_x, local_v, bw=5.)"
   ]
  },
  {
   "cell_type": "code",
   "execution_count": null,
   "metadata": {},
   "outputs": [],
   "source": [
    "assert np.allclose((_s2 - _s) / 1e-8,\n",
    "                   _g[17], rtol=1e-3)"
   ]
  },
  {
   "cell_type": "code",
   "execution_count": null,
   "metadata": {},
   "outputs": [],
   "source": [
    "%%time\n",
    "# res = minimize(f_and_grad, x0=np.zeros(9), \n",
    "res = minimize(f_and_grad, x0=np.zeros(9+27), \n",
    "               method='L-BFGS-B', jac=True, \n",
    "               args=(train_v, train_x, local_v, 3.))"
   ]
  },
  {
   "cell_type": "code",
   "execution_count": null,
   "metadata": {},
   "outputs": [],
   "source": [
    "res"
   ]
  },
  {
   "cell_type": "code",
   "execution_count": null,
   "metadata": {},
   "outputs": [],
   "source": [
    "def get_dv(v, x, p):\n",
    "    return ((x.dot(np.array(p[:9]).reshape(3, 3)) + \n",
    "            (v[:, None] * x[..., None]).reshape(-1, 9).dot(np.array(p[9:]).reshape(9, 3))))\n",
    "\n",
    "def get_pred(v, x, p):\n",
    "    return v + get_dv(v, x, p)"
   ]
  },
  {
   "cell_type": "code",
   "execution_count": null,
   "metadata": {},
   "outputs": [],
   "source": [
    "# OLD:\n",
    "# # pred_v = (test_v + test_x.dot(np.array(res.x[:9]).reshape(3, 3)) + \n",
    "# #           (test_v[:, None] * test_x[..., None]).reshape(-1, 9).dot(np.array(res.x[9:]).reshape(9, 3)))\n",
    "# pred_v = get_pred(train_v, train_x, res.x)\n",
    "# pred_v.shape"
   ]
  },
  {
   "cell_type": "code",
   "execution_count": null,
   "metadata": {},
   "outputs": [],
   "source": [
    "test_v_pred = get_pred(test_v, test_x, res.x)"
   ]
  },
  {
   "cell_type": "code",
   "execution_count": null,
   "metadata": {},
   "outputs": [],
   "source": [
    "style = dict(marker='o', alpha=0.1, ms=2, ls='none', mew=0)\n",
    "\n",
    "fig, axes = plt.subplots(1, 3, figsize=(15, 5),\n",
    "                         sharex=True, sharey=True)\n",
    "\n",
    "axes[0].plot(local_v[:, 0], local_v[:, 1], **style)\n",
    "\n",
    "bins = np.linspace(-125, 125, 128)\n",
    "axes[1].hist2d(test_v[:, 0], test_v[:, 1], \n",
    "               bins=bins)\n",
    "axes[2].hist2d(test_v_pred[:, 0], test_v_pred[:, 1], \n",
    "               bins=bins)\n",
    "\n",
    "axes[0].set_xlim(-125, 125)\n",
    "axes[0].set_ylim(-125, 125)"
   ]
  },
  {
   "cell_type": "code",
   "execution_count": null,
   "metadata": {},
   "outputs": [],
   "source": [
    "bins = np.linspace(-125, 125, 121)\n",
    "\n",
    "fig, axes = plt.subplots(1, 2, figsize=(10, 5), \n",
    "                         sharex=True, sharey=True)\n",
    "\n",
    "ax = axes[0]\n",
    "H_test, xe, ye = np.histogram2d(test_v[:, 0], test_v[:, 1], bins=bins)\n",
    "H_pred, xe, ye = np.histogram2d(test_v_pred[:, 0], test_v_pred[:, 1], bins=bins)\n",
    "cc = ax.pcolormesh(xe, ye, (H_pred - H_test).T,\n",
    "                   cmap='RdBu', vmin=-200, vmax=200)\n",
    "ax.set_xlabel('$v_x$')\n",
    "ax.set_ylabel('$v_y$')\n",
    "\n",
    "\n",
    "ax = axes[1]\n",
    "H_test, xe, ye = np.histogram2d(test_v[:, 0], test_v[:, 2], bins=bins)\n",
    "H_pred, xe, ye = np.histogram2d(test_v_pred[:, 0], test_v_pred[:, 2], bins=bins)\n",
    "cc = ax.pcolormesh(xe, ye, (H_pred - H_test).T,\n",
    "                   cmap='RdBu', vmin=-200, vmax=200)\n",
    "\n",
    "ax.set_xlabel('$v_x$')\n",
    "ax.set_ylabel('$v_z$')\n",
    "\n",
    "# fig.colorbar(cc)\n",
    "fig.tight_layout()"
   ]
  },
  {
   "cell_type": "markdown",
   "metadata": {},
   "source": [
    "### Refine training set:\n",
    "\n",
    "Now we predict on the full training set to see which stars are pulled the least - this will help us define an even better local sample:"
   ]
  },
  {
   "cell_type": "code",
   "execution_count": null,
   "metadata": {},
   "outputs": [],
   "source": [
    "dv = get_dv(UVW[disk_vmask & mask_r100], \n",
    "            xyz[disk_vmask & mask_r100], \n",
    "            res.x)\n",
    "dv_mag = np.linalg.norm(dv, axis=1)\n",
    "\n",
    "plt.hist(dv_mag, bins=np.logspace(-3, 1, 32));\n",
    "plt.xscale('log')"
   ]
  },
  {
   "cell_type": "code",
   "execution_count": null,
   "metadata": {},
   "outputs": [],
   "source": [
    "new_local_v = UVW[disk_vmask & mask_r100][dv_mag < 1][::4]"
   ]
  },
  {
   "cell_type": "code",
   "execution_count": null,
   "metadata": {},
   "outputs": [],
   "source": [
    "%%time\n",
    "new_res = minimize(f_and_grad, x0=np.zeros(9+27), \n",
    "                   method='L-BFGS-B', jac=True, \n",
    "                   args=(train_v, train_x, new_local_v, 3.))"
   ]
  },
  {
   "cell_type": "code",
   "execution_count": null,
   "metadata": {},
   "outputs": [],
   "source": [
    "# dv = _v.dot(res.x.reshape(3, 3))\n",
    "\n",
    "dvmag = np.linalg.norm(dv, axis=-1)\n",
    "# fig, ax = plt.subplots(1, 1, figsize=(6, 6))\n",
    "# ax.scatter(_v_adj[:, 0], _v_adj[:, 1], \n",
    "#            # c=dv[:, 1], \n",
    "#            c=dvmag,\n",
    "#            cmap='viridis', vmin=0, vmax=10,\n",
    "#            marker='.', linewidth=0, alpha=0.2)"
   ]
  },
  {
   "cell_type": "code",
   "execution_count": null,
   "metadata": {},
   "outputs": [],
   "source": [
    "vmax = 1400\n",
    "for name in ['data', 'adjusted']:\n",
    "    for k in hexs.keys():\n",
    "        for b, pa in enumerate(hexs[k]):\n",
    "            hex_mask = mpl.patches.Path(pa).contains_points(xyz[:, :2])\n",
    "            print(hex_mask.sum())\n",
    "\n",
    "            this_x = xyz[disk_vmask & hex_mask]\n",
    "            this_v = UVW[disk_vmask & hex_mask]\n",
    "            if name == 'adjusted':\n",
    "                # fix_v = this_v + this_x.dot(res.x.reshape(3, 3))\n",
    "                fix_v = get_pred(this_v, this_x, res.x)\n",
    "                the_v = fix_v\n",
    "            else:\n",
    "                the_v = this_v\n",
    "\n",
    "            lim = 150\n",
    "            bins = np.linspace(-lim, lim, 101)\n",
    "\n",
    "            fig, axes = plt.subplots(2, 2, figsize=(8, 7.2))\n",
    "\n",
    "            for a, (i, j) in zip([0, 2, 3], [(0, 1), (0, 2), (1, 2)]):\n",
    "                ax = axes.flat[a]\n",
    "                H, xe, ye = np.histogram2d(the_v[:,i], the_v[:,j], bins=bins)\n",
    "                ax.pcolormesh(xe, ye, H.T, \n",
    "                              norm=mpl.colors.LogNorm(), \n",
    "                              cmap='magma', vmin=1, vmax=vmax)\n",
    "                ax.set_xlim(-lim, lim)\n",
    "                ax.set_ylim(-lim, lim)\n",
    "\n",
    "            axes[0, 0].set_ylabel('$-v_y-220$')\n",
    "            axes[1, 0].set_ylabel('$v_z$')\n",
    "            axes[1, 0].set_xlabel('$v_x$')\n",
    "            axes[1, 1].set_xlabel('$-v_y-220$')\n",
    "            axes[0, 0].xaxis.set_ticklabels([])\n",
    "            axes[1, 1].yaxis.set_ticklabels([])\n",
    "\n",
    "            # axes[0,1].set_visible(False)\n",
    "            ax = axes[0,1]\n",
    "            for k_ in hexs.keys():\n",
    "                for pa_ in hexs[k_]:\n",
    "                    pa_ = mpl.patches.Polygon(pa_, facecolor='none', edgecolor='#333333')\n",
    "                    ax.add_patch(pa_)\n",
    "\n",
    "            ax.add_patch(mpl.patches.Polygon(pa, facecolor='#333333', edgecolor='#333333'))\n",
    "            ax.set_xlim(-750, 750)\n",
    "            ax.set_ylim(-750, 750)\n",
    "            ax.set_xlabel('$x$ [pc]')\n",
    "            ax.set_ylabel('$y$ [pc]')\n",
    "\n",
    "            fig.tight_layout()\n",
    "            fig.savefig('bighex-{2}-{0}-{1:02d}.png'.format(k, b, name), dpi=250)\n",
    "            plt.close(fig)"
   ]
  },
  {
   "cell_type": "markdown",
   "metadata": {},
   "source": [
    "```\n",
    "convert -delay 30 -loop 1 bighex-data-1-*.png bighex-data-ring.gif\n",
    "convert -delay 30 -loop 1 bighex-adjusted-1-*.png bighex-adjusted-ring.gif\n",
    "```"
   ]
  },
  {
   "cell_type": "code",
   "execution_count": null,
   "metadata": {},
   "outputs": [],
   "source": [
    "UVW_fix = get_pred(UVW, xyz, new_res.x)"
   ]
  },
  {
   "cell_type": "code",
   "execution_count": null,
   "metadata": {},
   "outputs": [],
   "source": [
    "R_mask = (np.sqrt(xyz[:, 0]**2 + xyz[:, 1]**2) < 750.) & (np.abs(xyz[:, 2]) < 500)\n",
    "close_mask = (np.sqrt(xyz[:, 0]**2 + xyz[:, 1]**2) < 150.) & (np.abs(xyz[:, 2]) < 200)"
   ]
  },
  {
   "cell_type": "code",
   "execution_count": null,
   "metadata": {},
   "outputs": [],
   "source": [
    "fig, all_axes = plt.subplots(2, 3, figsize=(16, 12),\n",
    "                             sharex=True, sharey=True)\n",
    "\n",
    "bins = np.arange(-100, 100+1e-3, 1)\n",
    "style = dict(cmap='hesperia_r', norm=mpl.colors.LogNorm(1, 1e3))\n",
    "\n",
    "axes = all_axes[0]\n",
    "\n",
    "H, xe, ye = np.histogram2d(UVW[close_mask, 0], UVW[close_mask, 1],\n",
    "                           bins=bins)\n",
    "axes[0].pcolormesh(xe, ye, H.T, **style)\n",
    "\n",
    "H, xe, ye = np.histogram2d(UVW[R_mask, 0], UVW[R_mask, 1],\n",
    "                           bins=bins)\n",
    "axes[1].pcolormesh(xe, ye, H.T, **style)\n",
    "\n",
    "H, xe, ye = np.histogram2d(UVW_fix[R_mask, 0], UVW_fix[R_mask, 1],\n",
    "                           bins=bins)\n",
    "axes[2].pcolormesh(xe, ye, H.T, **style)\n",
    "\n",
    "axes[0].set_title('raw data, $R < 150$ pc')\n",
    "axes[1].set_title('raw data, $R < 750$ pc')\n",
    "axes[2].set_title('myspace adjusted')\n",
    "\n",
    "# axes[0].set_xlabel('$v_x$')\n",
    "# axes[1].set_xlabel('$v_x$')\n",
    "axes[0].set_ylabel('$v_y$')\n",
    "\n",
    "axes = all_axes[1]\n",
    "H, xe, ye = np.histogram2d(UVW[R_mask, 0], UVW[R_mask, 2],\n",
    "                           bins=bins)\n",
    "axes[1].pcolormesh(xe, ye, H.T, **style)\n",
    "\n",
    "H, xe, ye = np.histogram2d(UVW_fix[R_mask, 0], UVW_fix[R_mask, 2],\n",
    "                           bins=bins)\n",
    "axes[2].pcolormesh(xe, ye, H.T, **style)\n",
    "\n",
    "H, xe, ye = np.histogram2d(UVW_fix[close_mask, 0], UVW_fix[close_mask, 2],\n",
    "                           bins=bins)\n",
    "axes[0].pcolormesh(xe, ye, H.T, **style)\n",
    "\n",
    "axes[0].set_xlabel('$v_x$')\n",
    "axes[1].set_xlabel('$v_x$')\n",
    "axes[0].set_ylabel('$v_z$')\n",
    "\n",
    "fig.savefig('raw-vs-myspace-750.png', dpi=250)"
   ]
  },
  {
   "cell_type": "code",
   "execution_count": null,
   "metadata": {},
   "outputs": [],
   "source": []
  }
 ],
 "metadata": {
  "kernelspec": {
   "display_name": "Python [default]",
   "language": "python",
   "name": "python3"
  },
  "language_info": {
   "codemirror_mode": {
    "name": "ipython",
    "version": 3
   },
   "file_extension": ".py",
   "mimetype": "text/x-python",
   "name": "python",
   "nbconvert_exporter": "python",
   "pygments_lexer": "ipython3",
   "version": "3.6.8"
  }
 },
 "nbformat": 4,
 "nbformat_minor": 2
}
