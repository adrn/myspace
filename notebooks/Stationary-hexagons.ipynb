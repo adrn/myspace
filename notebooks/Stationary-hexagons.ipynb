{
 "cells": [
  {
   "cell_type": "code",
   "execution_count": null,
   "metadata": {},
   "outputs": [],
   "source": [
    "# Third-party\n",
    "from astropy.io import fits\n",
    "import astropy.coordinates as coord\n",
    "import astropy.units as u\n",
    "from astropy.table import Table\n",
    "import matplotlib as mpl\n",
    "import matplotlib.pyplot as plt\n",
    "import numpy as np\n",
    "%matplotlib inline\n",
    "from scipy.special import logsumexp\n",
    "from scipy.optimize import minimize\n",
    "\n",
    "from pyia import GaiaData"
   ]
  },
  {
   "cell_type": "code",
   "execution_count": null,
   "metadata": {},
   "outputs": [],
   "source": [
    "gc_frame = coord.Galactocentric(z_sun=0*u.pc, galcen_distance=8.1*u.kpc)"
   ]
  },
  {
   "cell_type": "code",
   "execution_count": null,
   "metadata": {},
   "outputs": [],
   "source": [
    "hex_h = 200\n",
    "filename = '../data/rv-good-plx.fits'\n",
    "g = GaiaData(filename)\n",
    "\n",
    "c = g.skycoord\n",
    "galcen = c.transform_to(gc_frame)"
   ]
  },
  {
   "cell_type": "code",
   "execution_count": null,
   "metadata": {},
   "outputs": [],
   "source": [
    "gal = c.galactic\n",
    "gal.set_representation_cls('cartesian')"
   ]
  },
  {
   "cell_type": "code",
   "execution_count": null,
   "metadata": {},
   "outputs": [],
   "source": [
    "cyl = gal.transform_to(gc_frame)\n",
    "cyl.set_representation_cls('cylindrical')\n",
    "\n",
    "xyz = np.vstack((gal.u.to(u.pc).value, \n",
    "                 gal.v.to(u.pc).value,\n",
    "                 gal.w.to(u.pc).value)).T\n",
    "\n",
    "UVW = np.vstack((gal.U.to(u.km/u.s).value, \n",
    "                 gal.V.to(u.km/u.s).value, \n",
    "                 gal.W.to(u.km/u.s).value)).T\n",
    "\n",
    "# UVW = np.vstack((cyl.d_rho.to(u.km/u.s).value, \n",
    "#                  - ((cyl.rho * cyl.d_phi).to(u.km/u.s, u.dimensionless_angles()).value + 220.), \n",
    "#                  cyl.d_z.to(u.km/u.s).value)).T\n",
    "\n",
    "disk_vmask = np.linalg.norm(UVW, axis=1) < 120\n",
    "xyz = xyz[disk_vmask]\n",
    "UVW = UVW[disk_vmask]"
   ]
  },
  {
   "cell_type": "markdown",
   "metadata": {},
   "source": [
    "---\n",
    "\n",
    "## Hexagons"
   ]
  },
  {
   "cell_type": "code",
   "execution_count": null,
   "metadata": {},
   "outputs": [],
   "source": [
    "def get_hexagons(h):\n",
    "    a = np.sqrt(3)/2 * h # inner side\n",
    "    \n",
    "    pas = dict() # keyed by \"ring\"\n",
    "    pas[0] = list()\n",
    "    pas[1] = list()\n",
    "    \n",
    "    pa0 = mpl.patches.RegularPolygon((0., 0.), numVertices=6, \n",
    "                                     radius=h, orientation=np.pi/2)\n",
    "    pas[0].append(pa0.get_verts())\n",
    "\n",
    "    for ang in np.arange(0, 360, 60)*u.deg:\n",
    "        # Ring 1\n",
    "        xy0 = 2*a * np.array([np.cos(ang+90*u.deg), np.sin(ang+90*u.deg)])\n",
    "        pa = mpl.patches.RegularPolygon(xy0, numVertices=6, \n",
    "                                        radius=h, orientation=np.pi/2)\n",
    "        pas[1].append(pa.get_verts())\n",
    "        \n",
    "    return pas"
   ]
  },
  {
   "cell_type": "code",
   "execution_count": null,
   "metadata": {},
   "outputs": [],
   "source": [
    "hexs = get_hexagons(hex_h)"
   ]
  },
  {
   "cell_type": "code",
   "execution_count": null,
   "metadata": {},
   "outputs": [],
   "source": [
    "fig, ax = plt.subplots(1, 1, figsize=(6, 6))\n",
    "\n",
    "for k in hexs.keys():\n",
    "    for pa in hexs[k]:\n",
    "        pa = mpl.patches.Polygon(pa, facecolor='none', \n",
    "                                 edgecolor='tab:green', \n",
    "                                 zorder=100)\n",
    "        ax.add_patch(pa)\n",
    "\n",
    "ax.plot(gal.u, gal.v, \n",
    "        marker=',', alpha=0.1, color='k',\n",
    "        linestyle='none', zorder=10)\n",
    "        \n",
    "lim = 1000\n",
    "ax.set_xlim(-lim, lim)\n",
    "ax.set_ylim(-lim, lim)\n",
    "\n",
    "ax.set_xlabel('$x$ [pc]')\n",
    "ax.set_ylabel('$y$ [pc]')"
   ]
  },
  {
   "cell_type": "markdown",
   "metadata": {},
   "source": [
    "---"
   ]
  },
  {
   "cell_type": "code",
   "execution_count": null,
   "metadata": {},
   "outputs": [],
   "source": [
    "# vmax = 1400\n",
    "# for k in hexs.keys():\n",
    "#     for b, pa in enumerate(hexs[k]):\n",
    "#         hex_mask = mpl.patches.Path(pa).contains_points(xyz[:, :2])\n",
    "#         print(hex_mask.sum())\n",
    "\n",
    "#         lim = 150\n",
    "#         bins = np.linspace(-lim, lim, 101)\n",
    "\n",
    "#         fig, axes = plt.subplots(2, 2, figsize=(8, 7.2))\n",
    "        \n",
    "#         for a, (i, j) in zip([0, 2, 3], [(0, 1), (0, 2), (1, 2)]):\n",
    "#             ax = axes.flat[a]\n",
    "#             H, xe, ye = np.histogram2d(UVW[hex_mask,i], UVW[hex_mask,j], bins=bins)\n",
    "#             ax.pcolormesh(xe, ye, H.T, \n",
    "#                           norm=mpl.colors.LogNorm(), \n",
    "#                           cmap='magma', vmin=1, vmax=vmax)\n",
    "#             ax.set_xlim(-lim, lim)\n",
    "#             ax.set_ylim(-lim, lim)\n",
    "        \n",
    "#         axes[0, 0].set_ylabel('$-v_y-220$')\n",
    "#         axes[1, 0].set_ylabel('$v_z$')\n",
    "#         axes[1, 0].set_xlabel('$v_x$')\n",
    "#         axes[1, 1].set_xlabel('$-v_y-220$')\n",
    "#         axes[0, 0].xaxis.set_ticklabels([])\n",
    "#         axes[1, 1].yaxis.set_ticklabels([])\n",
    "        \n",
    "#         # axes[0,1].set_visible(False)\n",
    "#         ax = axes[0,1]\n",
    "#         for k_ in hexs.keys():\n",
    "#             for pa_ in hexs[k_]:\n",
    "#                 pa_ = mpl.patches.Polygon(pa_, facecolor='none', edgecolor='#333333')\n",
    "#                 ax.add_patch(pa_)\n",
    "                \n",
    "#         ax.add_patch(mpl.patches.Polygon(pa, facecolor='#333333', edgecolor='#333333'))\n",
    "#         ax.set_xlim(-750, 750)\n",
    "#         ax.set_ylim(-750, 750)\n",
    "#         ax.set_xlabel('$x$ [pc]')\n",
    "#         ax.set_ylabel('$y$ [pc]')\n",
    "\n",
    "#         fig.tight_layout()\n",
    "#         fig.savefig('../plots/uvw/big-hex-{2}-{0}-{1:02d}.png'.format(k, b, 'all'), dpi=250)\n",
    "#         plt.close(fig)"
   ]
  },
  {
   "cell_type": "code",
   "execution_count": null,
   "metadata": {},
   "outputs": [],
   "source": [
    "_cyl = gal.represent_as('cylindrical')[disk_vmask]\n",
    "mask_r100 = (_cyl.rho < 100*u.pc) & (np.abs(_cyl.z) < 250*u.pc)\n",
    "mask_r300 = (_cyl.rho < 300*u.pc) & (np.abs(_cyl.z) < 500*u.pc)\n",
    "mask_r500 = (_cyl.rho < 500*u.pc) & (np.abs(_cyl.z) < 500*u.pc)\n",
    "mask_r100.sum(), mask_r500.sum()"
   ]
  },
  {
   "cell_type": "code",
   "execution_count": null,
   "metadata": {},
   "outputs": [],
   "source": [
    "def kde_obj(V_test, V_control, bw):\n",
    "    \"\"\"Note: this is barely tested...by eye\n",
    "    \n",
    "    X_test : (n, 3)\n",
    "    X_control : (m, 3)\n",
    "    \"\"\"\n",
    "    delta = V_test[None] - V_control[:, None] # (m, n, 3)\n",
    "    \n",
    "    # objective function\n",
    "    arg = np.sum(-0.5 * (delta / bw)**2, axis=-1) # (m, n)\n",
    "    scalar = logsumexp(arg, axis=0).sum()\n",
    "    \n",
    "    # gradient \n",
    "    _arg = arg - arg.max(axis=0)[None] # (m, n)\n",
    "    grad = np.sum(-delta / bw**2 * np.exp(_arg)[..., None], axis=0) / np.sum(np.exp(_arg), axis=0)[..., None]\n",
    "    \n",
    "    return scalar, grad"
   ]
  },
  {
   "cell_type": "code",
   "execution_count": null,
   "metadata": {},
   "outputs": [],
   "source": [
    "control_v = UVW[mask_r100][::24]\n",
    "test_v = UVW[mask_r300][::128]\n",
    "test_x = xyz[mask_r300][::128]\n",
    "\n",
    "control_v.shape, test_v.shape"
   ]
  },
  {
   "cell_type": "code",
   "execution_count": null,
   "metadata": {},
   "outputs": [],
   "source": [
    "_s, _g = kde_obj(test_v, control_v, bw=5.)"
   ]
  },
  {
   "cell_type": "code",
   "execution_count": null,
   "metadata": {},
   "outputs": [],
   "source": [
    "# test_v2 = test_v.copy()\n",
    "# fudge = .7\n",
    "# test_v2[612, 1] += fudge\n",
    "\n",
    "# _s2, _g2 = kde_obj(test_v2, anchor_v, bw=5.)"
   ]
  },
  {
   "cell_type": "code",
   "execution_count": null,
   "metadata": {},
   "outputs": [],
   "source": [
    "# (_s2 - _s) / fudge # check numerical derivative"
   ]
  },
  {
   "cell_type": "code",
   "execution_count": null,
   "metadata": {},
   "outputs": [],
   "source": [
    "# _g[612, 1]"
   ]
  },
  {
   "cell_type": "code",
   "execution_count": null,
   "metadata": {},
   "outputs": [],
   "source": [
    "def f_and_grad(p, V_test, dX_test, V_control, bw):\n",
    "    aij = np.array(p).reshape(3, 3)\n",
    "    s, g = kde_obj(V_test + dX_test.dot(aij), \n",
    "                   V_control, bw)\n",
    "    grad = (g[:, None] * dX_test[:, :, None]).sum(axis=0).reshape((9,))\n",
    "    return -s, -grad"
   ]
  },
  {
   "cell_type": "code",
   "execution_count": null,
   "metadata": {},
   "outputs": [],
   "source": [
    "p = 1e-3 * np.random.random(size=9)\n",
    "_s, _g = f_and_grad(p, test_v, test_x, control_v, bw=5.)"
   ]
  },
  {
   "cell_type": "code",
   "execution_count": null,
   "metadata": {},
   "outputs": [],
   "source": [
    "p2 = p.copy()\n",
    "p2[4] += 1e-5\n",
    "_s2, __ = f_and_grad(p2, test_v, test_x, control_v, bw=5.)"
   ]
  },
  {
   "cell_type": "code",
   "execution_count": null,
   "metadata": {},
   "outputs": [],
   "source": [
    "(_s2 - _s) / 1e-5"
   ]
  },
  {
   "cell_type": "code",
   "execution_count": null,
   "metadata": {},
   "outputs": [],
   "source": [
    "_g[4]"
   ]
  },
  {
   "cell_type": "code",
   "execution_count": null,
   "metadata": {},
   "outputs": [],
   "source": [
    "res = minimize(f_and_grad, x0=np.zeros(9), \n",
    "               method='L-BFGS-B', jac=True, \n",
    "               args=(test_v, test_x, control_v, 3.))"
   ]
  },
  {
   "cell_type": "code",
   "execution_count": null,
   "metadata": {},
   "outputs": [],
   "source": [
    "res"
   ]
  },
  {
   "cell_type": "code",
   "execution_count": null,
   "metadata": {},
   "outputs": [],
   "source": [
    "res.x"
   ]
  },
  {
   "cell_type": "code",
   "execution_count": null,
   "metadata": {},
   "outputs": [],
   "source": [
    "pred_v = test_v + test_x.dot(res.x.reshape(3, 3))\n",
    "pred_v.shape"
   ]
  },
  {
   "cell_type": "code",
   "execution_count": null,
   "metadata": {},
   "outputs": [],
   "source": [
    "fig, axes = plt.subplots(1, 3, figsize=(15, 5),\n",
    "                         sharex=True, sharey=True)\n",
    "\n",
    "axes[0].plot(control_v[:, 0], control_v[:, 1], \n",
    "             marker='.', alpha=0.1, ls='none')\n",
    "\n",
    "# axes[1].plot(test_v[:, 0], test_v[:, 1], \n",
    "#              marker='.', alpha=0.1, ls='none')\n",
    "\n",
    "# axes[2].plot(pred_v[:, 0], pred_v[:, 1], \n",
    "#              marker='.', alpha=0.1, ls='none')\n",
    "\n",
    "rand_idx = np.random.choice(mask_r500.sum(), size=10000, replace=False)\n",
    "_v = UVW[mask_r500][rand_idx]\n",
    "_x = xyz[mask_r500][rand_idx]\n",
    "_v_adj = _v + _x.dot(res.x.reshape(3, 3))\n",
    "axes[1].plot(_v[:, 0], _v[:, 1], \n",
    "             marker='.', alpha=0.1, ls='none')\n",
    "\n",
    "axes[2].plot(_v_adj[:, 0], _v_adj[:, 1], \n",
    "             marker='.', alpha=0.1, ls='none')\n",
    "\n",
    "axes[0].set_xlim(-150, 150)\n",
    "axes[0].set_ylim(-150, 150)"
   ]
  },
  {
   "cell_type": "code",
   "execution_count": null,
   "metadata": {},
   "outputs": [],
   "source": [
    "dv = _v.dot(res.x.reshape(3, 3))\n",
    "dvmag = np.linalg.norm(dv, axis=-1)\n",
    "fig, ax = plt.subplots(1, 1, figsize=(6, 6))\n",
    "ax.scatter(_v_adj[:, 0], _v_adj[:, 1], \n",
    "           # c=dv[:, 1], \n",
    "           c=dvmag,\n",
    "           cmap='viridis', vmin=0, vmax=2,\n",
    "           marker='.', linewidth=0, alpha=0.2)"
   ]
  },
  {
   "cell_type": "code",
   "execution_count": null,
   "metadata": {},
   "outputs": [],
   "source": [
    "vmax = 1400\n",
    "for name in ['data', 'adjusted']:\n",
    "    for k in hexs.keys():\n",
    "        for b, pa in enumerate(hexs[k]):\n",
    "            hex_mask = mpl.patches.Path(pa).contains_points(xyz[:, :2])\n",
    "            print(hex_mask.sum())\n",
    "\n",
    "            this_x = xyz[hex_mask]\n",
    "            this_v = UVW[hex_mask]\n",
    "            if name == 'adjusted':\n",
    "                fix_v = this_v + this_x.dot(res.x.reshape(3, 3))\n",
    "                the_v = fix_v\n",
    "            else:\n",
    "                the_v = this_v\n",
    "\n",
    "            lim = 150\n",
    "            bins = np.linspace(-lim, lim, 101)\n",
    "\n",
    "            fig, axes = plt.subplots(2, 2, figsize=(8, 7.2))\n",
    "\n",
    "            for a, (i, j) in zip([0, 2, 3], [(0, 1), (0, 2), (1, 2)]):\n",
    "                ax = axes.flat[a]\n",
    "                H, xe, ye = np.histogram2d(the_v[:,i], the_v[:,j], bins=bins)\n",
    "                ax.pcolormesh(xe, ye, H.T, \n",
    "                              norm=mpl.colors.LogNorm(), \n",
    "                              cmap='magma', vmin=1, vmax=vmax)\n",
    "                ax.set_xlim(-lim, lim)\n",
    "                ax.set_ylim(-lim, lim)\n",
    "\n",
    "            axes[0, 0].set_ylabel('$-v_y-220$')\n",
    "            axes[1, 0].set_ylabel('$v_z$')\n",
    "            axes[1, 0].set_xlabel('$v_x$')\n",
    "            axes[1, 1].set_xlabel('$-v_y-220$')\n",
    "            axes[0, 0].xaxis.set_ticklabels([])\n",
    "            axes[1, 1].yaxis.set_ticklabels([])\n",
    "\n",
    "            # axes[0,1].set_visible(False)\n",
    "            ax = axes[0,1]\n",
    "            for k_ in hexs.keys():\n",
    "                for pa_ in hexs[k_]:\n",
    "                    pa_ = mpl.patches.Polygon(pa_, facecolor='none', edgecolor='#333333')\n",
    "                    ax.add_patch(pa_)\n",
    "\n",
    "            ax.add_patch(mpl.patches.Polygon(pa, facecolor='#333333', edgecolor='#333333'))\n",
    "            ax.set_xlim(-750, 750)\n",
    "            ax.set_ylim(-750, 750)\n",
    "            ax.set_xlabel('$x$ [pc]')\n",
    "            ax.set_ylabel('$y$ [pc]')\n",
    "\n",
    "            fig.tight_layout()\n",
    "            fig.savefig('../plots/uvw/bighex-{2}-{0}-{1:02d}.png'.format(k, b, name), dpi=250)\n",
    "            plt.close(fig)"
   ]
  },
  {
   "cell_type": "markdown",
   "metadata": {},
   "source": [
    "```\n",
    "convert -delay 30 -loop 1 bighex-data-1-*.png bighex-data-ring.gif\n",
    "convert -delay 30 -loop 1 bighex-adjusted-1-*.png bighex-adjusted-ring.gif\n",
    "```"
   ]
  },
  {
   "cell_type": "code",
   "execution_count": null,
   "metadata": {},
   "outputs": [],
   "source": []
  },
  {
   "cell_type": "code",
   "execution_count": null,
   "metadata": {},
   "outputs": [],
   "source": []
  },
  {
   "cell_type": "code",
   "execution_count": null,
   "metadata": {},
   "outputs": [],
   "source": []
  }
 ],
 "metadata": {
  "kernelspec": {
   "display_name": "Python [default]",
   "language": "python",
   "name": "python3"
  },
  "language_info": {
   "codemirror_mode": {
    "name": "ipython",
    "version": 3
   },
   "file_extension": ".py",
   "mimetype": "text/x-python",
   "name": "python",
   "nbconvert_exporter": "python",
   "pygments_lexer": "ipython3",
   "version": "3.6.4"
  }
 },
 "nbformat": 4,
 "nbformat_minor": 2
}