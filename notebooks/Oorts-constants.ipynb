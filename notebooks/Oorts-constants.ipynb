{
 "cells": [
  {
   "cell_type": "code",
   "execution_count": null,
   "metadata": {},
   "outputs": [],
   "source": [
    "# Third-party\n",
    "from astropy.io import fits\n",
    "import astropy.coordinates as coord\n",
    "import astropy.units as u\n",
    "from astropy.table import Table\n",
    "import matplotlib as mpl\n",
    "import matplotlib.pyplot as plt\n",
    "import numpy as np\n",
    "%matplotlib inline\n",
    "\n",
    "from pyia import GaiaData"
   ]
  },
  {
   "cell_type": "code",
   "execution_count": null,
   "metadata": {},
   "outputs": [],
   "source": [
    "R0 = 8.3*u.kpc\n",
    "gc_frame = coord.Galactocentric(z_sun=0*u.pc, galcen_distance=R0)"
   ]
  },
  {
   "cell_type": "code",
   "execution_count": null,
   "metadata": {},
   "outputs": [],
   "source": [
    "# see FGK-select.ipynb\n",
    "# stype = 'fgk'\n",
    "stype = 'af'\n",
    "\n",
    "if stype == 'af':\n",
    "    vmax = 1E2\n",
    "    hex_h = 150 # pc\n",
    "    \n",
    "elif stype == 'fgk':\n",
    "    vmax = 3e2\n",
    "    hex_h = 120\n",
    "\n",
    "g = GaiaData('../data/{0}.fits'.format(stype))\n",
    "\n",
    "c = g.skycoord\n",
    "galcen = c.transform_to(gc_frame)"
   ]
  },
  {
   "cell_type": "code",
   "execution_count": null,
   "metadata": {},
   "outputs": [],
   "source": [
    "gal = c.galactic\n",
    "gal.set_representation_cls('cartesian')"
   ]
  },
  {
   "cell_type": "markdown",
   "metadata": {},
   "source": [
    "---\n",
    "\n",
    "## Hexagons"
   ]
  },
  {
   "cell_type": "code",
   "execution_count": null,
   "metadata": {},
   "outputs": [],
   "source": [
    "def get_hexagons(h):\n",
    "    a = np.sqrt(3)/2 * h # inner side\n",
    "    \n",
    "    pas = dict() # keyed by \"ring\"\n",
    "    pas[0] = list()\n",
    "    pas[1] = list()\n",
    "    pas[2] = list()\n",
    "    \n",
    "    pa0 = mpl.patches.RegularPolygon((0., 0.), numVertices=6, \n",
    "                                     radius=h, orientation=np.pi/2)\n",
    "    pas[0].append(pa0.get_verts())\n",
    "\n",
    "    for ang in np.arange(0, 360, 60)*u.deg:\n",
    "        # Ring 1\n",
    "        xy0 = 2*a * np.array([np.cos(ang+90*u.deg), np.sin(ang+90*u.deg)])\n",
    "        pa = mpl.patches.RegularPolygon(xy0, numVertices=6, \n",
    "                                        radius=h, orientation=np.pi/2)\n",
    "        pas[1].append(pa.get_verts())\n",
    "        \n",
    "        # Ring 2\n",
    "        xy0 = 4*a * np.array([np.cos(ang+90*u.deg), np.sin(ang+90*u.deg)])\n",
    "        pa = mpl.patches.RegularPolygon(xy0, numVertices=6, \n",
    "                                        radius=h, orientation=np.pi/2)\n",
    "        pas[2].append(pa.get_verts())\n",
    "        \n",
    "        xy0 = 3*h * np.array([np.cos(ang+120*u.deg), np.sin(ang+120*u.deg)])\n",
    "        pa = mpl.patches.RegularPolygon(xy0, numVertices=6, \n",
    "                                        radius=h, orientation=np.pi/2)\n",
    "        pas[2].append(pa.get_verts())\n",
    "        \n",
    "    return pas"
   ]
  },
  {
   "cell_type": "code",
   "execution_count": null,
   "metadata": {},
   "outputs": [],
   "source": [
    "hexs = get_hexagons(hex_h)"
   ]
  },
  {
   "cell_type": "code",
   "execution_count": null,
   "metadata": {},
   "outputs": [],
   "source": [
    "fig, ax = plt.subplots(1, 1, figsize=(6, 6))\n",
    "\n",
    "for k in hexs.keys():\n",
    "    for pa in hexs[k]:\n",
    "        pa = mpl.patches.Polygon(pa, facecolor='none', edgecolor='#333333')\n",
    "        ax.add_patch(pa)\n",
    "\n",
    "        \n",
    "ax.plot(gal.u, gal.v,\n",
    "        marker=',', alpha=0.1, color='k',\n",
    "        linestyle='none', zorder=100)\n",
    "        \n",
    "lim = 1000\n",
    "ax.set_xlim(-lim, lim)\n",
    "ax.set_ylim(-lim, lim)\n",
    "\n",
    "ax.set_xlabel('$x$ [pc]')\n",
    "ax.set_ylabel('$y$ [pc]')"
   ]
  },
  {
   "cell_type": "code",
   "execution_count": null,
   "metadata": {},
   "outputs": [],
   "source": [
    "fig, axes = plt.subplots(1, 2, figsize=(12, 5))\n",
    "axes[0].hist(c.distance.value, bins=np.linspace(0, 500, 128));\n",
    "axes[1].hist(gal.w.value, bins=np.linspace(-250, 250, 101));"
   ]
  },
  {
   "cell_type": "markdown",
   "metadata": {},
   "source": [
    "---"
   ]
  },
  {
   "cell_type": "code",
   "execution_count": null,
   "metadata": {},
   "outputs": [],
   "source": [
    "cyl = gal.transform_to(gc_frame)\n",
    "cyl.set_representation_cls('cylindrical')\n",
    "\n",
    "xyz = np.vstack((gal.u.to(u.pc).value, \n",
    "                 gal.v.to(u.pc).value,\n",
    "                 gal.w.to(u.pc).value)).T\n",
    "\n",
    "UVW = np.vstack((cyl.d_rho.to(u.km/u.s).value, \n",
    "                 (cyl.rho * cyl.d_phi).to(u.km/u.s, u.dimensionless_angles()).value, \n",
    "                 cyl.d_z.to(u.km/u.s).value)).T"
   ]
  },
  {
   "cell_type": "code",
   "execution_count": null,
   "metadata": {},
   "outputs": [],
   "source": [
    "# testing\n",
    "hex_mask = mpl.patches.Path(hexs[0][0]).contains_points(xyz[:, :2])"
   ]
  },
  {
   "cell_type": "code",
   "execution_count": null,
   "metadata": {},
   "outputs": [],
   "source": [
    "from scipy.stats import binned_statistic"
   ]
  },
  {
   "cell_type": "code",
   "execution_count": null,
   "metadata": {},
   "outputs": [],
   "source": [
    "fig, axes = plt.subplots(1, 2, figsize=(12, 6))\n",
    "\n",
    "_rho = cyl.rho.value[hex_mask]\n",
    "axes[0].plot(_rho, UVW[hex_mask, 1],\n",
    "             marker=',', linestyle='none')\n",
    "# stat = binned_statistic(_rho, UVW[hex_mask, 1], \n",
    "#                         bins=np.linspace(_rho.min(), _rho.max(), 16), \n",
    "#                         statistic='mean')\n",
    "# axes[0].plot(0.5*(stat.bin_edges[:-1]+stat.bin_edges[1:]), stat.statistic)\n",
    "xx = np.linspace(8150, 8450, 15)\n",
    "axes[0].plot(xx, 5/200 * (xx - 8300) - 185)\n",
    "axes[0].set_ylim(-300, -100)\n",
    "\n",
    "_phi = cyl.phi.wrap_at(2*np.pi*u.radian).radian[hex_mask]\n",
    "axes[1].plot(_phi, UVW[hex_mask, 0],\n",
    "             marker=',', linestyle='none')\n",
    "\n",
    "stat = binned_statistic(_phi, UVW[hex_mask, 0], \n",
    "                        bins=np.linspace(_phi.min(), _phi.max(), 16), \n",
    "                        statistic='mean')\n",
    "axes[1].plot(0.5*(stat.bin_edges[:-1]+stat.bin_edges[1:]), stat.statistic)\n",
    "axes[1].set_ylim(-10, 10)"
   ]
  },
  {
   "cell_type": "markdown",
   "metadata": {},
   "source": [
    "Bovy: A = ~15, B = ~-11"
   ]
  },
  {
   "cell_type": "code",
   "execution_count": null,
   "metadata": {},
   "outputs": [],
   "source": [
    "dVphi_dR = 5*u.km/u.s / (200*u.pc)\n",
    "# dVR_dphi = -2*u.km/u.s / (0.02*u.radian)\n",
    "dVR_dphi = np.polyfit(0.5*(stat.bin_edges[:-1]+stat.bin_edges[1:]), \n",
    "                      stat.statistic, deg=1)[-1] * u.km/u.s / u.radian\n",
    "\n",
    "_R = cyl.rho.value[hex_mask]\n",
    "statR = binned_statistic(_R, UVW[hex_mask, 0], \n",
    "                         bins=np.linspace(_R.min(), _R.max(), 16), \n",
    "                         statistic='mean')\n",
    "dVR_dR = np.polyfit(0.5*(statR.bin_edges[:-1]+statR.bin_edges[1:]), \n",
    "                    statR.statistic, deg=1)[-1] * u.km/u.s / u.kpc\n",
    "\n",
    "statphi = binned_statistic(_phi, UVW[hex_mask, 1], \n",
    "                           bins=np.linspace(_phi.min(), _phi.max(), 16), \n",
    "                           statistic='mean')\n",
    "dVphi_dphi = np.polyfit(0.5*(statphi.bin_edges[:-1]+statphi.bin_edges[1:]), \n",
    "                        statphi.statistic, deg=1)[-1] * u.km/u.s / u.radian\n",
    "\n",
    "# - sign's on A,B because phi increases opposite way as Oort defines!\n",
    "with u.set_enabled_equivalencies(u.dimensionless_angles()):\n",
    "    A = -0.5 * (np.mean(UVW[hex_mask, 1])*u.km/u.s / R0 - dVphi_dR - dVR_dphi/R0)\n",
    "    B = -0.5 * (-np.mean(UVW[hex_mask, 1])*u.km/u.s / R0 - dVphi_dR + dVR_dphi/R0)\n",
    "    C = 0.5 * (-np.mean(UVW[hex_mask, 0])*u.km/u.s / R0 + dVR_dR - dVphi_dphi/R0)\n",
    "    D = 0.5 * (np.mean(UVW[hex_mask, 0])*u.km/u.s / R0 + dVR_dR + dVphi_dphi/R0)"
   ]
  },
  {
   "cell_type": "code",
   "execution_count": null,
   "metadata": {},
   "outputs": [],
   "source": [
    "A"
   ]
  },
  {
   "cell_type": "code",
   "execution_count": null,
   "metadata": {},
   "outputs": [],
   "source": [
    "B"
   ]
  },
  {
   "cell_type": "code",
   "execution_count": null,
   "metadata": {},
   "outputs": [],
   "source": [
    "C"
   ]
  },
  {
   "cell_type": "code",
   "execution_count": null,
   "metadata": {},
   "outputs": [],
   "source": [
    "D"
   ]
  },
  {
   "cell_type": "code",
   "execution_count": null,
   "metadata": {},
   "outputs": [],
   "source": []
  }
 ],
 "metadata": {
  "kernelspec": {
   "display_name": "Python [default]",
   "language": "python",
   "name": "python3"
  },
  "language_info": {
   "codemirror_mode": {
    "name": "ipython",
    "version": 3
   },
   "file_extension": ".py",
   "mimetype": "text/x-python",
   "name": "python",
   "nbconvert_exporter": "python",
   "pygments_lexer": "ipython3",
   "version": "3.6.4"
  }
 },
 "nbformat": 4,
 "nbformat_minor": 2
}