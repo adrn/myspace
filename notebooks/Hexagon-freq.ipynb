{
 "cells": [
  {
   "cell_type": "code",
   "execution_count": null,
   "metadata": {},
   "outputs": [],
   "source": [
    "# Third-party\n",
    "from astropy.io import fits\n",
    "import astropy.coordinates as coord\n",
    "import astropy.units as u\n",
    "from astropy.table import Table\n",
    "import matplotlib as mpl\n",
    "import matplotlib.pyplot as plt\n",
    "import numpy as np\n",
    "%matplotlib inline\n",
    "import h5py\n",
    "\n",
    "from pyia import GaiaData\n",
    "\n",
    "import gala.coordinates as gc\n",
    "import gala.dynamics as gd\n",
    "import gala.integrate as gi\n",
    "import gala.potential as gp\n",
    "from gala.units import galactic\n",
    "import superfreq as sf"
   ]
  },
  {
   "cell_type": "code",
   "execution_count": null,
   "metadata": {},
   "outputs": [],
   "source": [
    "gc_frame = coord.Galactocentric(z_sun=0*u.pc, galcen_distance=8.3*u.kpc)"
   ]
  },
  {
   "cell_type": "code",
   "execution_count": null,
   "metadata": {},
   "outputs": [],
   "source": [
    "# see FGK-select.ipynb\n",
    "g = GaiaData('../data/fgk.fits')\n",
    "c = all_g.skycoord\n",
    "galcen = c.transform_to(gc_frame)"
   ]
  },
  {
   "cell_type": "code",
   "execution_count": null,
   "metadata": {},
   "outputs": [],
   "source": [
    "gal = c.galactic\n",
    "gal.set_representation_cls('cartesian')"
   ]
  },
  {
   "cell_type": "markdown",
   "metadata": {},
   "source": [
    "---\n",
    "\n",
    "## Hexagons"
   ]
  },
  {
   "cell_type": "code",
   "execution_count": null,
   "metadata": {},
   "outputs": [],
   "source": [
    "# internal triangle side length\n",
    "h = 120. # pc"
   ]
  },
  {
   "cell_type": "code",
   "execution_count": null,
   "metadata": {},
   "outputs": [],
   "source": [
    "def get_hexagons(h):\n",
    "    a = np.sqrt(3)/2 * h # inner side\n",
    "    \n",
    "    pas = dict() # keyed by \"ring\"\n",
    "    pas[0] = list()\n",
    "    pas[1] = list()\n",
    "    pas[2] = list()\n",
    "#     pas[3] = list()\n",
    "    \n",
    "    pa0 = mpl.patches.RegularPolygon((0., 0.), numVertices=6, \n",
    "                                     radius=h, orientation=np.pi/2)\n",
    "    pas[0].append(pa0.get_verts())\n",
    "\n",
    "    for ang in np.arange(0, 360, 60)*u.deg:\n",
    "        # Ring 1\n",
    "        xy0 = 2*a * np.array([np.cos(ang+90*u.deg), np.sin(ang+90*u.deg)])\n",
    "        pa = mpl.patches.RegularPolygon(xy0, numVertices=6, \n",
    "                                        radius=h, orientation=np.pi/2)\n",
    "        pas[1].append(pa.get_verts())\n",
    "        \n",
    "        # Ring 2\n",
    "        xy0 = 4*a * np.array([np.cos(ang+90*u.deg), np.sin(ang+90*u.deg)])\n",
    "        pa = mpl.patches.RegularPolygon(xy0, numVertices=6, \n",
    "                                        radius=h, orientation=np.pi/2)\n",
    "        pas[2].append(pa.get_verts())\n",
    "        \n",
    "        xy0 = 3*h * np.array([np.cos(ang+120*u.deg), np.sin(ang+120*u.deg)])\n",
    "        pa = mpl.patches.RegularPolygon(xy0, numVertices=6, \n",
    "                                        radius=h, orientation=np.pi/2)\n",
    "        pas[2].append(pa.get_verts())\n",
    "        \n",
    "    return pas"
   ]
  },
  {
   "cell_type": "code",
   "execution_count": null,
   "metadata": {},
   "outputs": [],
   "source": [
    "hexs = get_hexagons(h)"
   ]
  },
  {
   "cell_type": "code",
   "execution_count": null,
   "metadata": {},
   "outputs": [],
   "source": [
    "fig, ax = plt.subplots(1, 1, figsize=(6, 6))\n",
    "\n",
    "for k in hexs.keys():\n",
    "    for pa in hexs[k]:\n",
    "        pa = mpl.patches.Polygon(pa, facecolor='none', edgecolor='#333333')\n",
    "        ax.add_patch(pa)\n",
    "\n",
    "        \n",
    "ax.plot(gal.u, gal.v, \n",
    "        marker=',', alpha=0.1, color='k',\n",
    "        linestyle='none', zorder=100)\n",
    "        \n",
    "lim = 650\n",
    "ax.set_xlim(-lim, lim)\n",
    "ax.set_ylim(-lim, lim)\n",
    "\n",
    "ax.set_xlabel('$x$ [pc]')\n",
    "ax.set_ylabel('$y$ [pc]')"
   ]
  },
  {
   "cell_type": "markdown",
   "metadata": {},
   "source": [
    "## Start with just inner hexagon:"
   ]
  },
  {
   "cell_type": "code",
   "execution_count": null,
   "metadata": {},
   "outputs": [],
   "source": [
    "xyz = np.vstack((gal.u.to(u.pc).value, \n",
    "                 gal.v.to(u.pc).value,\n",
    "                 gal.w.to(u.pc).value)).T"
   ]
  },
  {
   "cell_type": "code",
   "execution_count": null,
   "metadata": {},
   "outputs": [],
   "source": [
    "pa = hexs[0][0]\n",
    "hex_mask = mpl.patches.Path(pa).contains_points(xyz[:, :2])"
   ]
  },
  {
   "cell_type": "code",
   "execution_count": null,
   "metadata": {},
   "outputs": [],
   "source": [
    "hex_mask.sum()"
   ]
  },
  {
   "cell_type": "markdown",
   "metadata": {},
   "source": [
    "See `scripts/compute-freqs.py`:"
   ]
  },
  {
   "cell_type": "code",
   "execution_count": null,
   "metadata": {},
   "outputs": [],
   "source": [
    "with h5py.File('../cache/freqs.hdf5') as f:\n",
    "    freqs = f['freqs'][:]"
   ]
  },
  {
   "cell_type": "code",
   "execution_count": null,
   "metadata": {},
   "outputs": [],
   "source": [
    "freq_qual_mask = ((freqs[:, 1] > 0.01) & # prograde\n",
    "                  (freqs[:, 0] < 0.2) & (freqs[:, 1] < 0.2) & (freqs[:, 2] < 0.2))# reasonable values\n",
    "z_mask = (np.abs(galcen.z) < 300*u.pc)\n",
    "\n",
    "high_z_mask = (np.abs(galcen.z) > 300*u.pc)"
   ]
  },
  {
   "cell_type": "code",
   "execution_count": null,
   "metadata": {},
   "outputs": [],
   "source": [
    "hex_freqs = np.abs(freqs[hex_mask & freq_qual_mask & freq_qual_mask])"
   ]
  },
  {
   "cell_type": "code",
   "execution_count": null,
   "metadata": {},
   "outputs": [],
   "source": [
    "bins = np.linspace(0, 500, 128)\n",
    "fbins = np.linspace(0.01, 0.12, 128)\n",
    "fig, axes = plt.subplots(3, 2, figsize=(12, 8), sharex='col', sharey=True)\n",
    "\n",
    "for i in range(3):\n",
    "    axes[i, 0].hist(np.abs(hex_freqs[:, i]), bins=fbins);\n",
    "    \n",
    "    P = np.abs(2*np.pi / (hex_freqs[:, i] / u.Myr))\n",
    "    axes[i, 1].hist(P[np.isfinite(P)], bins=bins);\n",
    "\n",
    "axes[i, 0].set_xlim(0.01, 0.12)\n",
    "axes[i, 1].set_xlim(0, 350)\n",
    "    \n",
    "fig.tight_layout()"
   ]
  },
  {
   "cell_type": "code",
   "execution_count": null,
   "metadata": {},
   "outputs": [],
   "source": [
    "# bins = np.linspace(0.02, 0.12, 196)\n",
    "# xlims = [(0.025, 0.07), None, (0.025, 0.07), (0.015, 0.05)]\n",
    "# ylims = [(0.015, 0.044), None, (0.02, 0.12), (0.02, 0.12)]\n",
    "\n",
    "# for k in hexs.keys():\n",
    "#     for b, pa in enumerate(hexs[k]):\n",
    "#         hex_mask = mpl.patches.Path(pa).contains_points(xyz[:, :2])\n",
    "#         print(hex_mask.sum())\n",
    "#         hex_freqs = np.abs(freqs[hex_mask & (freqs[:, 1] > 0.02) & # prograde\n",
    "#                                  (freqs[:, 0] < 0.12) & (freqs[:, 1] < 0.12) & \n",
    "#                                  (freqs[:, 2] < 0.12)])\n",
    "        \n",
    "#         fig, axes = plt.subplots(2, 2, figsize=(8, 7.2))\n",
    "\n",
    "#         for a, (i, j) in zip([0, 2, 3], [(0, 1), (0, 2), (1, 2)]):\n",
    "#             ax = axes.flat[a]\n",
    "#             H, xe, ye = np.histogram2d(hex_freqs[:,i], hex_freqs[:,j], bins=bins)\n",
    "#             ax.pcolormesh(xe, ye, H.T, \n",
    "#                           norm=mpl.colors.LogNorm(), \n",
    "#                           cmap='magma', vmin=1, vmax=3E2)\n",
    "\n",
    "#             ax.set_xlim(xlims[a])\n",
    "#             ax.set_ylim(ylims[a])\n",
    "\n",
    "#         axes[0, 0].set_ylabel(r'$\\Omega_\\phi$')\n",
    "#         axes[1, 0].set_ylabel(r'$\\Omega_z$')\n",
    "#         axes[1, 0].set_xlabel(r'$\\Omega_R$')\n",
    "#         axes[1, 1].set_xlabel(r'$\\Omega_\\phi$')\n",
    "\n",
    "#         # axes[0,1].set_visible(False)\n",
    "#         ax = axes[0,1]\n",
    "#         for k_ in hexs.keys():\n",
    "#             for pa_ in hexs[k_]:\n",
    "#                 pa_ = mpl.patches.Polygon(pa_, facecolor='none', edgecolor='#333333')\n",
    "#                 ax.add_patch(pa_)\n",
    "\n",
    "#         ax.add_patch(mpl.patches.Polygon(pa, facecolor='#333333', edgecolor='#333333'))\n",
    "#         ax.set_xlim(-500, 500)\n",
    "#         ax.set_ylim(-500, 500)\n",
    "#         ax.set_xlabel('$x$ [pc]')\n",
    "#         ax.set_ylabel('$y$ [pc]')\n",
    "\n",
    "#         fig.tight_layout()\n",
    "\n",
    "#         fig.savefig('../plots/freq/{0}-{1:02d}.png'.format(k, b), dpi=250)\n",
    "#         plt.close(fig)"
   ]
  },
  {
   "cell_type": "code",
   "execution_count": null,
   "metadata": {},
   "outputs": [],
   "source": []
  },
  {
   "cell_type": "code",
   "execution_count": null,
   "metadata": {},
   "outputs": [],
   "source": [
    "fig, axes = plt.subplots(1, 2, figsize=(10, 5), sharex=True, sharey=True)\n",
    "\n",
    "ax = axes[0]\n",
    "hex_freqs = np.abs(freqs[hex_mask & freq_qual_mask & z_mask])\n",
    "ax.plot(hex_freqs[:, 2] / hex_freqs[:, 0],\n",
    "        hex_freqs[:, 1] / hex_freqs[:, 0], \n",
    "        marker='.', linestyle='none', alpha=0.2)\n",
    "ax.set_xlim(0.75, 2)\n",
    "ax.set_ylim(0.65, 0.75)\n",
    "\n",
    "\n",
    "ax = axes[1]\n",
    "hex_freqs = np.abs(freqs[hex_mask & freq_qual_mask & high_z_mask])\n",
    "ax.plot(hex_freqs[:, 2] / hex_freqs[:, 0],\n",
    "        hex_freqs[:, 1] / hex_freqs[:, 0], \n",
    "        marker='.', linestyle='none', alpha=0.2)\n",
    "ax.set_xlim(0.75, 2)\n",
    "ax.set_ylim(0.65, 0.75)\n",
    "\n",
    "fig.tight_layout()"
   ]
  },
  {
   "cell_type": "code",
   "execution_count": null,
   "metadata": {
    "scrolled": true
   },
   "outputs": [],
   "source": [
    "xbins = np.linspace(1.1, 2, 101)\n",
    "ybins = np.linspace(0.69, 0.74, 101)\n",
    "\n",
    "for k in hexs.keys():\n",
    "    for b, pa in enumerate(hexs[k]):\n",
    "        hex_mask = mpl.patches.Path(pa).contains_points(xyz[:, :2])\n",
    "        hex_freqs = np.abs(freqs[hex_mask & freq_qual_mask & z_mask])\n",
    "        print(hex_freqs.shape[0])\n",
    "        \n",
    "        fig, axes = plt.subplots(1, 2, figsize=(10, 4.8))\n",
    "\n",
    "        xx = hex_freqs[:, 2] / hex_freqs[:, 0]\n",
    "        yy = hex_freqs[:, 1] / hex_freqs[:, 0]\n",
    "\n",
    "        H, xe, ye = np.histogram2d(xx, yy, bins=(xbins, ybins))\n",
    "        ax = axes[0]\n",
    "        ax.pcolormesh(xe, ye, H.T, \n",
    "                      norm=mpl.colors.LogNorm(), \n",
    "                      cmap='Greys', vmin=1, vmax=6e1)\n",
    "\n",
    "        ax.set_xlabel(r'$\\Omega_z / \\Omega_R$')\n",
    "        ax.set_ylabel(r'$\\Omega_\\phi / \\Omega_R$')\n",
    "\n",
    "        ax = axes[1]\n",
    "        for k_ in hexs.keys():\n",
    "            for pa_ in hexs[k_]:\n",
    "                pa_ = mpl.patches.Polygon(pa_, facecolor='none', edgecolor='#333333')\n",
    "                ax.add_patch(pa_)\n",
    "\n",
    "        ax.add_patch(mpl.patches.Polygon(pa, facecolor='#333333', edgecolor='#333333'))\n",
    "        ax.set_xlim(-520, 520)\n",
    "        ax.set_ylim(-520, 520)\n",
    "        ax.set_xlabel('$x$ [pc]')\n",
    "        ax.set_ylabel('$y$ [pc]')\n",
    "        ax.set_aspect('equal', 'datalim')\n",
    "        \n",
    "        fig.tight_layout()\n",
    "\n",
    "        fig.savefig('../plots/freq/{0}-{1:02d}.png'.format(k, b), dpi=250)\n",
    "        plt.close(fig)\n",
    "\n",
    "#         break\n",
    "#     break"
   ]
  },
  {
   "cell_type": "markdown",
   "metadata": {},
   "source": [
    "```\n",
    "convert -delay 30 -loop 0 1-*.png ring1.gif\n",
    "convert -delay 30 -loop 0 2-*.png ring2.gif\n",
    "convert -delay 30 -loop 1 *.png all.gif\n",
    "```"
   ]
  },
  {
   "cell_type": "code",
   "execution_count": null,
   "metadata": {},
   "outputs": [],
   "source": [
    "print('''convert -delay 30 -loop 0 1-*.png ring1.gif\n",
    "convert -delay 30 -loop 0 2-*.png ring2.gif\n",
    "convert -delay 30 -loop 1 *.png all.gif''')\n",
    "\n",
    "\n",
    "line_cmd = 'convert -delay 30 -loop 0 {0} full-line{1}.gif'\n",
    "for k, a in enumerate([[(2,0),(1,0),(0,0),(1,3),(2,6)],\n",
    "                       [(2,2),(1,1),(0,0),(1,4),(2,8)],\n",
    "                       [(2,4),(1,2),(0,0),(1,5),(2,10)]]):\n",
    "    print(line_cmd.format(' '.join(['{0}-{1:02d}.png'.format(i, j) for i, j in a]), k))"
   ]
  },
  {
   "cell_type": "markdown",
   "metadata": {},
   "source": [
    "## Bin in radius, azimuth?"
   ]
  },
  {
   "cell_type": "code",
   "execution_count": null,
   "metadata": {},
   "outputs": [],
   "source": [
    "cyl = galcen.represent_as('cylindrical')"
   ]
  },
  {
   "cell_type": "code",
   "execution_count": null,
   "metadata": {},
   "outputs": [],
   "source": [
    "Omp = (33.15*u.km/u.s/u.kpc).to(1/u.Myr).value\n",
    "OmR_median = np.median(hex_freqs[:, 0])"
   ]
  },
  {
   "cell_type": "code",
   "execution_count": null,
   "metadata": {
    "scrolled": true
   },
   "outputs": [],
   "source": [
    "xbins = np.linspace(1.1, 2, 101)\n",
    "ybins = np.linspace(0.69, 0.74, 101)\n",
    "\n",
    "bins = np.arange(7.7, 8.8+1e-3, 0.1)\n",
    "# bins = np.arange(8.1, 8.3+1e-3, 0.1)\n",
    "# bins = np.arange(7.5, 7.7+1e-3, 0.1)\n",
    "\n",
    "for k, l, r in zip(range(len(bins)), bins[:-1], bins[1:]):\n",
    "    mask = (cyl.rho >= l*u.kpc) & (cyl.rho <= r*u.kpc)\n",
    "    hex_freqs = np.abs(freqs[mask & freq_qual_mask & z_mask])\n",
    "    N = hex_freqs.shape[0]\n",
    "    print(N)\n",
    "\n",
    "    fig, ax = plt.subplots(1, 1, figsize=(5, 5))\n",
    "\n",
    "    xx = hex_freqs[:, 2] / hex_freqs[:, 0]\n",
    "    yy = hex_freqs[:, 1] / hex_freqs[:, 0]\n",
    "\n",
    "    H, xe, ye = np.histogram2d(xx, yy, bins=(xbins, ybins))\n",
    "    H = H * 2e5 / H.sum()\n",
    "    ax.pcolormesh(xe, ye, H.T, \n",
    "                  norm=mpl.colors.LogNorm(), \n",
    "                  cmap='Greys', vmin=1, vmax=2e2)\n",
    "    \n",
    "#     for m in range(1, 15+1):\n",
    "#         val = -1/m + Omp/OmR_median\n",
    "#         ax.axhline(val, marker='')\n",
    "        \n",
    "#         if val < 0.74 and val > 0.69:\n",
    "#             ax.text(1.11, val, '{0}:1'.format(m), fontsize=14)\n",
    "            \n",
    "#         print(-1/m + Omp/OmR_median)\n",
    "\n",
    "    ax.set_title(r'${0:.1f} < R < {1:.1f}$'.format(l, r))\n",
    "\n",
    "    ax.set_xlabel(r'$\\Omega_z / \\Omega_R$')\n",
    "    ax.set_ylabel(r'$\\Omega_\\phi / \\Omega_R$')\n",
    "    ax.set_xlim(1.1, 2)\n",
    "    ax.set_ylim(0.69, 0.74)\n",
    "\n",
    "    fig.tight_layout()\n",
    "\n",
    "    fig.savefig('../plots/freq/R-bin-{0}.png'.format(k), dpi=250)\n",
    "    plt.close(fig)\n",
    "    \n",
    "fns = ['R-bin-{0}.png'.format(k) for k in range(len(bins)-1)]\n",
    "fns = fns + fns[1:-1][::-1]\n",
    "line_cmd = 'convert -delay 30 -loop 0 {0} R-anim.gif'.format(' '.join(fns))\n",
    "print(line_cmd)"
   ]
  },
  {
   "cell_type": "code",
   "execution_count": null,
   "metadata": {},
   "outputs": [],
   "source": [
    "fns = ['R-bin-{0}.png'.format(k) for k in range(len(bins)-1)]\n",
    "fns = fns + fns[1:-1][::-1]\n",
    "line_cmd = 'convert -delay 30 -loop 0 {0} R-anim.gif'.format(' '.join(fns))\n",
    "print(line_cmd)"
   ]
  },
  {
   "cell_type": "code",
   "execution_count": null,
   "metadata": {},
   "outputs": [],
   "source": [
    "xbins = np.linspace(1.1, 2, 101)\n",
    "ybins = np.linspace(0.69, 0.74, 101)\n",
    "\n",
    "bins = np.arange(175, 185+1e-3, 1)\n",
    "\n",
    "for k, l, r in zip(range(len(bins)), bins[:-1], bins[1:]):\n",
    "    mask = (cyl.phi.wrap_at(360*u.deg) >= l*u.deg) & (cyl.phi.wrap_at(360*u.deg) <= r*u.deg)\n",
    "    hex_freqs = np.abs(freqs[mask & freq_qual_mask & z_mask])\n",
    "    N = hex_freqs.shape[0]\n",
    "    print(N)\n",
    "\n",
    "    fig, ax = plt.subplots(1, 1, figsize=(5, 5))\n",
    "\n",
    "    xx = hex_freqs[:, 2] / hex_freqs[:, 0]\n",
    "    yy = hex_freqs[:, 1] / hex_freqs[:, 0]\n",
    "\n",
    "    H, xe, ye = np.histogram2d(xx, yy, bins=(xbins, ybins))\n",
    "    H = H * 2e5 / H.sum()\n",
    "    ax.pcolormesh(xe, ye, H.T, \n",
    "                  norm=mpl.colors.LogNorm(), \n",
    "                  cmap='Greys', vmin=1, vmax=2e2)\n",
    "\n",
    "    ax.set_xlabel(r'$\\Omega_z / \\Omega_R$')\n",
    "    ax.set_ylabel(r'$\\Omega_\\phi / \\Omega_R$')\n",
    "    ax.set_xlim(1.1, 2)\n",
    "    ax.set_ylim(0.69, 0.74)\n",
    "\n",
    "    fig.tight_layout()\n",
    "\n",
    "    fig.savefig('../plots/freq/phi-bin-{0}.png'.format(k), dpi=250)\n",
    "    plt.close(fig)"
   ]
  },
  {
   "cell_type": "code",
   "execution_count": null,
   "metadata": {},
   "outputs": [],
   "source": []
  },
  {
   "cell_type": "code",
   "execution_count": null,
   "metadata": {},
   "outputs": [],
   "source": []
  }
 ],
 "metadata": {
  "kernelspec": {
   "display_name": "Python [default]",
   "language": "python",
   "name": "python3"
  },
  "language_info": {
   "codemirror_mode": {
    "name": "ipython",
    "version": 3
   },
   "file_extension": ".py",
   "mimetype": "text/x-python",
   "name": "python",
   "nbconvert_exporter": "python",
   "pygments_lexer": "ipython3",
   "version": "3.6.4"
  }
 },
 "nbformat": 4,
 "nbformat_minor": 2
}