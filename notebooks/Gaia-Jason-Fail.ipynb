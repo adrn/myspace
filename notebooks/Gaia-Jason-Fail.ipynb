{
 "cells": [
  {
   "cell_type": "code",
   "execution_count": null,
   "metadata": {
    "ExecuteTime": {
     "end_time": "2020-11-25T01:14:06.518062Z",
     "start_time": "2020-11-25T01:14:01.709229Z"
    }
   },
   "outputs": [],
   "source": [
    "import numpy as np\n",
    "import matplotlib.pyplot as plt\n",
    "import matplotlib.cm as cm\n",
    "import os\n",
    "import astropy.coordinates as coord\n",
    "import astropy.units as u\n",
    "from astropy.table import Table, hstack\n",
    "from myspace import MySpace\n",
    "from sklearn.mixture import GaussianMixture"
   ]
  },
  {
   "cell_type": "code",
   "execution_count": null,
   "metadata": {
    "ExecuteTime": {
     "end_time": "2020-11-25T01:39:20.654104Z",
     "start_time": "2020-11-25T01:39:20.649185Z"
    }
   },
   "outputs": [],
   "source": [
    "import astropy\n",
    "import sklearn\n",
    "import jax\n",
    "import numpy\n",
    "import scipy\n",
    "\n",
    "print('astropy', astropy.__version__)\n",
    "print('scikit-learn', sklearn.__version__)\n",
    "print('jax', jax.__version__)\n",
    "print('numpy', numpy.__version__)\n",
    "print('scipy', scipy.__version__)"
   ]
  },
  {
   "cell_type": "code",
   "execution_count": null,
   "metadata": {
    "ExecuteTime": {
     "end_time": "2020-11-25T01:14:47.216783Z",
     "start_time": "2020-11-25T01:14:35.652000Z"
    }
   },
   "outputs": [],
   "source": [
    "gaia = Table.read('../data/RV-all-result.fits', format='fits')"
   ]
  },
  {
   "cell_type": "code",
   "execution_count": null,
   "metadata": {
    "ExecuteTime": {
     "end_time": "2020-11-25T01:15:00.422414Z",
     "start_time": "2020-11-25T01:14:58.899103Z"
    }
   },
   "outputs": [],
   "source": [
    "# qindx=(gaia['bp_rp']<1.5)*(gaia['phot_g_mean_mag']<14.5)*(gaia['parallax']/gaia['parallax_error']>4.)*(gaia['parallax_error']<0.1)*(gaia['visibility_periods_used']>5.)*(gaia['phot_bp_rp_excess_factor']<1.3)*(gaia['phot_bp_rp_excess_factor']>1.172)\n",
    "qindx = gaia['parallax'] > 0.5"
   ]
  },
  {
   "cell_type": "code",
   "execution_count": null,
   "metadata": {
    "ExecuteTime": {
     "end_time": "2020-11-25T01:15:00.450026Z",
     "start_time": "2020-11-25T01:15:00.424677Z"
    }
   },
   "outputs": [],
   "source": [
    "def make_anim2(XX,VV,tensorsx,myspacex,tensorsxv,myspacexv,gs=150):\n",
    "    \n",
    "    \n",
    "    _cyl = gal.represent_as('cylindrical')\n",
    "    mask2_r500 = (_cyl.rho < 500*u.pc) & (np.abs(_cyl.z) < 500*u.pc) & (_cyl.rho > 200*u.pc)\n",
    "    disk_vmask2=(np.sqrt(VV[:,0]**2+VV[:,1]**2+VV[:,2]**2)<200.)\n",
    "    \n",
    "    rindx=(disk_vmask2)*(mask2_r500)\n",
    "    for i in range(0,36):\n",
    "        wedgedex=rindx*(_cyl.phi+np.pi*u.rad>(i*np.pi/18.)*u.rad)*(_cyl.phi+np.pi*u.rad<((i+3)*np.pi/18.)*u.rad)\n",
    "        if i==34:\n",
    "            wedgedex=rindx*(_cyl.phi+np.pi*u.rad>(i*np.pi/18.)*u.rad)*(_cyl.phi+np.pi*u.rad<((i+3)*np.pi/18.)*u.rad)+rindx*(_cyl.phi+np.pi*u.rad>0.)*(_cyl.phi+np.pi*u.rad<((1)*np.pi/18.)*u.rad)\n",
    "        if i==35:\n",
    "            wedgedex=rindx*(_cyl.phi+np.pi*u.rad>(i*np.pi/18.)*u.rad)*(_cyl.phi+np.pi*u.rad<((i+3)*np.pi/18.)*u.rad)+rindx*(_cyl.phi+np.pi*u.rad>0.)*(_cyl.phi+np.pi*u.rad<((2)*np.pi/18.)*u.rad)\n",
    "        print(wedgedex.sum(),'stars in wedge',i)\n",
    "\n",
    "        fixx=myspacex.get_model_v(tensorsx,VV[wedgedex],XX[wedgedex])\n",
    "        fixxv=myspacexv.get_model_v(tensorsxv,VV[wedgedex],XX[wedgedex])\n",
    "\n",
    "        f, ((ax1,ax2),(ax3,ax4)) = plt.subplots(2, 2, figsize=(15,15))\n",
    "        ax1.hist2d(XX[:,0][wedgedex],XX[:,1][wedgedex],range=[[-500,500],[-500.,500.]],bins=gs,cmin=1.0e-50,rasterized=True,density=True)\n",
    "        ax1.set_xlabel(r'$X\\ (\\mathrm{kpc})$',fontsize=20)\n",
    "        ax1.set_ylabel(r'$Y\\ (\\mathrm{kpc})$',fontsize=20)\n",
    "        ax1.set_xlim(-500.,500.)\n",
    "        ax1.set_ylim(-500.,500.)\n",
    "        ax1.set_title(r'$\\mathrm{Selected\\ area}$',fontsize=20)\n",
    "        ax2.hist2d(VV[:,0][wedgedex],VV[:,1][wedgedex],range=[[-125,125],[-125,125]],bins=gs,cmin=1.0e-50,rasterized=True,density=True)\n",
    "        ax2.set_xlabel(r'$v_X\\ (\\mathrm{km\\ s}^{-1})$',fontsize=20)\n",
    "        ax2.set_ylabel(r'$v_Y\\ (\\mathrm{km\\ s}^{-1})$',fontsize=20)\n",
    "        ax2.set_xlim(-125,125)\n",
    "        ax2.set_ylim(-125,125)\n",
    "        ax2.set_title(r'$\\mathrm{No\\ correction}$',fontsize=20)\n",
    "        ax3.hist2d(fixx[:,0],fixx[:,1],range=[[-125,125],[-125,125]],bins=gs,cmin=1.0e-50,rasterized=True,density=True)\n",
    "        ax3.set_xlabel(r'$v_X\\ (\\mathrm{km\\ s}^{-1})$',fontsize=20)\n",
    "        ax3.set_ylabel(r'$v_Y\\ (\\mathrm{km\\ s}^{-1})$',fontsize=20)\n",
    "        ax3.set_xlim(-125,125)\n",
    "        ax3.set_ylim(-125,125)\n",
    "        ax3.set_title(r'$\\mathrm{x\\ correction}$',fontsize=20)\n",
    "        ax4.hist2d(fixxv[:,0],fixxv[:,1],range=[[-125,125],[-125,125]],bins=gs,cmin=1.0e-50,rasterized=True,density=True)\n",
    "        ax4.set_xlabel(r'$v_X\\ (\\mathrm{km\\ s}^{-1})$',fontsize=20)\n",
    "        ax4.set_ylabel(r'$v_Y\\ (\\mathrm{km\\ s}^{-1})$',fontsize=20)\n",
    "        ax4.set_xlim(-125,125)\n",
    "        ax4.set_ylim(-125,125)\n",
    "        ax4.set_title(r'$\\mathrm{xv\\ correction}$',fontsize=20)\n",
    "        ax1.tick_params(axis='both', which='major', labelsize=15)\n",
    "        ax2.tick_params(axis='both', which='major', labelsize=15)\n",
    "        ax3.tick_params(axis='both', which='major', labelsize=15)\n",
    "        ax4.tick_params(axis='both', which='major', labelsize=15)\n",
    "        plt.savefig('gaiao'+str(\"{:02d}\".format(i))+'.pdf',bbox_inches='tight')\n",
    "        plt.close()\n",
    "\n",
    "    os.system('convert -delay 5 -loop 0 gaiao*.pdf orders.gif')"
   ]
  },
  {
   "cell_type": "code",
   "execution_count": null,
   "metadata": {
    "ExecuteTime": {
     "end_time": "2020-11-25T01:15:05.896060Z",
     "start_time": "2020-11-25T01:15:04.427433Z"
    }
   },
   "outputs": [],
   "source": [
    "print(gaia['dec'][0]*u.deg)\n",
    "c = coord.SkyCoord(ra=gaia['ra'][qindx]*u.deg,dec=gaia['dec'][qindx]*u.deg,distance=1./gaia['parallax'][qindx]*u.kpc,pm_ra_cosdec=gaia['pmra'][qindx]*u.mas/u.yr,pm_dec=gaia['pmdec'][qindx]*u.mas/u.yr,radial_velocity=gaia['radial_velocity'][qindx]*u.km/u.s)\n",
    "# galcen = c.transform_to(coord.Galactocentric())"
   ]
  },
  {
   "cell_type": "code",
   "execution_count": null,
   "metadata": {
    "ExecuteTime": {
     "end_time": "2020-11-25T01:15:09.780325Z",
     "start_time": "2020-11-25T01:15:08.152362Z"
    }
   },
   "outputs": [],
   "source": [
    "gal = c.galactic\n",
    "gal.set_representation_cls('cartesian')"
   ]
  },
  {
   "cell_type": "code",
   "execution_count": null,
   "metadata": {
    "ExecuteTime": {
     "end_time": "2020-11-25T01:15:13.834993Z",
     "start_time": "2020-11-25T01:15:13.656839Z"
    }
   },
   "outputs": [],
   "source": [
    "xyz = np.vstack((gal.u.to(u.pc).value, \n",
    "                 gal.v.to(u.pc).value,\n",
    "                 gal.w.to(u.pc).value)).T\n",
    "\n",
    "UVW = np.vstack((gal.U.to(u.km/u.s).value, \n",
    "                 gal.V.to(u.km/u.s).value, \n",
    "                 gal.W.to(u.km/u.s).value)).T\n",
    "\n",
    "disk_vmask = np.linalg.norm(UVW, axis=1) < 200."
   ]
  },
  {
   "cell_type": "code",
   "execution_count": null,
   "metadata": {
    "ExecuteTime": {
     "end_time": "2020-11-25T01:15:16.767785Z",
     "start_time": "2020-11-25T01:15:15.787826Z"
    }
   },
   "outputs": [],
   "source": [
    "XX=xyz\n",
    "VV=UVW\n",
    "dist2=np.sqrt(XX[:,0]**2+XX[:,1]**2)\n",
    "\n",
    "_cyl = gal.represent_as('cylindrical')\n",
    "mask_r100 = (_cyl.rho < 100*u.pc) & (np.abs(_cyl.z) < 150*u.pc)\n",
    "mask_r300 = (_cyl.rho < 300*u.pc) & (np.abs(_cyl.z) < 500*u.pc)\n",
    "mask_r500 = (_cyl.rho < 500*u.pc) & (np.abs(_cyl.z) < 500*u.pc)\n",
    "mask_r100.sum(), mask_r500.sum()\n",
    "#local_mask=(dist2<0.2)*(np.fabs(XX[:,2])<0.2)\n",
    "#train_mask=(dist2>0.2)*(dist2<0.5)*(np.fabs(XX[:,2])<0.5)\n",
    "\n",
    "local_v = UVW[disk_vmask & mask_r100]\n",
    "local_x = xyz[disk_vmask & mask_r100]\n",
    "\n",
    "print(local_v.shape)"
   ]
  },
  {
   "cell_type": "code",
   "execution_count": null,
   "metadata": {
    "ExecuteTime": {
     "end_time": "2020-11-25T01:19:53.708838Z",
     "start_time": "2020-11-25T01:19:48.171483Z"
    }
   },
   "outputs": [],
   "source": [
    "local_gmm = GaussianMixture(n_components=64)\n",
    "local_gmm.fit(local_v)"
   ]
  },
  {
   "cell_type": "code",
   "execution_count": null,
   "metadata": {
    "ExecuteTime": {
     "end_time": "2020-11-25T01:19:54.756734Z",
     "start_time": "2020-11-25T01:19:54.420413Z"
    }
   },
   "outputs": [],
   "source": [
    "local_gmm_samples, _ = local_gmm.sample(100_000)\n",
    "\n",
    "fig, (ax1,ax2) = plt.subplots(1, 2, figsize=(10,5))\n",
    "ax1.hist2d(local_gmm_samples[:, 0],\n",
    "           local_gmm_samples[:, 1],\n",
    "           bins=np.linspace(-150, 150, 256))\n",
    "ax2.hist2d(local_gmm_samples[:, 0],\n",
    "           local_gmm_samples[:, 2],\n",
    "           bins=np.linspace(-150, 150, 256))\n",
    "fig.tight_layout()"
   ]
  },
  {
   "cell_type": "code",
   "execution_count": null,
   "metadata": {
    "ExecuteTime": {
     "end_time": "2020-11-25T01:20:02.500694Z",
     "start_time": "2020-11-25T01:20:02.495803Z"
    }
   },
   "outputs": [],
   "source": [
    "myspace = MySpace(local_gmm, terms=['x'])\n",
    "myspacexv = MySpace(local_gmm, terms=['x','xv'])"
   ]
  },
  {
   "cell_type": "code",
   "execution_count": null,
   "metadata": {
    "ExecuteTime": {
     "end_time": "2020-11-25T01:20:03.262833Z",
     "start_time": "2020-11-25T01:20:03.011756Z"
    }
   },
   "outputs": [],
   "source": [
    "train_v = UVW[disk_vmask & mask_r300]\n",
    "train_x = xyz[disk_vmask & mask_r300]\n",
    "\n",
    "test_v = UVW[disk_vmask & mask_r500]\n",
    "test_x = xyz[disk_vmask & mask_r500]\n",
    "\n",
    "local_v.shape, train_v.shape, test_v.shape"
   ]
  },
  {
   "cell_type": "code",
   "execution_count": null,
   "metadata": {
    "ExecuteTime": {
     "end_time": "2020-11-25T01:35:36.678188Z",
     "start_time": "2020-11-25T01:23:59.951146Z"
    }
   },
   "outputs": [],
   "source": [
    "res, tensors = myspace.fit(train_x, train_v)\n",
    "resxv, tensorsxv = myspacexv.fit(train_x, train_v)\n",
    "print(tensors)\n",
    "print(tensorsxv)"
   ]
  },
  {
   "cell_type": "code",
   "execution_count": null,
   "metadata": {
    "ExecuteTime": {
     "end_time": "2020-11-25T01:36:01.432044Z",
     "start_time": "2020-11-25T01:36:01.097952Z"
    }
   },
   "outputs": [],
   "source": [
    "fixx=myspace.get_model_v(tensors,test_v,test_x)\n",
    "fixxv=myspacexv.get_model_v(tensorsxv,test_v,test_x)"
   ]
  },
  {
   "cell_type": "code",
   "execution_count": null,
   "metadata": {
    "ExecuteTime": {
     "end_time": "2020-11-25T01:36:03.513401Z",
     "start_time": "2020-11-25T01:36:01.851379Z"
    }
   },
   "outputs": [],
   "source": [
    "f, ((ax1,ax2,ax3)) = plt.subplots(1, 3, figsize=(15,5))\n",
    "gs=200\n",
    "ax1.hexbin(test_v[:,0],test_v[:,1],extent=[-125,125,-125,125],mincnt=1,rasterized=True,gridsize=gs)\n",
    "ax1.set_title('Uncorrected',fontsize=20)\n",
    "ax1.set_xlabel('vx (km/s)',fontsize=20)\n",
    "ax1.set_ylabel('vy (km/s)',fontsize=20)\n",
    "ax1.set_xlim(-125,125)\n",
    "ax1.set_ylim(-125,125)\n",
    "ax2.hexbin(fixx[:,0],fixx[:,1],extent=[-125,125,-125,125],mincnt=1,rasterized=True,gridsize=gs)\n",
    "ax2.set_title('x corrected',fontsize=20)\n",
    "ax2.set_xlabel('vx (km/s)',fontsize=20)\n",
    "ax2.set_xlim(-125,125)\n",
    "ax2.set_ylim(-125,125)\n",
    "ax3.hexbin(fixxv[:,0],fixxv[:,1],extent=[-125,125,-125,125],mincnt=1,rasterized=True,gridsize=gs)\n",
    "ax3.set_title('xv corrected',fontsize=20)\n",
    "ax3.set_xlabel('vx (km/s)',fontsize=20)\n",
    "ax3.set_xlim(-125,125)\n",
    "ax3.set_ylim(-125,125)\n",
    "plt.show()"
   ]
  },
  {
   "cell_type": "code",
   "execution_count": null,
   "metadata": {},
   "outputs": [],
   "source": [
    "make_anim2(XX,VV,tensors,myspace,tensorsxv,myspacexv)"
   ]
  },
  {
   "cell_type": "code",
   "execution_count": null,
   "metadata": {},
   "outputs": [],
   "source": []
  }
 ],
 "metadata": {
  "kernelspec": {
   "display_name": "Python 3",
   "language": "python",
   "name": "python3"
  },
  "language_info": {
   "codemirror_mode": {
    "name": "ipython",
    "version": 3
   },
   "file_extension": ".py",
   "mimetype": "text/x-python",
   "name": "python",
   "nbconvert_exporter": "python",
   "pygments_lexer": "ipython3",
   "version": "3.7.4"
  },
  "toc": {
   "base_numbering": 1,
   "nav_menu": {},
   "number_sections": true,
   "sideBar": true,
   "skip_h1_title": false,
   "title_cell": "Table of Contents",
   "title_sidebar": "Contents",
   "toc_cell": false,
   "toc_position": {},
   "toc_section_display": true,
   "toc_window_display": false
  }
 },
 "nbformat": 4,
 "nbformat_minor": 2
}
