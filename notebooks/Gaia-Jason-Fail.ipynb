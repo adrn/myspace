{
 "cells": [
  {
   "cell_type": "code",
   "execution_count": 1,
   "metadata": {
    "ExecuteTime": {
     "end_time": "2020-11-25T01:14:06.518062Z",
     "start_time": "2020-11-25T01:14:01.709229Z"
    }
   },
   "outputs": [],
   "source": [
    "import numpy as np\n",
    "import matplotlib.pyplot as plt\n",
    "import matplotlib.cm as cm\n",
    "import os\n",
    "import astropy.coordinates as coord\n",
    "import astropy.units as u\n",
    "from astropy.table import Table, hstack\n",
    "from myspace import MySpace\n",
    "from sklearn.mixture import GaussianMixture"
   ]
  },
  {
   "cell_type": "code",
   "execution_count": 2,
   "metadata": {
    "ExecuteTime": {
     "end_time": "2020-11-25T01:39:20.654104Z",
     "start_time": "2020-11-25T01:39:20.649185Z"
    }
   },
   "outputs": [
    {
     "name": "stdout",
     "output_type": "stream",
     "text": [
      "astropy 3.2.3\n",
      "scikit-learn 0.23.2\n",
      "jax 0.2.6\n",
      "numpy 1.17.2\n",
      "scipy 1.3.1\n"
     ]
    }
   ],
   "source": [
    "import astropy\n",
    "import sklearn\n",
    "import jax\n",
    "import numpy\n",
    "import scipy\n",
    "\n",
    "print('astropy', astropy.__version__)\n",
    "print('scikit-learn', sklearn.__version__)\n",
    "print('jax', jax.__version__)\n",
    "print('numpy', numpy.__version__)\n",
    "print('scipy', scipy.__version__)"
   ]
  },
  {
   "cell_type": "code",
   "execution_count": 4,
   "metadata": {
    "ExecuteTime": {
     "end_time": "2020-11-25T01:14:47.216783Z",
     "start_time": "2020-11-25T01:14:35.652000Z"
    }
   },
   "outputs": [],
   "source": [
    "gaia = Table.read('../data/RV-all-result.fits', format='fits')"
   ]
  },
  {
   "cell_type": "code",
   "execution_count": 5,
   "metadata": {
    "ExecuteTime": {
     "end_time": "2020-11-25T01:15:00.422414Z",
     "start_time": "2020-11-25T01:14:58.899103Z"
    }
   },
   "outputs": [],
   "source": [
    "# qindx=(gaia['bp_rp']<1.5)*(gaia['phot_g_mean_mag']<14.5)*(gaia['parallax']/gaia['parallax_error']>4.)*(gaia['parallax_error']<0.1)*(gaia['visibility_periods_used']>5.)*(gaia['phot_bp_rp_excess_factor']<1.3)*(gaia['phot_bp_rp_excess_factor']>1.172)\n",
    "qindx = gaia['parallax'] > 0.5"
   ]
  },
  {
   "cell_type": "code",
   "execution_count": 6,
   "metadata": {
    "ExecuteTime": {
     "end_time": "2020-11-25T01:15:00.450026Z",
     "start_time": "2020-11-25T01:15:00.424677Z"
    }
   },
   "outputs": [],
   "source": [
    "def make_anim2(XX,VV,tensorsx,myspacex,tensorsxv,myspacexv,gs=150):\n",
    "    \n",
    "    \n",
    "    _cyl = gal.represent_as('cylindrical')\n",
    "    mask2_r500 = (_cyl.rho < 500*u.pc) & (np.abs(_cyl.z) < 500*u.pc) & (_cyl.rho > 200*u.pc)\n",
    "    disk_vmask2=(np.sqrt(VV[:,0]**2+VV[:,1]**2+VV[:,2]**2)<200.)\n",
    "    \n",
    "    rindx=(disk_vmask2)*(mask2_r500)\n",
    "    for i in range(0,36):\n",
    "        wedgedex=rindx*(_cyl.phi+np.pi*u.rad>(i*np.pi/18.)*u.rad)*(_cyl.phi+np.pi*u.rad<((i+3)*np.pi/18.)*u.rad)\n",
    "        if i==34:\n",
    "            wedgedex=rindx*(_cyl.phi+np.pi*u.rad>(i*np.pi/18.)*u.rad)*(_cyl.phi+np.pi*u.rad<((i+3)*np.pi/18.)*u.rad)+rindx*(_cyl.phi+np.pi*u.rad>0.)*(_cyl.phi+np.pi*u.rad<((1)*np.pi/18.)*u.rad)\n",
    "        if i==35:\n",
    "            wedgedex=rindx*(_cyl.phi+np.pi*u.rad>(i*np.pi/18.)*u.rad)*(_cyl.phi+np.pi*u.rad<((i+3)*np.pi/18.)*u.rad)+rindx*(_cyl.phi+np.pi*u.rad>0.)*(_cyl.phi+np.pi*u.rad<((2)*np.pi/18.)*u.rad)\n",
    "        print(wedgedex.sum(),'stars in wedge',i)\n",
    "\n",
    "        fixx=myspacex.get_model_v(tensorsx,VV[wedgedex],XX[wedgedex])\n",
    "        fixxv=myspacexv.get_model_v(tensorsxv,VV[wedgedex],XX[wedgedex])\n",
    "\n",
    "        f, ((ax1,ax2),(ax3,ax4)) = plt.subplots(2, 2, figsize=(15,15))\n",
    "        ax1.hist2d(XX[:,0][wedgedex],XX[:,1][wedgedex],range=[[-500,500],[-500.,500.]],bins=gs,cmin=1.0e-50,rasterized=True,density=True)\n",
    "        ax1.set_xlabel(r'$X\\ (\\mathrm{kpc})$',fontsize=20)\n",
    "        ax1.set_ylabel(r'$Y\\ (\\mathrm{kpc})$',fontsize=20)\n",
    "        ax1.set_xlim(-500.,500.)\n",
    "        ax1.set_ylim(-500.,500.)\n",
    "        ax1.set_title(r'$\\mathrm{Selected\\ area}$',fontsize=20)\n",
    "        ax2.hist2d(VV[:,0][wedgedex],VV[:,1][wedgedex],range=[[-125,125],[-125,125]],bins=gs,cmin=1.0e-50,rasterized=True,density=True)\n",
    "        ax2.set_xlabel(r'$v_X\\ (\\mathrm{km\\ s}^{-1})$',fontsize=20)\n",
    "        ax2.set_ylabel(r'$v_Y\\ (\\mathrm{km\\ s}^{-1})$',fontsize=20)\n",
    "        ax2.set_xlim(-125,125)\n",
    "        ax2.set_ylim(-125,125)\n",
    "        ax2.set_title(r'$\\mathrm{No\\ correction}$',fontsize=20)\n",
    "        ax3.hist2d(fixx[:,0],fixx[:,1],range=[[-125,125],[-125,125]],bins=gs,cmin=1.0e-50,rasterized=True,density=True)\n",
    "        ax3.set_xlabel(r'$v_X\\ (\\mathrm{km\\ s}^{-1})$',fontsize=20)\n",
    "        ax3.set_ylabel(r'$v_Y\\ (\\mathrm{km\\ s}^{-1})$',fontsize=20)\n",
    "        ax3.set_xlim(-125,125)\n",
    "        ax3.set_ylim(-125,125)\n",
    "        ax3.set_title(r'$\\mathrm{x\\ correction}$',fontsize=20)\n",
    "        ax4.hist2d(fixxv[:,0],fixxv[:,1],range=[[-125,125],[-125,125]],bins=gs,cmin=1.0e-50,rasterized=True,density=True)\n",
    "        ax4.set_xlabel(r'$v_X\\ (\\mathrm{km\\ s}^{-1})$',fontsize=20)\n",
    "        ax4.set_ylabel(r'$v_Y\\ (\\mathrm{km\\ s}^{-1})$',fontsize=20)\n",
    "        ax4.set_xlim(-125,125)\n",
    "        ax4.set_ylim(-125,125)\n",
    "        ax4.set_title(r'$\\mathrm{xv\\ correction}$',fontsize=20)\n",
    "        ax1.tick_params(axis='both', which='major', labelsize=15)\n",
    "        ax2.tick_params(axis='both', which='major', labelsize=15)\n",
    "        ax3.tick_params(axis='both', which='major', labelsize=15)\n",
    "        ax4.tick_params(axis='both', which='major', labelsize=15)\n",
    "        plt.savefig('gaiao'+str(\"{:02d}\".format(i))+'.pdf',bbox_inches='tight')\n",
    "        plt.close()\n",
    "\n",
    "    os.system('convert -delay 5 -loop 0 gaiao*.pdf orders.gif')"
   ]
  },
  {
   "cell_type": "code",
   "execution_count": 12,
   "metadata": {
    "ExecuteTime": {
     "end_time": "2020-11-25T01:15:05.896060Z",
     "start_time": "2020-11-25T01:15:04.427433Z"
    }
   },
   "outputs": [
    {
     "name": "stdout",
     "output_type": "stream",
     "text": [
      "20.308256296831196 deg\n"
     ]
    },
    {
     "ename": "UnitTypeError",
     "evalue": "Longitude instances require units equivalent to 'rad', so cannot set it to 'deg2'.",
     "output_type": "error",
     "traceback": [
      "\u001b[0;31m---------------------------------------------------------------------------\u001b[0m",
      "\u001b[0;31mUnitTypeError\u001b[0m                             Traceback (most recent call last)",
      "\u001b[0;32m<ipython-input-12-afa3195f04a6>\u001b[0m in \u001b[0;36m<module>\u001b[0;34m\u001b[0m\n\u001b[1;32m      1\u001b[0m \u001b[0mprint\u001b[0m\u001b[0;34m(\u001b[0m\u001b[0mgaia\u001b[0m\u001b[0;34m[\u001b[0m\u001b[0;34m'dec'\u001b[0m\u001b[0;34m]\u001b[0m\u001b[0;34m[\u001b[0m\u001b[0;36m0\u001b[0m\u001b[0;34m]\u001b[0m\u001b[0;34m*\u001b[0m\u001b[0mu\u001b[0m\u001b[0;34m.\u001b[0m\u001b[0mdeg\u001b[0m\u001b[0;34m)\u001b[0m\u001b[0;34m\u001b[0m\u001b[0;34m\u001b[0m\u001b[0m\n\u001b[0;32m----> 2\u001b[0;31m \u001b[0mc\u001b[0m \u001b[0;34m=\u001b[0m \u001b[0mcoord\u001b[0m\u001b[0;34m.\u001b[0m\u001b[0mSkyCoord\u001b[0m\u001b[0;34m(\u001b[0m\u001b[0mra\u001b[0m\u001b[0;34m=\u001b[0m\u001b[0mgaia\u001b[0m\u001b[0;34m[\u001b[0m\u001b[0;34m'ra'\u001b[0m\u001b[0;34m]\u001b[0m\u001b[0;34m[\u001b[0m\u001b[0mqindx\u001b[0m\u001b[0;34m]\u001b[0m\u001b[0;34m*\u001b[0m\u001b[0mu\u001b[0m\u001b[0;34m.\u001b[0m\u001b[0mdeg\u001b[0m\u001b[0;34m,\u001b[0m\u001b[0mdec\u001b[0m\u001b[0;34m=\u001b[0m\u001b[0mgaia\u001b[0m\u001b[0;34m[\u001b[0m\u001b[0;34m'dec'\u001b[0m\u001b[0;34m]\u001b[0m\u001b[0;34m[\u001b[0m\u001b[0mqindx\u001b[0m\u001b[0;34m]\u001b[0m\u001b[0;34m*\u001b[0m\u001b[0mu\u001b[0m\u001b[0;34m.\u001b[0m\u001b[0mdeg\u001b[0m\u001b[0;34m,\u001b[0m\u001b[0mdistance\u001b[0m\u001b[0;34m=\u001b[0m\u001b[0;36m1.\u001b[0m\u001b[0;34m/\u001b[0m\u001b[0mgaia\u001b[0m\u001b[0;34m[\u001b[0m\u001b[0;34m'parallax'\u001b[0m\u001b[0;34m]\u001b[0m\u001b[0;34m[\u001b[0m\u001b[0mqindx\u001b[0m\u001b[0;34m]\u001b[0m\u001b[0;34m*\u001b[0m\u001b[0mu\u001b[0m\u001b[0;34m.\u001b[0m\u001b[0mkpc\u001b[0m\u001b[0;34m,\u001b[0m\u001b[0mpm_ra_cosdec\u001b[0m\u001b[0;34m=\u001b[0m\u001b[0mgaia\u001b[0m\u001b[0;34m[\u001b[0m\u001b[0;34m'pmra'\u001b[0m\u001b[0;34m]\u001b[0m\u001b[0;34m[\u001b[0m\u001b[0mqindx\u001b[0m\u001b[0;34m]\u001b[0m\u001b[0;34m*\u001b[0m\u001b[0mu\u001b[0m\u001b[0;34m.\u001b[0m\u001b[0mmas\u001b[0m\u001b[0;34m/\u001b[0m\u001b[0mu\u001b[0m\u001b[0;34m.\u001b[0m\u001b[0myr\u001b[0m\u001b[0;34m,\u001b[0m\u001b[0mpm_dec\u001b[0m\u001b[0;34m=\u001b[0m\u001b[0mgaia\u001b[0m\u001b[0;34m[\u001b[0m\u001b[0;34m'pmdec'\u001b[0m\u001b[0;34m]\u001b[0m\u001b[0;34m[\u001b[0m\u001b[0mqindx\u001b[0m\u001b[0;34m]\u001b[0m\u001b[0;34m*\u001b[0m\u001b[0mu\u001b[0m\u001b[0;34m.\u001b[0m\u001b[0mmas\u001b[0m\u001b[0;34m/\u001b[0m\u001b[0mu\u001b[0m\u001b[0;34m.\u001b[0m\u001b[0myr\u001b[0m\u001b[0;34m,\u001b[0m\u001b[0mradial_velocity\u001b[0m\u001b[0;34m=\u001b[0m\u001b[0mgaia\u001b[0m\u001b[0;34m[\u001b[0m\u001b[0;34m'radial_velocity'\u001b[0m\u001b[0;34m]\u001b[0m\u001b[0;34m[\u001b[0m\u001b[0mqindx\u001b[0m\u001b[0;34m]\u001b[0m\u001b[0;34m*\u001b[0m\u001b[0mu\u001b[0m\u001b[0;34m.\u001b[0m\u001b[0mkm\u001b[0m\u001b[0;34m/\u001b[0m\u001b[0mu\u001b[0m\u001b[0;34m.\u001b[0m\u001b[0ms\u001b[0m\u001b[0;34m)\u001b[0m\u001b[0;34m\u001b[0m\u001b[0;34m\u001b[0m\u001b[0m\n\u001b[0m\u001b[1;32m      3\u001b[0m \u001b[0;31m# galcen = c.transform_to(coord.Galactocentric())\u001b[0m\u001b[0;34m\u001b[0m\u001b[0;34m\u001b[0m\u001b[0;34m\u001b[0m\u001b[0m\n",
      "\u001b[0;32m/usr/local/lib/python3.7/site-packages/astropy/coordinates/sky_coordinate.py\u001b[0m in \u001b[0;36m__init__\u001b[0;34m(self, copy, *args, **kwargs)\u001b[0m\n\u001b[1;32m    255\u001b[0m             \u001b[0margs\u001b[0m \u001b[0;34m=\u001b[0m \u001b[0mlist\u001b[0m\u001b[0;34m(\u001b[0m\u001b[0margs\u001b[0m\u001b[0;34m)\u001b[0m  \u001b[0;31m# Make it mutable\u001b[0m\u001b[0;34m\u001b[0m\u001b[0;34m\u001b[0m\u001b[0m\n\u001b[1;32m    256\u001b[0m             skycoord_kwargs, components, info = _parse_coordinate_data(\n\u001b[0;32m--> 257\u001b[0;31m                 frame_cls(**frame_kwargs), args, kwargs)\n\u001b[0m\u001b[1;32m    258\u001b[0m \u001b[0;34m\u001b[0m\u001b[0m\n\u001b[1;32m    259\u001b[0m             \u001b[0;31m# In the above two parsing functions, these kwargs were identified\u001b[0m\u001b[0;34m\u001b[0m\u001b[0;34m\u001b[0m\u001b[0;34m\u001b[0m\u001b[0m\n",
      "\u001b[0;32m/usr/local/lib/python3.7/site-packages/astropy/coordinates/sky_coordinate_parsers.py\u001b[0m in \u001b[0;36m_parse_coordinate_data\u001b[0;34m(frame, args, kwargs)\u001b[0m\n\u001b[1;32m    242\u001b[0m     \u001b[0;31m# Grab any frame-specific attr names like `ra` or `l` or `distance` from\u001b[0m\u001b[0;34m\u001b[0m\u001b[0;34m\u001b[0m\u001b[0;34m\u001b[0m\u001b[0m\n\u001b[1;32m    243\u001b[0m     \u001b[0;31m# kwargs and move them to valid_components.\u001b[0m\u001b[0;34m\u001b[0m\u001b[0;34m\u001b[0m\u001b[0;34m\u001b[0m\u001b[0m\n\u001b[0;32m--> 244\u001b[0;31m     \u001b[0mvalid_components\u001b[0m\u001b[0;34m.\u001b[0m\u001b[0mupdate\u001b[0m\u001b[0;34m(\u001b[0m\u001b[0m_get_representation_attrs\u001b[0m\u001b[0;34m(\u001b[0m\u001b[0mframe\u001b[0m\u001b[0;34m,\u001b[0m \u001b[0munits\u001b[0m\u001b[0;34m,\u001b[0m \u001b[0mkwargs\u001b[0m\u001b[0;34m)\u001b[0m\u001b[0;34m)\u001b[0m\u001b[0;34m\u001b[0m\u001b[0;34m\u001b[0m\u001b[0m\n\u001b[0m\u001b[1;32m    245\u001b[0m \u001b[0;34m\u001b[0m\u001b[0m\n\u001b[1;32m    246\u001b[0m     \u001b[0;31m# Error if anything is still left in kwargs\u001b[0m\u001b[0;34m\u001b[0m\u001b[0;34m\u001b[0m\u001b[0;34m\u001b[0m\u001b[0m\n",
      "\u001b[0;32m/usr/local/lib/python3.7/site-packages/astropy/coordinates/sky_coordinate_parsers.py\u001b[0m in \u001b[0;36m_get_representation_attrs\u001b[0;34m(frame, units, kwargs)\u001b[0m\n\u001b[1;32m    587\u001b[0m         \u001b[0mvalue\u001b[0m \u001b[0;34m=\u001b[0m \u001b[0mkwargs\u001b[0m\u001b[0;34m.\u001b[0m\u001b[0mpop\u001b[0m\u001b[0;34m(\u001b[0m\u001b[0mframe_attr_name\u001b[0m\u001b[0;34m,\u001b[0m \u001b[0;32mNone\u001b[0m\u001b[0;34m)\u001b[0m\u001b[0;34m\u001b[0m\u001b[0;34m\u001b[0m\u001b[0m\n\u001b[1;32m    588\u001b[0m         \u001b[0;32mif\u001b[0m \u001b[0mvalue\u001b[0m \u001b[0;32mis\u001b[0m \u001b[0;32mnot\u001b[0m \u001b[0;32mNone\u001b[0m\u001b[0;34m:\u001b[0m\u001b[0;34m\u001b[0m\u001b[0;34m\u001b[0m\u001b[0m\n\u001b[0;32m--> 589\u001b[0;31m             \u001b[0mvalid_kwargs\u001b[0m\u001b[0;34m[\u001b[0m\u001b[0mframe_attr_name\u001b[0m\u001b[0;34m]\u001b[0m \u001b[0;34m=\u001b[0m \u001b[0mrepr_attr_class\u001b[0m\u001b[0;34m(\u001b[0m\u001b[0mvalue\u001b[0m\u001b[0;34m,\u001b[0m \u001b[0munit\u001b[0m\u001b[0;34m=\u001b[0m\u001b[0munit\u001b[0m\u001b[0;34m)\u001b[0m\u001b[0;34m\u001b[0m\u001b[0;34m\u001b[0m\u001b[0m\n\u001b[0m\u001b[1;32m    590\u001b[0m \u001b[0;34m\u001b[0m\u001b[0m\n\u001b[1;32m    591\u001b[0m     \u001b[0;31m# also check the differentials.  They aren't included in the units keyword,\u001b[0m\u001b[0;34m\u001b[0m\u001b[0;34m\u001b[0m\u001b[0;34m\u001b[0m\u001b[0m\n",
      "\u001b[0;32m/usr/local/lib/python3.7/site-packages/astropy/coordinates/angles.py\u001b[0m in \u001b[0;36m__new__\u001b[0;34m(cls, angle, unit, wrap_angle, **kwargs)\u001b[0m\n\u001b[1;32m    613\u001b[0m             raise TypeError(\"A Longitude angle cannot be created from \"\n\u001b[1;32m    614\u001b[0m                             \"a Latitude angle.\")\n\u001b[0;32m--> 615\u001b[0;31m         \u001b[0mself\u001b[0m \u001b[0;34m=\u001b[0m \u001b[0msuper\u001b[0m\u001b[0;34m(\u001b[0m\u001b[0;34m)\u001b[0m\u001b[0;34m.\u001b[0m\u001b[0m__new__\u001b[0m\u001b[0;34m(\u001b[0m\u001b[0mcls\u001b[0m\u001b[0;34m,\u001b[0m \u001b[0mangle\u001b[0m\u001b[0;34m,\u001b[0m \u001b[0munit\u001b[0m\u001b[0;34m=\u001b[0m\u001b[0munit\u001b[0m\u001b[0;34m,\u001b[0m \u001b[0;34m**\u001b[0m\u001b[0mkwargs\u001b[0m\u001b[0;34m)\u001b[0m\u001b[0;34m\u001b[0m\u001b[0;34m\u001b[0m\u001b[0m\n\u001b[0m\u001b[1;32m    616\u001b[0m         \u001b[0;32mif\u001b[0m \u001b[0mwrap_angle\u001b[0m \u001b[0;32mis\u001b[0m \u001b[0;32mNone\u001b[0m\u001b[0;34m:\u001b[0m\u001b[0;34m\u001b[0m\u001b[0;34m\u001b[0m\u001b[0m\n\u001b[1;32m    617\u001b[0m             \u001b[0mwrap_angle\u001b[0m \u001b[0;34m=\u001b[0m \u001b[0mgetattr\u001b[0m\u001b[0;34m(\u001b[0m\u001b[0mangle\u001b[0m\u001b[0;34m,\u001b[0m \u001b[0;34m'wrap_angle'\u001b[0m\u001b[0;34m,\u001b[0m \u001b[0mself\u001b[0m\u001b[0;34m.\u001b[0m\u001b[0m_default_wrap_angle\u001b[0m\u001b[0;34m)\u001b[0m\u001b[0;34m\u001b[0m\u001b[0;34m\u001b[0m\u001b[0m\n",
      "\u001b[0;32m/usr/local/lib/python3.7/site-packages/astropy/coordinates/angles.py\u001b[0m in \u001b[0;36m__new__\u001b[0;34m(cls, angle, unit, dtype, copy)\u001b[0m\n\u001b[1;32m    107\u001b[0m                 \u001b[0mangle\u001b[0m \u001b[0;34m=\u001b[0m \u001b[0;34m[\u001b[0m\u001b[0mAngle\u001b[0m\u001b[0;34m(\u001b[0m\u001b[0mx\u001b[0m\u001b[0;34m,\u001b[0m \u001b[0munit\u001b[0m\u001b[0;34m,\u001b[0m \u001b[0mcopy\u001b[0m\u001b[0;34m=\u001b[0m\u001b[0;32mFalse\u001b[0m\u001b[0;34m)\u001b[0m \u001b[0;32mfor\u001b[0m \u001b[0mx\u001b[0m \u001b[0;32min\u001b[0m \u001b[0mangle\u001b[0m\u001b[0;34m]\u001b[0m\u001b[0;34m\u001b[0m\u001b[0;34m\u001b[0m\u001b[0m\n\u001b[1;32m    108\u001b[0m \u001b[0;34m\u001b[0m\u001b[0m\n\u001b[0;32m--> 109\u001b[0;31m         \u001b[0;32mreturn\u001b[0m \u001b[0msuper\u001b[0m\u001b[0;34m(\u001b[0m\u001b[0;34m)\u001b[0m\u001b[0;34m.\u001b[0m\u001b[0m__new__\u001b[0m\u001b[0;34m(\u001b[0m\u001b[0mcls\u001b[0m\u001b[0;34m,\u001b[0m \u001b[0mangle\u001b[0m\u001b[0;34m,\u001b[0m \u001b[0munit\u001b[0m\u001b[0;34m,\u001b[0m \u001b[0mdtype\u001b[0m\u001b[0;34m=\u001b[0m\u001b[0mdtype\u001b[0m\u001b[0;34m,\u001b[0m \u001b[0mcopy\u001b[0m\u001b[0;34m=\u001b[0m\u001b[0mcopy\u001b[0m\u001b[0;34m)\u001b[0m\u001b[0;34m\u001b[0m\u001b[0;34m\u001b[0m\u001b[0m\n\u001b[0m\u001b[1;32m    110\u001b[0m \u001b[0;34m\u001b[0m\u001b[0m\n\u001b[1;32m    111\u001b[0m     \u001b[0;34m@\u001b[0m\u001b[0mstaticmethod\u001b[0m\u001b[0;34m\u001b[0m\u001b[0;34m\u001b[0m\u001b[0m\n",
      "\u001b[0;32m/usr/local/lib/python3.7/site-packages/astropy/units/quantity.py\u001b[0m in \u001b[0;36m__new__\u001b[0;34m(cls, value, unit, dtype, copy, order, subok, ndmin)\u001b[0m\n\u001b[1;32m    286\u001b[0m             if type(value) is not cls and not (subok and\n\u001b[1;32m    287\u001b[0m                                                isinstance(value, cls)):\n\u001b[0;32m--> 288\u001b[0;31m                 \u001b[0mvalue\u001b[0m \u001b[0;34m=\u001b[0m \u001b[0mvalue\u001b[0m\u001b[0;34m.\u001b[0m\u001b[0mview\u001b[0m\u001b[0;34m(\u001b[0m\u001b[0mcls\u001b[0m\u001b[0;34m)\u001b[0m\u001b[0;34m\u001b[0m\u001b[0;34m\u001b[0m\u001b[0m\n\u001b[0m\u001b[1;32m    289\u001b[0m \u001b[0;34m\u001b[0m\u001b[0m\n\u001b[1;32m    290\u001b[0m             \u001b[0;32mif\u001b[0m \u001b[0mdtype\u001b[0m \u001b[0;32mis\u001b[0m \u001b[0;32mNone\u001b[0m\u001b[0;34m:\u001b[0m\u001b[0;34m\u001b[0m\u001b[0;34m\u001b[0m\u001b[0m\n",
      "\u001b[0;32m/usr/local/lib/python3.7/site-packages/astropy/coordinates/angles.py\u001b[0m in \u001b[0;36m__array_finalize__\u001b[0;34m(self, obj)\u001b[0m\n\u001b[1;32m    655\u001b[0m \u001b[0;34m\u001b[0m\u001b[0m\n\u001b[1;32m    656\u001b[0m     \u001b[0;32mdef\u001b[0m \u001b[0m__array_finalize__\u001b[0m\u001b[0;34m(\u001b[0m\u001b[0mself\u001b[0m\u001b[0;34m,\u001b[0m \u001b[0mobj\u001b[0m\u001b[0;34m)\u001b[0m\u001b[0;34m:\u001b[0m\u001b[0;34m\u001b[0m\u001b[0;34m\u001b[0m\u001b[0m\n\u001b[0;32m--> 657\u001b[0;31m         \u001b[0msuper\u001b[0m\u001b[0;34m(\u001b[0m\u001b[0;34m)\u001b[0m\u001b[0;34m.\u001b[0m\u001b[0m__array_finalize__\u001b[0m\u001b[0;34m(\u001b[0m\u001b[0mobj\u001b[0m\u001b[0;34m)\u001b[0m\u001b[0;34m\u001b[0m\u001b[0;34m\u001b[0m\u001b[0m\n\u001b[0m\u001b[1;32m    658\u001b[0m         self._wrap_angle = getattr(obj, '_wrap_angle',\n\u001b[1;32m    659\u001b[0m                                    self._default_wrap_angle)\n",
      "\u001b[0;32m/usr/local/lib/python3.7/site-packages/astropy/units/quantity.py\u001b[0m in \u001b[0;36m__array_finalize__\u001b[0;34m(self, obj)\u001b[0m\n\u001b[1;32m    399\u001b[0m             \u001b[0munit\u001b[0m \u001b[0;34m=\u001b[0m \u001b[0mgetattr\u001b[0m\u001b[0;34m(\u001b[0m\u001b[0mobj\u001b[0m\u001b[0;34m,\u001b[0m \u001b[0;34m'_unit'\u001b[0m\u001b[0;34m,\u001b[0m \u001b[0;32mNone\u001b[0m\u001b[0;34m)\u001b[0m\u001b[0;34m\u001b[0m\u001b[0;34m\u001b[0m\u001b[0m\n\u001b[1;32m    400\u001b[0m             \u001b[0;32mif\u001b[0m \u001b[0munit\u001b[0m \u001b[0;32mis\u001b[0m \u001b[0;32mnot\u001b[0m \u001b[0;32mNone\u001b[0m\u001b[0;34m:\u001b[0m\u001b[0;34m\u001b[0m\u001b[0;34m\u001b[0m\u001b[0m\n\u001b[0;32m--> 401\u001b[0;31m                 \u001b[0mself\u001b[0m\u001b[0;34m.\u001b[0m\u001b[0m_set_unit\u001b[0m\u001b[0;34m(\u001b[0m\u001b[0munit\u001b[0m\u001b[0;34m)\u001b[0m\u001b[0;34m\u001b[0m\u001b[0;34m\u001b[0m\u001b[0m\n\u001b[0m\u001b[1;32m    402\u001b[0m \u001b[0;34m\u001b[0m\u001b[0m\n\u001b[1;32m    403\u001b[0m         \u001b[0;31m# Copy info if the original had `info` defined.  Because of the way the\u001b[0m\u001b[0;34m\u001b[0m\u001b[0;34m\u001b[0m\u001b[0;34m\u001b[0m\u001b[0m\n",
      "\u001b[0;32m/usr/local/lib/python3.7/site-packages/astropy/coordinates/angles.py\u001b[0m in \u001b[0;36m_set_unit\u001b[0;34m(self, unit)\u001b[0m\n\u001b[1;32m    129\u001b[0m \u001b[0;34m\u001b[0m\u001b[0m\n\u001b[1;32m    130\u001b[0m     \u001b[0;32mdef\u001b[0m \u001b[0m_set_unit\u001b[0m\u001b[0;34m(\u001b[0m\u001b[0mself\u001b[0m\u001b[0;34m,\u001b[0m \u001b[0munit\u001b[0m\u001b[0;34m)\u001b[0m\u001b[0;34m:\u001b[0m\u001b[0;34m\u001b[0m\u001b[0;34m\u001b[0m\u001b[0m\n\u001b[0;32m--> 131\u001b[0;31m         \u001b[0msuper\u001b[0m\u001b[0;34m(\u001b[0m\u001b[0;34m)\u001b[0m\u001b[0;34m.\u001b[0m\u001b[0m_set_unit\u001b[0m\u001b[0;34m(\u001b[0m\u001b[0mself\u001b[0m\u001b[0;34m.\u001b[0m\u001b[0m_convert_unit_to_angle_unit\u001b[0m\u001b[0;34m(\u001b[0m\u001b[0munit\u001b[0m\u001b[0;34m)\u001b[0m\u001b[0;34m)\u001b[0m\u001b[0;34m\u001b[0m\u001b[0;34m\u001b[0m\u001b[0m\n\u001b[0m\u001b[1;32m    132\u001b[0m \u001b[0;34m\u001b[0m\u001b[0m\n\u001b[1;32m    133\u001b[0m     \u001b[0;34m@\u001b[0m\u001b[0mproperty\u001b[0m\u001b[0;34m\u001b[0m\u001b[0;34m\u001b[0m\u001b[0m\n",
      "\u001b[0;32m/usr/local/lib/python3.7/site-packages/astropy/units/quantity.py\u001b[0m in \u001b[0;36m_set_unit\u001b[0;34m(self, unit)\u001b[0m\n\u001b[1;32m   1638\u001b[0m                 \u001b[0;34m.\u001b[0m\u001b[0mformat\u001b[0m\u001b[0;34m(\u001b[0m\u001b[0mtype\u001b[0m\u001b[0;34m(\u001b[0m\u001b[0mself\u001b[0m\u001b[0;34m)\u001b[0m\u001b[0;34m.\u001b[0m\u001b[0m__name__\u001b[0m\u001b[0;34m,\u001b[0m \u001b[0mself\u001b[0m\u001b[0;34m.\u001b[0m\u001b[0m_equivalent_unit\u001b[0m\u001b[0;34m)\u001b[0m \u001b[0;34m+\u001b[0m\u001b[0;34m\u001b[0m\u001b[0;34m\u001b[0m\u001b[0m\n\u001b[1;32m   1639\u001b[0m                 (\", but no unit was given.\" if unit is None else\n\u001b[0;32m-> 1640\u001b[0;31m                  \", so cannot set it to '{0}'.\".format(unit)))\n\u001b[0m\u001b[1;32m   1641\u001b[0m \u001b[0;34m\u001b[0m\u001b[0m\n\u001b[1;32m   1642\u001b[0m         \u001b[0msuper\u001b[0m\u001b[0;34m(\u001b[0m\u001b[0;34m)\u001b[0m\u001b[0;34m.\u001b[0m\u001b[0m_set_unit\u001b[0m\u001b[0;34m(\u001b[0m\u001b[0munit\u001b[0m\u001b[0;34m)\u001b[0m\u001b[0;34m\u001b[0m\u001b[0;34m\u001b[0m\u001b[0m\n",
      "\u001b[0;31mUnitTypeError\u001b[0m: Longitude instances require units equivalent to 'rad', so cannot set it to 'deg2'."
     ]
    }
   ],
   "source": [
    "print(gaia['dec'][0]*u.deg)\n",
    "c = coord.SkyCoord(ra=gaia['ra'][qindx]*u.deg,dec=gaia['dec'][qindx]*u.deg,distance=1./gaia['parallax'][qindx]*u.kpc,pm_ra_cosdec=gaia['pmra'][qindx]*u.mas/u.yr,pm_dec=gaia['pmdec'][qindx]*u.mas/u.yr,radial_velocity=gaia['radial_velocity'][qindx]*u.km/u.s)\n",
    "# galcen = c.transform_to(coord.Galactocentric())"
   ]
  },
  {
   "cell_type": "code",
   "execution_count": 8,
   "metadata": {
    "ExecuteTime": {
     "end_time": "2020-11-25T01:15:09.780325Z",
     "start_time": "2020-11-25T01:15:08.152362Z"
    }
   },
   "outputs": [
    {
     "ename": "NameError",
     "evalue": "name 'c' is not defined",
     "output_type": "error",
     "traceback": [
      "\u001b[0;31m---------------------------------------------------------------------------\u001b[0m",
      "\u001b[0;31mNameError\u001b[0m                                 Traceback (most recent call last)",
      "\u001b[0;32m<ipython-input-8-70885a4d3915>\u001b[0m in \u001b[0;36m<module>\u001b[0;34m\u001b[0m\n\u001b[0;32m----> 1\u001b[0;31m \u001b[0mgal\u001b[0m \u001b[0;34m=\u001b[0m \u001b[0mc\u001b[0m\u001b[0;34m.\u001b[0m\u001b[0mgalactic\u001b[0m\u001b[0;34m\u001b[0m\u001b[0;34m\u001b[0m\u001b[0m\n\u001b[0m\u001b[1;32m      2\u001b[0m \u001b[0mgal\u001b[0m\u001b[0;34m.\u001b[0m\u001b[0mset_representation_cls\u001b[0m\u001b[0;34m(\u001b[0m\u001b[0;34m'cartesian'\u001b[0m\u001b[0;34m)\u001b[0m\u001b[0;34m\u001b[0m\u001b[0;34m\u001b[0m\u001b[0m\n",
      "\u001b[0;31mNameError\u001b[0m: name 'c' is not defined"
     ]
    }
   ],
   "source": [
    "gal = c.galactic\n",
    "gal.set_representation_cls('cartesian')"
   ]
  },
  {
   "cell_type": "code",
   "execution_count": null,
   "metadata": {
    "ExecuteTime": {
     "end_time": "2020-11-25T01:15:13.834993Z",
     "start_time": "2020-11-25T01:15:13.656839Z"
    }
   },
   "outputs": [],
   "source": [
    "xyz = np.vstack((gal.u.to(u.pc).value, \n",
    "                 gal.v.to(u.pc).value,\n",
    "                 gal.w.to(u.pc).value)).T\n",
    "\n",
    "UVW = np.vstack((gal.U.to(u.km/u.s).value, \n",
    "                 gal.V.to(u.km/u.s).value, \n",
    "                 gal.W.to(u.km/u.s).value)).T\n",
    "\n",
    "disk_vmask = np.linalg.norm(UVW, axis=1) < 200."
   ]
  },
  {
   "cell_type": "code",
   "execution_count": null,
   "metadata": {
    "ExecuteTime": {
     "end_time": "2020-11-25T01:15:16.767785Z",
     "start_time": "2020-11-25T01:15:15.787826Z"
    }
   },
   "outputs": [],
   "source": [
    "XX=xyz\n",
    "VV=UVW\n",
    "dist2=np.sqrt(XX[:,0]**2+XX[:,1]**2)\n",
    "\n",
    "_cyl = gal.represent_as('cylindrical')\n",
    "mask_r100 = (_cyl.rho < 100*u.pc) & (np.abs(_cyl.z) < 150*u.pc)\n",
    "mask_r300 = (_cyl.rho < 300*u.pc) & (np.abs(_cyl.z) < 500*u.pc)\n",
    "mask_r500 = (_cyl.rho < 500*u.pc) & (np.abs(_cyl.z) < 500*u.pc)\n",
    "mask_r100.sum(), mask_r500.sum()\n",
    "#local_mask=(dist2<0.2)*(np.fabs(XX[:,2])<0.2)\n",
    "#train_mask=(dist2>0.2)*(dist2<0.5)*(np.fabs(XX[:,2])<0.5)\n",
    "\n",
    "local_v = UVW[disk_vmask & mask_r100]\n",
    "local_x = xyz[disk_vmask & mask_r100]\n",
    "\n",
    "print(local_v.shape)"
   ]
  },
  {
   "cell_type": "code",
   "execution_count": null,
   "metadata": {
    "ExecuteTime": {
     "end_time": "2020-11-25T01:19:53.708838Z",
     "start_time": "2020-11-25T01:19:48.171483Z"
    }
   },
   "outputs": [],
   "source": [
    "local_gmm = GaussianMixture(n_components=64)\n",
    "local_gmm.fit(local_v)"
   ]
  },
  {
   "cell_type": "code",
   "execution_count": null,
   "metadata": {
    "ExecuteTime": {
     "end_time": "2020-11-25T01:19:54.756734Z",
     "start_time": "2020-11-25T01:19:54.420413Z"
    }
   },
   "outputs": [],
   "source": [
    "local_gmm_samples, _ = local_gmm.sample(100_000)\n",
    "\n",
    "fig, (ax1,ax2) = plt.subplots(1, 2, figsize=(10,5))\n",
    "ax1.hist2d(local_gmm_samples[:, 0],\n",
    "           local_gmm_samples[:, 1],\n",
    "           bins=np.linspace(-150, 150, 256))\n",
    "ax2.hist2d(local_gmm_samples[:, 0],\n",
    "           local_gmm_samples[:, 2],\n",
    "           bins=np.linspace(-150, 150, 256))\n",
    "fig.tight_layout()"
   ]
  },
  {
   "cell_type": "code",
   "execution_count": null,
   "metadata": {
    "ExecuteTime": {
     "end_time": "2020-11-25T01:20:02.500694Z",
     "start_time": "2020-11-25T01:20:02.495803Z"
    }
   },
   "outputs": [],
   "source": [
    "myspace = MySpace(local_gmm, terms=['x'])\n",
    "myspacexv = MySpace(local_gmm, terms=['x','xv'])"
   ]
  },
  {
   "cell_type": "code",
   "execution_count": null,
   "metadata": {
    "ExecuteTime": {
     "end_time": "2020-11-25T01:20:03.262833Z",
     "start_time": "2020-11-25T01:20:03.011756Z"
    }
   },
   "outputs": [],
   "source": [
    "train_v = UVW[disk_vmask & mask_r300]\n",
    "train_x = xyz[disk_vmask & mask_r300]\n",
    "\n",
    "test_v = UVW[disk_vmask & mask_r500]\n",
    "test_x = xyz[disk_vmask & mask_r500]\n",
    "\n",
    "local_v.shape, train_v.shape, test_v.shape"
   ]
  },
  {
   "cell_type": "code",
   "execution_count": null,
   "metadata": {
    "ExecuteTime": {
     "end_time": "2020-11-25T01:35:36.678188Z",
     "start_time": "2020-11-25T01:23:59.951146Z"
    }
   },
   "outputs": [],
   "source": [
    "res, tensors = myspace.fit(train_x, train_v)\n",
    "resxv, tensorsxv = myspacexv.fit(train_x, train_v)\n",
    "print(tensors)\n",
    "print(tensorsxv)"
   ]
  },
  {
   "cell_type": "code",
   "execution_count": null,
   "metadata": {
    "ExecuteTime": {
     "end_time": "2020-11-25T01:36:01.432044Z",
     "start_time": "2020-11-25T01:36:01.097952Z"
    }
   },
   "outputs": [],
   "source": [
    "fixx=myspace.get_model_v(tensors,test_v,test_x)\n",
    "fixxv=myspacexv.get_model_v(tensorsxv,test_v,test_x)"
   ]
  },
  {
   "cell_type": "code",
   "execution_count": null,
   "metadata": {
    "ExecuteTime": {
     "end_time": "2020-11-25T01:36:03.513401Z",
     "start_time": "2020-11-25T01:36:01.851379Z"
    }
   },
   "outputs": [],
   "source": [
    "f, ((ax1,ax2,ax3)) = plt.subplots(1, 3, figsize=(15,5))\n",
    "gs=200\n",
    "ax1.hexbin(test_v[:,0],test_v[:,1],extent=[-125,125,-125,125],mincnt=1,rasterized=True,gridsize=gs)\n",
    "ax1.set_title('Uncorrected',fontsize=20)\n",
    "ax1.set_xlabel('vx (km/s)',fontsize=20)\n",
    "ax1.set_ylabel('vy (km/s)',fontsize=20)\n",
    "ax1.set_xlim(-125,125)\n",
    "ax1.set_ylim(-125,125)\n",
    "ax2.hexbin(fixx[:,0],fixx[:,1],extent=[-125,125,-125,125],mincnt=1,rasterized=True,gridsize=gs)\n",
    "ax2.set_title('x corrected',fontsize=20)\n",
    "ax2.set_xlabel('vx (km/s)',fontsize=20)\n",
    "ax2.set_xlim(-125,125)\n",
    "ax2.set_ylim(-125,125)\n",
    "ax3.hexbin(fixxv[:,0],fixxv[:,1],extent=[-125,125,-125,125],mincnt=1,rasterized=True,gridsize=gs)\n",
    "ax3.set_title('xv corrected',fontsize=20)\n",
    "ax3.set_xlabel('vx (km/s)',fontsize=20)\n",
    "ax3.set_xlim(-125,125)\n",
    "ax3.set_ylim(-125,125)\n",
    "plt.show()"
   ]
  },
  {
   "cell_type": "code",
   "execution_count": null,
   "metadata": {},
   "outputs": [],
   "source": [
    "make_anim2(XX,VV,tensors,myspace,tensorsxv,myspacexv)"
   ]
  },
  {
   "cell_type": "code",
   "execution_count": null,
   "metadata": {},
   "outputs": [],
   "source": []
  }
 ],
 "metadata": {
  "kernelspec": {
   "display_name": "Python 3",
   "language": "python",
   "name": "python3"
  },
  "language_info": {
   "codemirror_mode": {
    "name": "ipython",
    "version": 3
   },
   "file_extension": ".py",
   "mimetype": "text/x-python",
   "name": "python",
   "nbconvert_exporter": "python",
   "pygments_lexer": "ipython3",
   "version": "3.7.4"
  },
  "toc": {
   "base_numbering": 1,
   "nav_menu": {},
   "number_sections": true,
   "sideBar": true,
   "skip_h1_title": false,
   "title_cell": "Table of Contents",
   "title_sidebar": "Contents",
   "toc_cell": false,
   "toc_position": {},
   "toc_section_display": true,
   "toc_window_display": false
  }
 },
 "nbformat": 4,
 "nbformat_minor": 2
}
