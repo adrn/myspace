{
 "cells": [
  {
   "cell_type": "code",
   "execution_count": null,
   "metadata": {},
   "outputs": [],
   "source": [
    "# Third-party\n",
    "from astropy.io import fits\n",
    "import astropy.coordinates as coord\n",
    "import astropy.units as u\n",
    "from astropy.table import Table\n",
    "import matplotlib as mpl\n",
    "import matplotlib.pyplot as plt\n",
    "import numpy as np\n",
    "%matplotlib inline\n",
    "\n",
    "from pyia import GaiaData"
   ]
  },
  {
   "cell_type": "code",
   "execution_count": null,
   "metadata": {},
   "outputs": [],
   "source": [
    "gc_frame = coord.Galactocentric(z_sun=0*u.pc, galcen_distance=8.3*u.kpc)"
   ]
  },
  {
   "cell_type": "code",
   "execution_count": null,
   "metadata": {},
   "outputs": [],
   "source": [
    "# see FGK-select.ipynb\n",
    "stype = 'fgk'\n",
    "# stype = 'af'\n",
    "\n",
    "if stype == 'af':\n",
    "    vmax = 1E2\n",
    "    hex_h = 150 # pc\n",
    "    \n",
    "elif stype == 'fgk':\n",
    "    vmax = 3e2\n",
    "    hex_h = 120\n",
    "\n",
    "g = GaiaData('../data/{0}.fits'.format(stype))\n",
    "\n",
    "c = g.skycoord\n",
    "galcen = c.transform_to(gc_frame)"
   ]
  },
  {
   "cell_type": "code",
   "execution_count": null,
   "metadata": {},
   "outputs": [],
   "source": [
    "gal = c.galactic\n",
    "gal.set_representation_cls('cartesian')"
   ]
  },
  {
   "cell_type": "markdown",
   "metadata": {},
   "source": [
    "---\n",
    "\n",
    "## Hexagons"
   ]
  },
  {
   "cell_type": "code",
   "execution_count": null,
   "metadata": {},
   "outputs": [],
   "source": [
    "def get_hexagons(h):\n",
    "    a = np.sqrt(3)/2 * h # inner side\n",
    "    \n",
    "    pas = dict() # keyed by \"ring\"\n",
    "    pas[0] = list()\n",
    "    pas[1] = list()\n",
    "    pas[2] = list()\n",
    "    \n",
    "    pa0 = mpl.patches.RegularPolygon((0., 0.), numVertices=6, \n",
    "                                     radius=h, orientation=np.pi/2)\n",
    "    pas[0].append(pa0.get_verts())\n",
    "\n",
    "    for ang in np.arange(0, 360, 60)*u.deg:\n",
    "        # Ring 1\n",
    "        xy0 = 2*a * np.array([np.cos(ang+90*u.deg), np.sin(ang+90*u.deg)])\n",
    "        pa = mpl.patches.RegularPolygon(xy0, numVertices=6, \n",
    "                                        radius=h, orientation=np.pi/2)\n",
    "        pas[1].append(pa.get_verts())\n",
    "        \n",
    "        # Ring 2\n",
    "        xy0 = 4*a * np.array([np.cos(ang+90*u.deg), np.sin(ang+90*u.deg)])\n",
    "        pa = mpl.patches.RegularPolygon(xy0, numVertices=6, \n",
    "                                        radius=h, orientation=np.pi/2)\n",
    "        pas[2].append(pa.get_verts())\n",
    "        \n",
    "        xy0 = 3*h * np.array([np.cos(ang+120*u.deg), np.sin(ang+120*u.deg)])\n",
    "        pa = mpl.patches.RegularPolygon(xy0, numVertices=6, \n",
    "                                        radius=h, orientation=np.pi/2)\n",
    "        pas[2].append(pa.get_verts())\n",
    "        \n",
    "    return pas"
   ]
  },
  {
   "cell_type": "code",
   "execution_count": null,
   "metadata": {},
   "outputs": [],
   "source": [
    "hexs = get_hexagons(hex_h)"
   ]
  },
  {
   "cell_type": "code",
   "execution_count": null,
   "metadata": {},
   "outputs": [],
   "source": [
    "fig, ax = plt.subplots(1, 1, figsize=(6, 6))\n",
    "\n",
    "for k in hexs.keys():\n",
    "    for pa in hexs[k]:\n",
    "        pa = mpl.patches.Polygon(pa, facecolor='none', edgecolor='#333333')\n",
    "        ax.add_patch(pa)\n",
    "\n",
    "        \n",
    "ax.plot(gal.u, gal.v, \n",
    "        marker=',', alpha=0.1, color='k',\n",
    "        linestyle='none', zorder=100)\n",
    "        \n",
    "lim = 1000\n",
    "ax.set_xlim(-lim, lim)\n",
    "ax.set_ylim(-lim, lim)\n",
    "\n",
    "ax.set_xlabel('$x$ [pc]')\n",
    "ax.set_ylabel('$y$ [pc]')"
   ]
  },
  {
   "cell_type": "markdown",
   "metadata": {},
   "source": [
    "---"
   ]
  },
  {
   "cell_type": "code",
   "execution_count": null,
   "metadata": {},
   "outputs": [],
   "source": [
    "cyl = gal.transform_to(gc_frame)\n",
    "cyl.set_representation_cls('cylindrical')\n",
    "\n",
    "xyz = np.vstack((gal.u.to(u.pc).value, \n",
    "                 gal.v.to(u.pc).value,\n",
    "                 gal.w.to(u.pc).value)).T\n",
    "\n",
    "# UVW = np.vstack((gal_fgk.U.to(u.km/u.s).value, \n",
    "#                  gal_fgk.V.to(u.km/u.s).value, \n",
    "#                  gal_fgk.W.to(u.km/u.s).value)).T\n",
    "\n",
    "UVW = np.vstack((cyl.d_rho.to(u.km/u.s).value, \n",
    "                 - ((cyl.rho * cyl.d_phi).to(u.km/u.s, u.dimensionless_angles()).value + 220.), \n",
    "                 cyl.d_z.to(u.km/u.s).value)).T"
   ]
  },
  {
   "cell_type": "code",
   "execution_count": null,
   "metadata": {},
   "outputs": [],
   "source": [
    "for k in hexs.keys():\n",
    "    for b, pa in enumerate(hexs[k]):\n",
    "        hex_mask = mpl.patches.Path(pa).contains_points(xyz[:, :2])\n",
    "        print(hex_mask.sum())\n",
    "\n",
    "        lim = 150\n",
    "        bins = np.linspace(-lim, lim, 101)\n",
    "\n",
    "        fig, axes = plt.subplots(2, 2, figsize=(8, 7.2))\n",
    "        \n",
    "        for a, (i, j) in zip([0, 2, 3], [(0, 1), (0, 2), (1, 2)]):\n",
    "            ax = axes.flat[a]\n",
    "            H, xe, ye = np.histogram2d(UVW[hex_mask,i], UVW[hex_mask,j], bins=bins)\n",
    "            ax.pcolormesh(xe, ye, H.T, \n",
    "                          norm=mpl.colors.LogNorm(), \n",
    "                          cmap='magma', vmin=1, vmax=vmax)\n",
    "            ax.set_xlim(-lim, lim)\n",
    "            ax.set_ylim(-lim, lim)\n",
    "        \n",
    "        axes[0, 0].set_ylabel('$-v_\\phi-220$')\n",
    "        axes[1, 0].set_ylabel('$v_z$')\n",
    "        axes[1, 0].set_xlabel('$v_R$')\n",
    "        axes[1, 1].set_xlabel('$-v_\\phi-220$')\n",
    "        axes[0, 0].xaxis.set_ticklabels([])\n",
    "        axes[1, 1].yaxis.set_ticklabels([])\n",
    "        \n",
    "        # axes[0,1].set_visible(False)\n",
    "        ax = axes[0,1]\n",
    "        for k_ in hexs.keys():\n",
    "            for pa_ in hexs[k_]:\n",
    "                pa_ = mpl.patches.Polygon(pa_, facecolor='none', edgecolor='#333333')\n",
    "                ax.add_patch(pa_)\n",
    "                \n",
    "        ax.add_patch(mpl.patches.Polygon(pa, facecolor='#333333', edgecolor='#333333'))\n",
    "        ax.set_xlim(-750, 750)\n",
    "        ax.set_ylim(-750, 750)\n",
    "        ax.set_xlabel('$x$ [pc]')\n",
    "        ax.set_ylabel('$y$ [pc]')\n",
    "\n",
    "        fig.tight_layout()\n",
    "        fig.savefig('../plots/uvw/{2}-{0}-{1:02d}.png'.format(k, b, stype), dpi=250)\n",
    "        plt.close(fig)"
   ]
  },
  {
   "cell_type": "markdown",
   "metadata": {},
   "source": [
    "```\n",
    "convert -delay 30 -loop 0 1-*.png ring1.gif\n",
    "convert -delay 30 -loop 0 2-*.png ring2.gif\n",
    "convert -delay 30 -loop 1 *.png all.gif\n",
    "```"
   ]
  },
  {
   "cell_type": "code",
   "execution_count": null,
   "metadata": {},
   "outputs": [],
   "source": [
    "line_cmd = 'convert -delay 30 -loop 0 {0} full-line{1}-{2}.gif'\n",
    "for k, a in enumerate([[(2,0),(1,0),(0,0),(1,3),(2,6)],\n",
    "                       [(2,2),(1,1),(0,0),(1,4),(2,8)],\n",
    "                       [(2,4),(1,2),(0,0),(1,5),(2,10)]]):\n",
    "    names = ['{2}-{0}-{1:02d}.png'.format(i, j, stype) for i, j in a] \n",
    "    print(line_cmd.format(' '.join(names + names[::-1][1:-1]), k, stype))"
   ]
  },
  {
   "cell_type": "code",
   "execution_count": null,
   "metadata": {},
   "outputs": [],
   "source": []
  }
 ],
 "metadata": {
  "kernelspec": {
   "display_name": "Python [default]",
   "language": "python",
   "name": "python3"
  },
  "language_info": {
   "codemirror_mode": {
    "name": "ipython",
    "version": 3
   },
   "file_extension": ".py",
   "mimetype": "text/x-python",
   "name": "python",
   "nbconvert_exporter": "python",
   "pygments_lexer": "ipython3",
   "version": "3.6.4"
  }
 },
 "nbformat": 4,
 "nbformat_minor": 2
}