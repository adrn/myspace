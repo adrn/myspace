{
 "cells": [
  {
   "cell_type": "code",
   "execution_count": null,
   "metadata": {},
   "outputs": [],
   "source": [
    "# Third-party\n",
    "from astropy.io import fits\n",
    "import astropy.coordinates as coord\n",
    "import astropy.units as u\n",
    "from astropy.table import Table\n",
    "import matplotlib as mpl\n",
    "import matplotlib.pyplot as plt\n",
    "import numpy as np\n",
    "%matplotlib inline\n",
    "\n",
    "from pyia import GaiaData"
   ]
  },
  {
   "cell_type": "code",
   "execution_count": null,
   "metadata": {},
   "outputs": [],
   "source": [
    "# orig_g = Table.read('../data/R1500_z_750_cyl_rv.fits', memmap=True)\n",
    "# mask = np.isfinite(orig_g['radial_velocity']) & ((orig_g['parallax'] / orig_g['parallax_error']) > 6)\n",
    "# mask.sum()\n",
    "\n",
    "g = GaiaData('../data/R1500_z_750_cyl_rv.fits')"
   ]
  },
  {
   "cell_type": "code",
   "execution_count": null,
   "metadata": {},
   "outputs": [],
   "source": [
    "c = g.skycoord"
   ]
  },
  {
   "cell_type": "code",
   "execution_count": null,
   "metadata": {},
   "outputs": [],
   "source": [
    "np.isfinite(g.e_bp_min_rp_val).sum(), len(g)"
   ]
  },
  {
   "cell_type": "code",
   "execution_count": null,
   "metadata": {},
   "outputs": [],
   "source": [
    "gal = c.galactic[(g.visibility_periods_used >= 8)]\n",
    "gal.set_representation_cls('cartesian')\n",
    "\n",
    "fig, axes = plt.subplots(2, 2, figsize=(8, 8), sharex=True, sharey=True)\n",
    "axes[0,0].plot(gal.u, gal.v, marker=',', alpha=0.1, linestyle='none')\n",
    "axes[1,0].plot(gal.u, gal.w, marker=',', alpha=0.1, linestyle='none')\n",
    "axes[1,1].plot(gal.v, gal.w, marker=',', alpha=0.1, linestyle='none')\n",
    "axes[0,1].set_visible(False)\n",
    "\n",
    "axes[0,0].set_xlim(-500, 500)\n",
    "axes[0,0].set_ylim(-500, 500)\n",
    "\n",
    "fig.tight_layout()"
   ]
  },
  {
   "cell_type": "code",
   "execution_count": null,
   "metadata": {},
   "outputs": [],
   "source": [
    "plt.hist(g.phot_g_mean_mag[np.isfinite(g.phot_g_mean_mag)], \n",
    "         bins=np.linspace(8, 14., 32));\n",
    "plt.axvline(12.6)"
   ]
  },
  {
   "cell_type": "code",
   "execution_count": null,
   "metadata": {},
   "outputs": [],
   "source": [
    "m = 12.6*u.mag\n",
    "M = 5.*u.mag\n",
    "coord.Distance(distmod=m-M)"
   ]
  },
  {
   "cell_type": "markdown",
   "metadata": {},
   "source": [
    "Note: to be somewhat complete with RVs, we should really only go down to abs. mag ~ 5"
   ]
  },
  {
   "cell_type": "markdown",
   "metadata": {},
   "source": [
    "Assign reddening by nearest neighbor:"
   ]
  },
  {
   "cell_type": "code",
   "execution_count": null,
   "metadata": {},
   "outputs": [],
   "source": [
    "# idx, sep2d, dist3d = c.match_to_catalog_3d(c, nthneighbor=2)\n",
    "\n",
    "no_ext = np.isnan(g.e_bp_min_rp_val) | np.isnan(g.a_g_val)\n",
    "idx, sep2d, dist3d = c[no_ext].match_to_catalog_sky(c, nthneighbor=2)"
   ]
  },
  {
   "cell_type": "code",
   "execution_count": null,
   "metadata": {},
   "outputs": [],
   "source": [
    "e_bprp = g.e_bp_min_rp_val.value\n",
    "a_g = g.a_g_val.value\n",
    "\n",
    "e_bprp[no_ext] = e_bprp[idx]\n",
    "a_g[no_ext] = a_g[idx]"
   ]
  },
  {
   "cell_type": "code",
   "execution_count": null,
   "metadata": {},
   "outputs": [],
   "source": [
    "bprp = (g.phot_bp_mean_mag - g.phot_rp_mean_mag)\n",
    "G = g.phot_g_mean_mag\n",
    "\n",
    "bprp0 = bprp - e_bprp*u.mag\n",
    "G0 = G - a_g*u.mag"
   ]
  },
  {
   "cell_type": "code",
   "execution_count": null,
   "metadata": {},
   "outputs": [],
   "source": [
    "# F5\u2013K5\n",
    "tmp_fgk_mask = (g.teff_val.value < 6500.) & (g.teff_val.value > 4400)\n",
    "test_mask = tmp_fgk_mask & (g.distance < 200*u.pc)"
   ]
  },
  {
   "cell_type": "code",
   "execution_count": null,
   "metadata": {},
   "outputs": [],
   "source": [
    "bins = (np.arange(-0.5, 2.5+1e-5, 0.02),\n",
    "        np.arange(-1, 12+1e-5, 0.02))\n",
    "\n",
    "fig, axes = plt.subplots(1, 2, figsize=(10, 5), sharex=True, sharey=True)\n",
    "\n",
    "ax = axes[0]\n",
    "\n",
    "# H, xe, ye = np.histogram2d(bprp[test_mask], (G - g.distmod)[test_mask], \n",
    "H, xe, ye = np.histogram2d(bprp0[test_mask], (G0 - g.distmod)[test_mask], \n",
    "                           bins=bins)\n",
    "ax.pcolormesh(xe, ye, H.T, cmap='Greys',\n",
    "              norm=mpl.colors.LogNorm(vmin=1E0, vmax=1E4))\n",
    "\n",
    "nodes = np.array([[-0.05, 1.1],\n",
    "                  [-0.05, 1.65],\n",
    "                  [0.55, 3.65],\n",
    "                  [0.77, 5],\n",
    "                  [1, 6],\n",
    "                  [1.2, 6],\n",
    "                  [1, 5.2],\n",
    "                  [0.65, 3.3],\n",
    "                  [0.4, 2.5],\n",
    "                  [-0.05, 1.1]])\n",
    "ax.plot(nodes[:, 0], nodes[:, 1], marker='.')\n",
    "fgk_path = mpl.patches.Path(nodes)\n",
    "ax.axhline(6, zorder=-100)\n",
    "\n",
    "ax = axes[1]\n",
    "\n",
    "# H, xe, ye = np.histogram2d(bprp, G - g.distmod, \n",
    "H, xe, ye = np.histogram2d(bprp0, G0 - g.distmod, \n",
    "                           bins=bins)\n",
    "ax.pcolormesh(xe, ye, H.T, cmap='Greys',\n",
    "              norm=mpl.colors.LogNorm(vmin=1E0, vmax=1E4))\n",
    "ax.plot(nodes[:, 0], nodes[:, 1], marker='.')\n",
    "\n",
    "ax.set_ylim(12, -1)\n",
    "ax.set_xlim(-0.5, 2.5)\n",
    "\n",
    "fig.tight_layout()"
   ]
  },
  {
   "cell_type": "code",
   "execution_count": null,
   "metadata": {},
   "outputs": [],
   "source": [
    "xy = np.vstack((bprp0, G0 - g.distmod)).T.value"
   ]
  },
  {
   "cell_type": "code",
   "execution_count": null,
   "metadata": {},
   "outputs": [],
   "source": [
    "fgk_mask = fgk_path.contains_points(xy)\n",
    "fgk_mask.sum()"
   ]
  },
  {
   "cell_type": "code",
   "execution_count": null,
   "metadata": {},
   "outputs": [],
   "source": [
    "gal_fgk = c.galactic[fgk_mask]\n",
    "gal_fgk.set_representation_cls('cartesian')\n",
    "\n",
    "fig, axes = plt.subplots(2, 2, figsize=(8, 7.2), sharex=True, sharey=True)\n",
    "axes[0,0].plot(gal_fgk.u, gal_fgk.v, \n",
    "               marker=',', alpha=0.2, linestyle='none')\n",
    "axes[1,0].plot(gal_fgk.u, gal_fgk.w, \n",
    "               marker=',', alpha=0.2, linestyle='none')\n",
    "axes[1,1].plot(gal_fgk.v, gal_fgk.w, \n",
    "               marker=',', alpha=0.2, linestyle='none')\n",
    "axes[0,1].set_visible(False)\n",
    "\n",
    "axes[0,0].set_xlim(-500, 500)\n",
    "axes[0,0].set_ylim(-500, 500)\n",
    "\n",
    "fig.tight_layout()"
   ]
  },
  {
   "cell_type": "markdown",
   "metadata": {},
   "source": [
    "---\n",
    "\n",
    "## Hexagons"
   ]
  },
  {
   "cell_type": "code",
   "execution_count": null,
   "metadata": {},
   "outputs": [],
   "source": [
    "# internal triangle side length\n",
    "h = 120. # pc"
   ]
  },
  {
   "cell_type": "code",
   "execution_count": null,
   "metadata": {},
   "outputs": [],
   "source": [
    "def get_hexagons(h):\n",
    "    a = np.sqrt(3)/2 * h # inner side\n",
    "    \n",
    "    pas = dict() # keyed by \"ring\"\n",
    "    pas[0] = list()\n",
    "    pas[1] = list()\n",
    "    pas[2] = list()\n",
    "#     pas[3] = list()\n",
    "    \n",
    "    pa0 = mpl.patches.RegularPolygon((0., 0.), numVertices=6, \n",
    "                                     radius=h, orientation=np.pi/2)\n",
    "    pas[0].append(pa0.get_verts())\n",
    "\n",
    "    for ang in np.arange(0, 360, 60)*u.deg:\n",
    "        # Ring 1\n",
    "        xy0 = 2*a * np.array([np.cos(ang+90*u.deg), np.sin(ang+90*u.deg)])\n",
    "        pa = mpl.patches.RegularPolygon(xy0, numVertices=6, \n",
    "                                        radius=h, orientation=np.pi/2)\n",
    "        pas[1].append(pa.get_verts())\n",
    "        \n",
    "        # Ring 2\n",
    "        xy0 = 4*a * np.array([np.cos(ang+90*u.deg), np.sin(ang+90*u.deg)])\n",
    "        pa = mpl.patches.RegularPolygon(xy0, numVertices=6, \n",
    "                                        radius=h, orientation=np.pi/2)\n",
    "        pas[2].append(pa.get_verts())\n",
    "        \n",
    "        xy0 = 3*h * np.array([np.cos(ang+120*u.deg), np.sin(ang+120*u.deg)])\n",
    "        pa = mpl.patches.RegularPolygon(xy0, numVertices=6, \n",
    "                                        radius=h, orientation=np.pi/2)\n",
    "        pas[2].append(pa.get_verts())\n",
    "        \n",
    "#         # Ring 3\n",
    "#         xy0 = 6*a * np.array([np.cos(ang+90*u.deg), np.sin(ang+90*u.deg)])\n",
    "#         pa = mpl.patches.RegularPolygon(xy0, numVertices=6, \n",
    "#                                         radius=h, orientation=np.pi/2)\n",
    "#         pas[3].append(pa.get_verts())\n",
    "        \n",
    "#         xy0 = 5*a/np.cos(20*u.deg) * np.array([np.cos(ang+110*u.deg), np.sin(ang+110*u.deg)])\n",
    "#         pa = mpl.patches.RegularPolygon(xy0, numVertices=6, \n",
    "#                                         radius=h, orientation=np.pi/2)\n",
    "#         pas[3].append(pa.get_verts())\n",
    "        \n",
    "    return pas"
   ]
  },
  {
   "cell_type": "code",
   "execution_count": null,
   "metadata": {},
   "outputs": [],
   "source": [
    "hexs = get_hexagons(h)"
   ]
  },
  {
   "cell_type": "code",
   "execution_count": null,
   "metadata": {},
   "outputs": [],
   "source": [
    "fig, ax = plt.subplots(1, 1, figsize=(6, 6))\n",
    "\n",
    "for k in hexs.keys():\n",
    "    for pa in hexs[k]:\n",
    "        pa = mpl.patches.Polygon(pa, facecolor='none', edgecolor='#333333')\n",
    "        ax.add_patch(pa)\n",
    "\n",
    "        \n",
    "ax.plot(gal_fgk.u, gal_fgk.v, \n",
    "        marker=',', alpha=0.1, color='k',\n",
    "        linestyle='none', zorder=100)\n",
    "        \n",
    "lim = 650\n",
    "ax.set_xlim(-lim, lim)\n",
    "ax.set_ylim(-lim, lim)\n",
    "\n",
    "ax.set_xlabel('$x$ [pc]')\n",
    "ax.set_ylabel('$y$ [pc]')"
   ]
  },
  {
   "cell_type": "markdown",
   "metadata": {},
   "source": [
    "---"
   ]
  },
  {
   "cell_type": "code",
   "execution_count": null,
   "metadata": {},
   "outputs": [],
   "source": [
    "fgk_cyl = gal_fgk.transform_to(coord.Galactocentric(galcen_distance=8*u.kpc,\n",
    "                                                    z_sun=0*u.kpc))\n",
    "fgk_cyl.set_representation_cls('cylindrical')\n",
    "\n",
    "xyz = np.vstack((gal_fgk.u.to(u.pc).value, \n",
    "                 gal_fgk.v.to(u.pc).value,\n",
    "                 gal_fgk.w.to(u.pc).value)).T\n",
    "\n",
    "# UVW = np.vstack((gal_fgk.U.to(u.km/u.s).value, \n",
    "#                  gal_fgk.V.to(u.km/u.s).value, \n",
    "#                  gal_fgk.W.to(u.km/u.s).value)).T\n",
    "\n",
    "UVW = np.vstack((fgk_cyl.d_rho.to(u.km/u.s).value, \n",
    "                 - ((fgk_cyl.rho * fgk_cyl.d_phi).to(u.km/u.s, u.dimensionless_angles()).value + 220.), \n",
    "                 fgk_cyl.d_z.to(u.km/u.s).value)).T"
   ]
  },
  {
   "cell_type": "code",
   "execution_count": null,
   "metadata": {},
   "outputs": [],
   "source": [
    "for k in hexs.keys():\n",
    "    for b, pa in enumerate(hexs[k]):\n",
    "        hex_mask = mpl.patches.Path(pa).contains_points(xyz[:, :2])\n",
    "        print(hex_mask.sum())\n",
    "\n",
    "        lim = 150\n",
    "        bins = np.linspace(-lim, lim, 128)\n",
    "\n",
    "        fig, axes = plt.subplots(2, 2, figsize=(8, 7.2))\n",
    "        \n",
    "        for a, (i, j) in zip([0, 2, 3], [(0, 1), (0, 2), (1, 2)]):\n",
    "            ax = axes.flat[a]\n",
    "            H, xe, ye = np.histogram2d(UVW[hex_mask,i], UVW[hex_mask,j], bins=bins)\n",
    "            ax.pcolormesh(xe, ye, H.T, \n",
    "                          norm=mpl.colors.LogNorm(), \n",
    "                          cmap='magma', vmin=1, vmax=3E2)\n",
    "            ax.set_xlim(-lim, lim)\n",
    "            ax.set_ylim(-lim, lim)\n",
    "        \n",
    "        axes[0, 0].set_ylabel('$-v_\\phi-220$')\n",
    "        axes[1, 0].set_ylabel('$v_z$')\n",
    "        axes[1, 0].set_xlabel('$v_R$')\n",
    "        axes[1, 1].set_xlabel('$-v_\\phi-220$')\n",
    "        axes[0, 0].xaxis.set_ticklabels([])\n",
    "        axes[1, 1].yaxis.set_ticklabels([])\n",
    "        \n",
    "        # axes[0,1].set_visible(False)\n",
    "        ax = axes[0,1]\n",
    "        for k_ in hexs.keys():\n",
    "            for pa_ in hexs[k_]:\n",
    "                pa_ = mpl.patches.Polygon(pa_, facecolor='none', edgecolor='#333333')\n",
    "                ax.add_patch(pa_)\n",
    "                \n",
    "        ax.add_patch(mpl.patches.Polygon(pa, facecolor='#333333', edgecolor='#333333'))\n",
    "        ax.set_xlim(-500, 500)\n",
    "        ax.set_ylim(-500, 500)\n",
    "        ax.set_xlabel('$x$ [pc]')\n",
    "        ax.set_ylabel('$y$ [pc]')\n",
    "\n",
    "        fig.tight_layout()\n",
    "        fig.savefig('hexagon-plots/{0}-{1:02d}.png'.format(k, b), dpi=250)\n",
    "        plt.close(fig)\n"
   ]
  },
  {
   "cell_type": "markdown",
   "metadata": {},
   "source": [
    "```\n",
    "convert -delay 30 -loop 0 1-*.png ring1.gif\n",
    "convert -delay 30 -loop 0 2-*.png ring2.gif\n",
    "convert -delay 30 -loop 1 *.png all.gif\n",
    "```"
   ]
  },
  {
   "cell_type": "code",
   "execution_count": null,
   "metadata": {},
   "outputs": [],
   "source": [
    "line_cmd = 'convert -delay 30 -loop 0 {0} full-line{1}.gif'\n",
    "for k, a in enumerate([[(2,0),(1,0),(0,0),(1,3),(2,6)],\n",
    "                       [(2,2),(1,1),(0,0),(1,4),(2,8)],\n",
    "                       [(2,4),(1,2),(0,0),(1,5),(2,10)]]):\n",
    "    print(line_cmd.format(' '.join(['{0}-{1:02d}.png'.format(i, j) for i, j in a]), k))"
   ]
  },
  {
   "cell_type": "code",
   "execution_count": null,
   "metadata": {},
   "outputs": [],
   "source": []
  },
  {
   "cell_type": "code",
   "execution_count": null,
   "metadata": {},
   "outputs": [],
   "source": []
  },
  {
   "cell_type": "code",
   "execution_count": null,
   "metadata": {},
   "outputs": [],
   "source": []
  }
 ],
 "metadata": {
  "kernelspec": {
   "display_name": "Python [default]",
   "language": "python",
   "name": "python3"
  },
  "language_info": {
   "codemirror_mode": {
    "name": "ipython",
    "version": 3
   },
   "file_extension": ".py",
   "mimetype": "text/x-python",
   "name": "python",
   "nbconvert_exporter": "python",
   "pygments_lexer": "ipython3",
   "version": "3.6.4"
  }
 },
 "nbformat": 4,
 "nbformat_minor": 2
}