{
 "cells": [
  {
   "cell_type": "code",
   "execution_count": 1,
   "metadata": {},
   "outputs": [],
   "source": [
    "import numpy as np\n",
    "import matplotlib.pyplot as plt\n",
    "import matplotlib.cm as cm\n",
    "import os\n",
    "import astropy.coordinates as coord\n",
    "import astropy.units as u\n",
    "from astropy.table import Table, QTable, hstack\n",
    "from myspace import MySpace\n",
    "from sklearn.mixture import GaussianMixture\n",
    "from zero_point import zpt"
   ]
  },
  {
   "cell_type": "code",
   "execution_count": 2,
   "metadata": {},
   "outputs": [
    {
     "name": "stdout",
     "output_type": "stream",
     "text": [
      "scikit-learn 0.23.2\n",
      "jax 0.2.7\n",
      "numpy 1.19.4\n",
      "scipy 1.5.4\n"
     ]
    }
   ],
   "source": [
    "import sklearn\n",
    "import jax\n",
    "import numpy\n",
    "import scipy\n",
    "\n",
    "print('scikit-learn', sklearn.__version__)\n",
    "print('jax', jax.__version__)\n",
    "print('numpy', numpy.__version__)\n",
    "print('scipy', scipy.__version__)\n",
    "\n",
    "#Output:\n",
    "#scikit-learn 0.23.2\n",
    "#jax 0.2.5\n",
    "#numpy 1.19.1\n",
    "#scipy 1.5.0"
   ]
  },
  {
   "cell_type": "code",
   "execution_count": 3,
   "metadata": {},
   "outputs": [],
   "source": [
    "gaia = QTable.read('../data/RV-all-result.fits', format='fits')"
   ]
  },
  {
   "cell_type": "code",
   "execution_count": 4,
   "metadata": {},
   "outputs": [
    {
     "name": "stderr",
     "output_type": "stream",
     "text": [
      "/opt/miniconda3/lib/python3.8/site-packages/zero_point/zpt.py:205: UserWarning: The apparent magnitude of one or more of the sources is outside the expected range (6-21 mag). \n",
      "                Outside this range, there is no further interpolation, thus the values at 6 or 21 are returned.\n",
      "  warnings.warn(\n",
      "/opt/miniconda3/lib/python3.8/site-packages/zero_point/zpt.py:220: UserWarning: The nu_eff_used_in_astrometry of some of the 5p source(s) is outside the expected range (1.1-1.9 \n",
      "                mag). Outside this range, the zero-point calculated can be seriously wrong.\n",
      "  warnings.warn(\n",
      "/opt/miniconda3/lib/python3.8/site-packages/zero_point/zpt.py:233: UserWarning: The pseudocolour of some of the 6p source(s) is outside the expected range (1.24-1.72 mag).\n",
      "                 The maximum corrections are reached already at 1.24 and 1.72\n",
      "  warnings.warn(\n"
     ]
    }
   ],
   "source": [
    "zpt.load_tables()\n",
    "\n",
    "gmag = gaia['phot_g_mean_mag'].value\n",
    "nueffused = gaia['nu_eff_used_in_astrometry'].value\n",
    "psc = gaia['pseudocolour'].value\n",
    "sinbeta = np.sin(np.deg2rad(gaia['ecl_lat'].value))\n",
    "soltype = gaia['astrometric_params_solved']\n",
    "\n",
    "zpvals = zpt.get_zpt(gmag, nueffused, psc, sinbeta, soltype)\n",
    "cparallax=gaia['parallax'].value-zpvals"
   ]
  },
  {
   "cell_type": "code",
   "execution_count": 5,
   "metadata": {},
   "outputs": [],
   "source": [
    "qindx=(gaia['parallax_over_error']>4.)\n"
   ]
  },
  {
   "cell_type": "code",
   "execution_count": 6,
   "metadata": {},
   "outputs": [],
   "source": [
    "c = coord.SkyCoord(ra=gaia['ra'][qindx],dec=gaia['dec'][qindx],distance=1./cparallax[qindx]*u.kpc,pm_ra_cosdec=gaia['pmra'][qindx],pm_dec=gaia['pmdec'][qindx],radial_velocity=gaia['radial_velocity'][qindx])\n",
    "\n"
   ]
  },
  {
   "cell_type": "code",
   "execution_count": 7,
   "metadata": {},
   "outputs": [],
   "source": [
    "gal = c.galactic\n",
    "gal.set_representation_cls('cartesian')"
   ]
  },
  {
   "cell_type": "code",
   "execution_count": 8,
   "metadata": {},
   "outputs": [],
   "source": [
    "xyz = np.vstack((gal.u.to(u.kpc).value, \n",
    "                 gal.v.to(u.kpc).value,\n",
    "                 gal.w.to(u.kpc).value)).T\n",
    "\n",
    "UVW = np.vstack((gal.U.to(u.km/u.s).value, \n",
    "                 gal.V.to(u.km/u.s).value, \n",
    "                 gal.W.to(u.km/u.s).value)).T\n",
    "\n",
    "disk_vmask = np.linalg.norm(UVW, axis=1) < 150."
   ]
  },
  {
   "cell_type": "code",
   "execution_count": 9,
   "metadata": {},
   "outputs": [
    {
     "name": "stdout",
     "output_type": "stream",
     "text": [
      "(98166, 3)\n"
     ]
    }
   ],
   "source": [
    "XX=xyz\n",
    "VV=UVW\n",
    "dist2=np.sqrt(XX[:,0]**2+XX[:,1]**2)\n",
    "\n",
    "_cyl = gal.represent_as('cylindrical')\n",
    "mask_r100 = (_cyl.rho < 100*u.pc) & (np.abs(_cyl.z) < 150*u.pc)\n",
    "mask_r300 = (_cyl.rho < 300*u.pc) & (np.abs(_cyl.z) < 500*u.pc)\n",
    "mask_r500 = (_cyl.rho < 500*u.pc) & (np.abs(_cyl.z) < 500*u.pc)\n",
    "mask_r100.sum(), mask_r500.sum()\n",
    "#local_mask=(dist2<0.2)*(np.fabs(XX[:,2])<0.2)\n",
    "#train_mask=(dist2>0.2)*(dist2<0.5)*(np.fabs(XX[:,2])<0.5)\n",
    "\n",
    "local_v = UVW[disk_vmask & mask_r100]\n",
    "local_x = xyz[disk_vmask & mask_r100]\n",
    "\n",
    "print(local_v.shape)"
   ]
  },
  {
   "cell_type": "code",
   "execution_count": 10,
   "metadata": {},
   "outputs": [
    {
     "data": {
      "text/plain": [
       "GaussianMixture(n_components=64)"
      ]
     },
     "execution_count": 10,
     "metadata": {},
     "output_type": "execute_result"
    }
   ],
   "source": [
    "local_gmm = GaussianMixture(n_components=64)\n",
    "local_gmm.fit(local_v)"
   ]
  },
  {
   "cell_type": "code",
   "execution_count": 11,
   "metadata": {},
   "outputs": [],
   "source": [
    "myspacexv = MySpace(local_gmm, terms=['x','xv'])"
   ]
  },
  {
   "cell_type": "code",
   "execution_count": 12,
   "metadata": {},
   "outputs": [
    {
     "data": {
      "text/plain": [
       "((98166, 3), (829927, 3), (1499237, 3))"
      ]
     },
     "execution_count": 12,
     "metadata": {},
     "output_type": "execute_result"
    }
   ],
   "source": [
    "\n",
    "train_v = UVW[disk_vmask & mask_r300]\n",
    "train_x = xyz[disk_vmask & mask_r300]\n",
    "\n",
    "test_v = UVW[disk_vmask & mask_r500]\n",
    "test_x = xyz[disk_vmask & mask_r500]\n",
    "\n",
    "local_v.shape, train_v.shape, test_v.shape"
   ]
  },
  {
   "cell_type": "code",
   "execution_count": 13,
   "metadata": {},
   "outputs": [
    {
     "name": "stdout",
     "output_type": "stream",
     "text": [
      "(128, 3) (128, 3)\n",
      "(42, 3) (42, 3)\n"
     ]
    }
   ],
   "source": [
    "# subsample so Hogg doesn't die of old age\n",
    "n, p = train_v.shape\n",
    "I = np.random.randint(n, size=128)\n",
    "train_x, train_v = train_x[I], train_v[I]\n",
    "print(train_x.shape, train_v.shape)\n",
    "n2, p = test_v.shape\n",
    "I2 = np.random.randint(n2, size=42)\n",
    "test_x, test_v = test_x[I2], test_v[I2]\n",
    "print(test_x.shape, test_v.shape)"
   ]
  },
  {
   "cell_type": "code",
   "execution_count": 14,
   "metadata": {},
   "outputs": [
    {
     "name": "stderr",
     "output_type": "stream",
     "text": [
      "WARNING:absl:No GPU/TPU found, falling back to CPU. (Set TF_CPP_MIN_LOG_LEVEL=0 and rerun for more info.)\n"
     ]
    }
   ],
   "source": [
    "resxv, tensorsxv = myspacexv.fit(train_x, train_v)\n",
    "# resxvx, tensorsxvx = myspacexvx.fit(train_x, train_v)"
   ]
  },
  {
   "cell_type": "code",
   "execution_count": 15,
   "metadata": {},
   "outputs": [
    {
     "name": "stdout",
     "output_type": "stream",
     "text": [
      "      fun: 15.185102574747603\n",
      " hess_inv: array([[ 1.81415145e+04, -3.76789628e+03, -3.56375081e+03, ...,\n",
      "         1.49057370e+02,  1.03810335e+02, -2.73388336e+01],\n",
      "       [-3.76789628e+03,  9.61178062e+03,  4.86757778e+02, ...,\n",
      "        -9.82029401e+00,  2.05600194e+01, -2.49979420e+01],\n",
      "       [-3.56375081e+03,  4.86757778e+02,  1.89925171e+03, ...,\n",
      "        -3.14574392e+01, -6.73757909e+01,  4.77579014e+00],\n",
      "       ...,\n",
      "       [ 1.49057370e+02, -9.82029401e+00, -3.14574392e+01, ...,\n",
      "         2.76701754e+01,  6.63240226e+00, -6.79163448e+00],\n",
      "       [ 1.03810335e+02,  2.05600194e+01, -6.73757909e+01, ...,\n",
      "         6.63240226e+00,  3.39315993e+01, -4.30562997e+00],\n",
      "       [-2.73388336e+01, -2.49979420e+01,  4.77579014e+00, ...,\n",
      "        -6.79163448e+00, -4.30562997e+00,  1.75140194e+01]])\n",
      "      jac: array([ 1.21765763e-07, -1.44716630e-06, -3.17738749e-06,  3.74579550e-06,\n",
      "        5.68710324e-09,  2.07309914e-06,  1.84731020e-06,  1.41224386e-06,\n",
      "       -5.53900419e-07, -9.09996005e-07,  3.69647163e-06, -1.99003366e-06,\n",
      "        4.34862794e-07,  2.90094191e-06, -4.55027656e-06, -3.73645155e-06,\n",
      "       -2.49157811e-06,  1.26699701e-06,  3.21820195e-07,  3.92689745e-06,\n",
      "        2.08436418e-06,  1.26498249e-06, -2.17387972e-06, -5.64671283e-07,\n",
      "       -1.46245496e-06, -4.21673277e-06,  4.32025803e-06, -6.37220919e-08,\n",
      "        3.65787527e-07, -2.19478323e-06, -1.00228564e-07, -6.64731398e-07,\n",
      "        5.37391581e-07])\n",
      "  message: 'Optimization terminated successfully.'\n",
      "     nfev: 314\n",
      "      nit: 298\n",
      "     njev: 314\n",
      "   status: 0\n",
      "  success: True\n",
      "        x: array([-11.65520547,   1.09889453,   1.38469211,   5.88926665,\n",
      "        -7.3388216 , -11.14694055,  -9.95721002,   2.25637678,\n",
      "       -23.09785063,   1.33872939,  12.45113477,   3.55930086,\n",
      "       -13.59887433,   7.69464946,  -2.49383522,  -3.62359817,\n",
      "        -4.37732049,   6.1908441 ,  -0.39830314,  -5.05509057,\n",
      "        -0.5766285 ,  -1.50415766,  -1.51533957,   1.12570322,\n",
      "        -1.99464207,   4.42224647,   2.14822679,   6.70965279,\n",
      "        -5.24476632,   2.08540082,   0.11653387,  -3.87549554,\n",
      "         1.29599939]) {'Aij': array([[-11.65520547,   1.09889453,   1.38469211],\n",
      "       [  5.88926665,  -7.3388216 , -11.14694055],\n",
      "       [ -9.95721002,   2.25637678, -23.09785063]]), 'B': array([[  1.33872939,  12.45113477,   3.55930086],\n",
      "       [-13.59887433,   7.69464946,  -2.49383522],\n",
      "       [ -3.62359817,  -4.37732049,   6.1908441 ],\n",
      "       [ -0.39830314,  -5.05509057,  -0.5766285 ],\n",
      "       [ -1.50415766,  -1.51533957,   1.12570322],\n",
      "       [ -1.99464207,   4.42224647,   2.14822679],\n",
      "       [  6.70965279,  -5.24476632,   2.08540082],\n",
      "       [  0.11653387,  -3.87549554,   1.29599939]])}\n"
     ]
    }
   ],
   "source": [
    "print(resxv, tensorsxv)"
   ]
  },
  {
   "cell_type": "code",
   "execution_count": 16,
   "metadata": {},
   "outputs": [],
   "source": [
    "fixxv=myspacexv.get_model_v(test_v,test_x)"
   ]
  },
  {
   "cell_type": "code",
   "execution_count": 17,
   "metadata": {},
   "outputs": [
    {
     "name": "stdout",
     "output_type": "stream",
     "text": [
      "[[  22.39441858  -40.55778467  -13.96741999]\n",
      " [  16.45274479   12.7960342    -5.82388435]\n",
      " [ -23.44240401   42.82291755  -14.83189223]\n",
      " [ -39.21526686  -53.44511096  -28.42970739]\n",
      " [-128.74297459  -33.19079446  -45.76426549]\n",
      " [  35.26947261   10.91073151    2.43606833]\n",
      " [ -42.04719767  -11.70941256   23.6777174 ]\n",
      " [ -63.76725511 -126.355443     -4.24693589]\n",
      " [ 156.44588111  -30.38454268  -11.69736289]\n",
      " [ -33.84381354 -200.70709137 -137.9661494 ]\n",
      " [  31.82703284  -44.67838105  -44.67088357]\n",
      " [  -4.84455988   -6.90419264   -1.12695983]\n",
      " [ -25.20859417  -25.99180988   -2.11580747]\n",
      " [  82.5474887   -44.38199011  -72.53525802]\n",
      " [  59.81999968   -5.45605187  -28.78602813]\n",
      " [ -83.57106642   95.69270732   47.18294665]\n",
      " [  42.04286818    6.53555879    0.26533847]\n",
      " [ -55.1140662   -42.95424221  -42.50883195]\n",
      " [ -24.56379223  -14.35488969  -25.60341897]\n",
      " [ -74.19444075  -58.43354829   13.5230567 ]\n",
      " [  19.18889701   -1.47984024    0.24688972]\n",
      " [   6.63285164  -27.58209466  -19.47929607]\n",
      " [ -34.03517643  -18.77028817   -8.43283831]\n",
      " [  27.5993129   -36.62660638  -12.37573583]\n",
      " [ -18.10087665  -62.95959651   -4.63914886]\n",
      " [ -38.7314478   -59.2501019   -44.42804103]\n",
      " [  -0.60877284   16.01041705  -57.33646405]\n",
      " [  29.50097302   23.19611133   -1.04332766]\n",
      " [ -87.39489     -59.36392039  -43.98366231]\n",
      " [  15.80878292    0.94894917   -2.23508859]\n",
      " [  -9.93429519    5.88773059  -21.99887994]\n",
      " [  31.3099372   -97.94693091  -14.94339478]\n",
      " [  14.73860195   13.05509669   24.64994736]\n",
      " [ -22.60788709  -47.80508183  -56.6102443 ]\n",
      " [  49.93796249  -12.32439342  -38.26313276]\n",
      " [   0.44620117  -52.04051877  -33.50358447]\n",
      " [ 117.14654664  -95.41997367   -1.1880543 ]\n",
      " [-101.8668272   -93.04687764   -5.43636001]\n",
      " [   8.58085898  -71.65545632  -52.54919665]\n",
      " [   2.3284326    -1.91784468    5.49399473]\n",
      " [  71.97761652  -47.7371312    -8.97494838]\n",
      " [-115.29975362  -38.1904839    19.39186842]]\n"
     ]
    }
   ],
   "source": [
    "print(fixxv)"
   ]
  },
  {
   "cell_type": "code",
   "execution_count": null,
   "metadata": {},
   "outputs": [],
   "source": []
  }
 ],
 "metadata": {
  "kernelspec": {
   "display_name": "Python 3",
   "language": "python",
   "name": "python3"
  },
  "language_info": {
   "codemirror_mode": {
    "name": "ipython",
    "version": 3
   },
   "file_extension": ".py",
   "mimetype": "text/x-python",
   "name": "python",
   "nbconvert_exporter": "python",
   "pygments_lexer": "ipython3",
   "version": "3.8.5"
  }
 },
 "nbformat": 4,
 "nbformat_minor": 2
}
