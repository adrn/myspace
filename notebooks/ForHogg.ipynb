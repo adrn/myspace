{
 "cells": [
  {
   "cell_type": "code",
   "execution_count": 1,
   "metadata": {},
   "outputs": [],
   "source": [
    "import numpy as np\n",
    "import matplotlib.pyplot as plt\n",
    "import matplotlib.cm as cm\n",
    "import os\n",
    "import astropy.coordinates as coord\n",
    "import astropy.units as u\n",
    "from astropy.table import Table, QTable, hstack\n",
    "from myspace import MySpace\n",
    "from sklearn.mixture import GaussianMixture\n"
   ]
  },
  {
   "cell_type": "code",
   "execution_count": 2,
   "metadata": {},
   "outputs": [
    {
     "name": "stdout",
     "output_type": "stream",
     "text": [
      "scikit-learn 0.23.2\n",
      "jax 0.2.6\n",
      "numpy 1.17.2\n",
      "scipy 1.3.1\n"
     ]
    }
   ],
   "source": [
    "import sklearn\n",
    "import jax\n",
    "import numpy\n",
    "import scipy\n",
    "\n",
    "print('scikit-learn', sklearn.__version__)\n",
    "print('jax', jax.__version__)\n",
    "print('numpy', numpy.__version__)\n",
    "print('scipy', scipy.__version__)\n",
    "\n",
    "#Output:\n",
    "#scikit-learn 0.23.2\n",
    "#jax 0.2.5\n",
    "#numpy 1.19.1\n",
    "#scipy 1.5.0"
   ]
  },
  {
   "cell_type": "code",
   "execution_count": 3,
   "metadata": {},
   "outputs": [],
   "source": [
    "gaia = QTable.read('../data/RV-all-result.fits', format='fits')"
   ]
  },
  {
   "cell_type": "code",
   "execution_count": 4,
   "metadata": {},
   "outputs": [
    {
     "name": "stderr",
     "output_type": "stream",
     "text": [
      "/usr/local/lib/python3.7/site-packages/zero_point/zpt.py:203: RuntimeWarning: invalid value encountered in greater_equal\n",
      "  if np.any(phot_g_mean_mag >= 21) or np.any(phot_g_mean_mag <= 6):\n",
      "/usr/local/lib/python3.7/site-packages/zero_point/zpt.py:203: RuntimeWarning: invalid value encountered in less_equal\n",
      "  if np.any(phot_g_mean_mag >= 21) or np.any(phot_g_mean_mag <= 6):\n",
      "/usr/local/lib/python3.7/site-packages/zero_point/zpt.py:208: UserWarning: The apparent magnitude of one or more of the sources is outside the expected range (6-21 mag). \n",
      "                Outside this range, there is no further interpolation, thus the values at 6 or 21 are returned.\n",
      "  UserWarning)\n",
      "/usr/local/lib/python3.7/site-packages/zero_point/zpt.py:223: UserWarning: The nu_eff_used_in_astrometry of some of the 5p source(s) is outside the expected range (1.1-1.9 \n",
      "                mag). Outside this range, the zero-point calculated can be seriously wrong.\n",
      "  UserWarning)\n",
      "/usr/local/lib/python3.7/site-packages/zero_point/zpt.py:236: UserWarning: The pseudocolour of some of the 6p source(s) is outside the expected range (1.24-1.72 mag).\n",
      "                 The maximum corrections are reached already at 1.24 and 1.72\n",
      "  UserWarning)\n"
     ]
    }
   ],
   "source": [
    "from zero_point import zpt\n",
    "zpt.load_tables()\n",
    "\n",
    "gmag = gaia['phot_g_mean_mag'].value\n",
    "nueffused = gaia['nu_eff_used_in_astrometry'].value\n",
    "psc = gaia['pseudocolour'].value\n",
    "sinbeta = np.sin(np.deg2rad(gaia['ecl_lat'].value))\n",
    "soltype = gaia['astrometric_params_solved']\n",
    "\n",
    "zpvals = zpt.get_zpt(gmag, nueffused, psc, sinbeta, soltype)\n",
    "cparallax=gaia['parallax'].value-zpvals"
   ]
  },
  {
   "cell_type": "code",
   "execution_count": 5,
   "metadata": {},
   "outputs": [],
   "source": [
    "qindx=(gaia['parallax_over_error']>4.)\n"
   ]
  },
  {
   "cell_type": "code",
   "execution_count": 6,
   "metadata": {},
   "outputs": [],
   "source": [
    "def make_anim_xv(XX,VV,tensorsx,myspacex,tensorsxv,myspacexv,gs=150):\n",
    "    \n",
    "    \n",
    "    _cyl = gal.represent_as('cylindrical')\n",
    "    mask2_r500 = (_cyl.rho < 500*u.pc) & (np.abs(_cyl.z) < 500*u.pc) & (_cyl.rho > 200*u.pc)\n",
    "    disk_vmask2=(np.sqrt(VV[:,0]**2+VV[:,1]**2+VV[:,2]**2)<200.)\n",
    "    \n",
    "    rindx=(disk_vmask2)*(mask2_r500)\n",
    "    for i in range(0,36):\n",
    "        wedgedex=rindx*(_cyl.phi+np.pi*u.rad>(i*np.pi/18.)*u.rad)*(_cyl.phi+np.pi*u.rad<((i+3)*np.pi/18.)*u.rad)\n",
    "        if i==34:\n",
    "            wedgedex=rindx*(_cyl.phi+np.pi*u.rad>(i*np.pi/18.)*u.rad)*(_cyl.phi+np.pi*u.rad<((i+3)*np.pi/18.)*u.rad)+rindx*(_cyl.phi+np.pi*u.rad>0.)*(_cyl.phi+np.pi*u.rad<((1)*np.pi/18.)*u.rad)\n",
    "        if i==35:\n",
    "            wedgedex=rindx*(_cyl.phi+np.pi*u.rad>(i*np.pi/18.)*u.rad)*(_cyl.phi+np.pi*u.rad<((i+3)*np.pi/18.)*u.rad)+rindx*(_cyl.phi+np.pi*u.rad>0.)*(_cyl.phi+np.pi*u.rad<((2)*np.pi/18.)*u.rad)\n",
    "        print(wedgedex.sum(),'stars in wedge',i)\n",
    "\n",
    "        fixx=myspacex.get_model_v(tensorsx,VV[wedgedex],XX[wedgedex])\n",
    "        fixxv=myspacexv.get_model_v(tensorsxv,VV[wedgedex],XX[wedgedex])\n",
    "\n",
    "        f, ((ax1,ax2),(ax3,ax4)) = plt.subplots(2, 2, figsize=(15,15))\n",
    "        ax1.hist2d(XX[:,0][wedgedex],XX[:,1][wedgedex],range=[[-500,500],[-500.,500.]],bins=gs,cmin=1.0e-50,rasterized=True,density=True)\n",
    "        ax1.set_xlabel(r'$X\\ (\\mathrm{kpc})$',fontsize=20)\n",
    "        ax1.set_ylabel(r'$Y\\ (\\mathrm{kpc})$',fontsize=20)\n",
    "        ax1.set_xlim(-500.,500.)\n",
    "        ax1.set_ylim(-500.,500.)\n",
    "        ax1.set_title(r'$\\mathrm{Selected\\ area}$',fontsize=20)\n",
    "        ax2.hist2d(VV[:,0][wedgedex],VV[:,1][wedgedex],range=[[-125,125],[-125,125]],bins=gs,cmin=1.0e-50,rasterized=True,density=True)\n",
    "        ax2.set_xlabel(r'$v_X\\ (\\mathrm{km\\ s}^{-1})$',fontsize=20)\n",
    "        ax2.set_ylabel(r'$v_Y\\ (\\mathrm{km\\ s}^{-1})$',fontsize=20)\n",
    "        ax2.set_xlim(-125,125)\n",
    "        ax2.set_ylim(-125,125)\n",
    "        ax2.set_title(r'$\\mathrm{No\\ correction}$',fontsize=20)\n",
    "        ax3.hist2d(fixx[:,0],fixx[:,1],range=[[-125,125],[-125,125]],bins=gs,cmin=1.0e-50,rasterized=True,density=True)\n",
    "        ax3.set_xlabel(r'$v_X\\ (\\mathrm{km\\ s}^{-1})$',fontsize=20)\n",
    "        ax3.set_ylabel(r'$v_Y\\ (\\mathrm{km\\ s}^{-1})$',fontsize=20)\n",
    "        ax3.set_xlim(-125,125)\n",
    "        ax3.set_ylim(-125,125)\n",
    "        ax3.set_title(r'$\\mathrm{x\\ correction}$',fontsize=20)\n",
    "        ax4.hist2d(fixxv[:,0],fixxv[:,1],range=[[-125,125],[-125,125]],bins=gs,cmin=1.0e-50,rasterized=True,density=True)\n",
    "        ax4.set_xlabel(r'$v_X\\ (\\mathrm{km\\ s}^{-1})$',fontsize=20)\n",
    "        ax4.set_ylabel(r'$v_Y\\ (\\mathrm{km\\ s}^{-1})$',fontsize=20)\n",
    "        ax4.set_xlim(-125,125)\n",
    "        ax4.set_ylim(-125,125)\n",
    "        ax4.set_title(r'$\\mathrm{xv\\ correction}$',fontsize=20)\n",
    "        ax1.tick_params(axis='both', which='major', labelsize=15)\n",
    "        ax2.tick_params(axis='both', which='major', labelsize=15)\n",
    "        ax3.tick_params(axis='both', which='major', labelsize=15)\n",
    "        ax4.tick_params(axis='both', which='major', labelsize=15)\n",
    "        plt.savefig('gaiao'+str(\"{:02d}\".format(i))+'.pdf',bbox_inches='tight')\n",
    "        plt.close()\n",
    "\n",
    "    os.system('convert -delay 5 -loop 0 gaiao*.pdf orders.gif')"
   ]
  },
  {
   "cell_type": "code",
   "execution_count": 7,
   "metadata": {},
   "outputs": [],
   "source": [
    "def make_anim_justx(XX,VV,tensorsx,myspacex,gs=150):\n",
    "    \n",
    "    \n",
    "    _cyl = gal.represent_as('cylindrical')\n",
    "    mask2_r500 = (_cyl.rho < 500*u.pc) & (np.abs(_cyl.z) < 500*u.pc) & (_cyl.rho > 200*u.pc)\n",
    "    disk_vmask2=(np.sqrt(VV[:,0]**2+VV[:,1]**2+VV[:,2]**2)<100.)\n",
    "    \n",
    "    rindx=(disk_vmask2)*(mask2_r500)\n",
    "    for i in range(0,36):\n",
    "        wedgedex=rindx*(_cyl.phi+np.pi*u.rad>(i*np.pi/18.)*u.rad)*(_cyl.phi+np.pi*u.rad<((i+3)*np.pi/18.)*u.rad)\n",
    "        if i==34:\n",
    "            wedgedex=rindx*(_cyl.phi+np.pi*u.rad>(i*np.pi/18.)*u.rad)*(_cyl.phi+np.pi*u.rad<((i+3)*np.pi/18.)*u.rad)+rindx*(_cyl.phi+np.pi*u.rad>0.)*(_cyl.phi+np.pi*u.rad<((1)*np.pi/18.)*u.rad)\n",
    "        if i==35:\n",
    "            wedgedex=rindx*(_cyl.phi+np.pi*u.rad>(i*np.pi/18.)*u.rad)*(_cyl.phi+np.pi*u.rad<((i+3)*np.pi/18.)*u.rad)+rindx*(_cyl.phi+np.pi*u.rad>0.)*(_cyl.phi+np.pi*u.rad<((2)*np.pi/18.)*u.rad)\n",
    "        print(wedgedex.sum(),'stars in wedge',i)\n",
    "\n",
    "        fixx=myspacex.get_model_v(tensorsx,VV[wedgedex],XX[wedgedex])\n",
    "\n",
    "\n",
    "        f, ((ax1,ax2,ax3)) = plt.subplots(1, 3, figsize=(21,7))\n",
    "        ax1.hist2d(XX[:,0][wedgedex],XX[:,1][wedgedex],range=[[-0.5,0.5],[-0.5,0.5]],bins=gs,cmin=1.0e-50,rasterized=True,density=True)\n",
    "        ax1.set_xlabel(r'$X\\ (\\mathrm{kpc})$',fontsize=20)\n",
    "        ax1.set_ylabel(r'$Y\\ (\\mathrm{kpc})$',fontsize=20)\n",
    "        ax1.set_xlim(-0.5,0.5)\n",
    "        ax1.set_ylim(-0.5,0.5)\n",
    "        ax1.set_title(r'$\\mathrm{Selected\\ area}$',fontsize=20)\n",
    "        ax2.hist2d(VV[:,0][wedgedex],VV[:,1][wedgedex],range=[[-125,125],[-125,125]],bins=gs,cmin=1.0e-50,rasterized=True,density=True)\n",
    "        ax2.set_xlabel(r'$v_X\\ (\\mathrm{km\\ s}^{-1})$',fontsize=20)\n",
    "        #ax2.set_ylabel(r'$v_Y\\ (\\mathrm{km\\ s}^{-1})$',fontsize=20)\n",
    "        ax2.set_xlim(-125,125)\n",
    "        ax2.set_ylim(-125,125)\n",
    "        ax2.set_title(r'$\\mathrm{No\\ correction}$',fontsize=20)\n",
    "        ax3.hist2d(fixx[:,0],fixx[:,1],range=[[-125,125],[-125,125]],bins=gs,cmin=1.0e-50,rasterized=True,density=True)\n",
    "        ax3.set_xlabel(r'$v_X\\ (\\mathrm{km\\ s}^{-1})$',fontsize=20)\n",
    "        #ax3.set_ylabel(r'$v_Y\\ (\\mathrm{km\\ s}^{-1})$',fontsize=20)\n",
    "        ax3.set_xlim(-125,125)\n",
    "        ax3.set_ylim(-125,125)\n",
    "        ax3.set_title(r'$\\mathrm{x\\ correction}$',fontsize=20)\n",
    "\n",
    "        \n",
    "        ax1.tick_params(axis='both', which='major', labelsize=15)\n",
    "\n",
    "        ax3.tick_params(axis='both', which='major', labelsize=15)\n",
    "\n",
    "        plt.savefig('93-'+str(\"{:02d}\".format(i))+'.pdf',bbox_inches='tight')\n",
    "        plt.close()\n",
    "\n",
    "    os.system('convert -delay 5 -loop 0 93-*.pdf justx.gif')"
   ]
  },
  {
   "cell_type": "code",
   "execution_count": 8,
   "metadata": {},
   "outputs": [
    {
     "name": "stderr",
     "output_type": "stream",
     "text": [
      "/usr/local/lib/python3.7/site-packages/astropy/coordinates/distances.py:181: RuntimeWarning: invalid value encountered in less\n",
      "  if not allow_negative and np.any(distance.value < 0):\n"
     ]
    }
   ],
   "source": [
    "c = coord.SkyCoord(ra=gaia['ra'][qindx],dec=gaia['dec'][qindx],distance=1./cparallax[qindx]*u.kpc,pm_ra_cosdec=gaia['pmra'][qindx],pm_dec=gaia['pmdec'][qindx],radial_velocity=gaia['radial_velocity'][qindx])\n",
    "\n"
   ]
  },
  {
   "cell_type": "code",
   "execution_count": 9,
   "metadata": {},
   "outputs": [],
   "source": [
    "gal = c.galactic\n",
    "gal.set_representation_cls('cartesian')"
   ]
  },
  {
   "cell_type": "code",
   "execution_count": 10,
   "metadata": {},
   "outputs": [
    {
     "name": "stderr",
     "output_type": "stream",
     "text": [
      "/usr/local/lib/python3.7/site-packages/ipykernel_launcher.py:9: RuntimeWarning: invalid value encountered in less\n",
      "  if __name__ == '__main__':\n"
     ]
    }
   ],
   "source": [
    "xyz = np.vstack((gal.u.to(u.kpc).value, \n",
    "                 gal.v.to(u.kpc).value,\n",
    "                 gal.w.to(u.kpc).value)).T\n",
    "\n",
    "UVW = np.vstack((gal.U.to(u.km/u.s).value, \n",
    "                 gal.V.to(u.km/u.s).value, \n",
    "                 gal.W.to(u.km/u.s).value)).T\n",
    "\n",
    "disk_vmask = np.linalg.norm(UVW, axis=1) < 150."
   ]
  },
  {
   "cell_type": "code",
   "execution_count": 11,
   "metadata": {},
   "outputs": [
    {
     "name": "stdout",
     "output_type": "stream",
     "text": [
      "(98166, 3)\n"
     ]
    },
    {
     "name": "stderr",
     "output_type": "stream",
     "text": [
      "/usr/local/lib/python3.7/site-packages/astropy/units/quantity.py:464: RuntimeWarning: invalid value encountered in less\n",
      "  result = super().__array_ufunc__(function, method, *arrays, **kwargs)\n"
     ]
    }
   ],
   "source": [
    "XX=xyz\n",
    "VV=UVW\n",
    "dist2=np.sqrt(XX[:,0]**2+XX[:,1]**2)\n",
    "\n",
    "_cyl = gal.represent_as('cylindrical')\n",
    "mask_r100 = (_cyl.rho < 100*u.pc) & (np.abs(_cyl.z) < 150*u.pc)\n",
    "mask_r300 = (_cyl.rho < 300*u.pc) & (np.abs(_cyl.z) < 500*u.pc)\n",
    "mask_r500 = (_cyl.rho < 500*u.pc) & (np.abs(_cyl.z) < 500*u.pc)\n",
    "mask_r100.sum(), mask_r500.sum()\n",
    "#local_mask=(dist2<0.2)*(np.fabs(XX[:,2])<0.2)\n",
    "#train_mask=(dist2>0.2)*(dist2<0.5)*(np.fabs(XX[:,2])<0.5)\n",
    "\n",
    "local_v = UVW[disk_vmask & mask_r100]\n",
    "local_x = xyz[disk_vmask & mask_r100]\n",
    "\n",
    "print(local_v.shape)"
   ]
  },
  {
   "cell_type": "code",
   "execution_count": 12,
   "metadata": {},
   "outputs": [
    {
     "data": {
      "text/plain": [
       "GaussianMixture(n_components=64)"
      ]
     },
     "execution_count": 12,
     "metadata": {},
     "output_type": "execute_result"
    }
   ],
   "source": [
    "local_gmm = GaussianMixture(n_components=64)\n",
    "local_gmm.fit(local_v)"
   ]
  },
  {
   "cell_type": "code",
   "execution_count": 13,
   "metadata": {},
   "outputs": [],
   "source": [
    "# Just X\n",
    "# myspace = MySpace(local_gmm, terms=['x'])"
   ]
  },
  {
   "cell_type": "code",
   "execution_count": 14,
   "metadata": {},
   "outputs": [],
   "source": [
    "myspacexv = MySpace(local_gmm, terms=['x','xv'])\n",
    "# myspacexvx = MySpace(local_gmm, terms=['x','xv','xx'])"
   ]
  },
  {
   "cell_type": "code",
   "execution_count": 15,
   "metadata": {},
   "outputs": [
    {
     "data": {
      "text/plain": [
       "((98166, 3), (829927, 3), (1499237, 3))"
      ]
     },
     "execution_count": 15,
     "metadata": {},
     "output_type": "execute_result"
    }
   ],
   "source": [
    "\n",
    "train_v = UVW[disk_vmask & mask_r300]\n",
    "train_x = xyz[disk_vmask & mask_r300]\n",
    "\n",
    "test_v = UVW[disk_vmask & mask_r500]\n",
    "test_x = xyz[disk_vmask & mask_r500]\n",
    "\n",
    "local_v.shape, train_v.shape, test_v.shape"
   ]
  },
  {
   "cell_type": "code",
   "execution_count": 16,
   "metadata": {},
   "outputs": [],
   "source": [
    "# res, tensors = myspace.fit(train_x, train_v)"
   ]
  },
  {
   "cell_type": "code",
   "execution_count": null,
   "metadata": {},
   "outputs": [
    {
     "name": "stderr",
     "output_type": "stream",
     "text": [
      "WARNING:absl:No GPU/TPU found, falling back to CPU. (Set TF_CPP_MIN_LOG_LEVEL=0 and rerun for more info.)\n"
     ]
    }
   ],
   "source": [
    "resxv, tensorsxv = myspacexv.fit(train_x, train_v)\n",
    "# resxvx, tensorsxvx = myspacexvx.fit(train_x, train_v)\n",
    "print(tensors)"
   ]
  },
  {
   "cell_type": "code",
   "execution_count": null,
   "metadata": {},
   "outputs": [],
   "source": [
    "def calculate_oort_constants(tensors):\n",
    "    Aij=tensors['Aij']\n",
    "    A = 0.5 * (-1.*Aij[0, 1] + -1.*Aij[1, 0])\n",
    "    B = 0.5 * (-1.*Aij[1, 0] - -1.*Aij[0, 1])\n",
    "    K = 0.5 * (-1.*Aij[0, 0] + -1.*Aij[1, 1])\n",
    "    C = 0.5 * (-1.*Aij[0, 0] - -1.*Aij[1, 1])\n",
    "    print('A=',A,'B=',B,'C=',C,'K=',K)\n",
    "    return(A,B,C,K)\n",
    "calculate_oort_constants(tensors)"
   ]
  },
  {
   "cell_type": "code",
   "execution_count": null,
   "metadata": {},
   "outputs": [],
   "source": [
    "fixx=myspace.get_model_v(tensors,test_v,test_x)"
   ]
  },
  {
   "cell_type": "code",
   "execution_count": null,
   "metadata": {},
   "outputs": [],
   "source": [
    "fixxv=myspacexv.get_model_v(tensorsxv,test_v,test_x)\n",
    "fixxvx=myspacexvx.get_model_v(tensorsxvx,test_v,test_x)"
   ]
  },
  {
   "cell_type": "code",
   "execution_count": null,
   "metadata": {},
   "outputs": [],
   "source": [
    "f, ((ax1,ax2)) = plt.subplots(1, 2, figsize=(10,5))\n",
    "gs=200\n",
    "ax1.hexbin(test_v[:,0],test_v[:,1],extent=[-125,125,-125,125],mincnt=1,rasterized=True,gridsize=gs)\n",
    "ax1.set_title('Uncorrected',fontsize=20)\n",
    "ax1.set_xlabel('vx (km/s)',fontsize=20)\n",
    "ax1.set_ylabel('vy (km/s)',fontsize=20)\n",
    "ax1.set_xlim(-125,125)\n",
    "ax1.set_ylim(-125,125)\n",
    "ax2.hexbin(fixx[:,0],fixx[:,1],extent=[-125,125,-125,125],mincnt=1,rasterized=True,gridsize=gs)\n",
    "ax2.set_title('x corrected',fontsize=20)\n",
    "ax2.set_xlabel('vx (km/s)',fontsize=20)\n",
    "ax2.set_xlim(-125,125)\n",
    "ax2.set_ylim(-125,125)\n",
    "plt.show()"
   ]
  },
  {
   "cell_type": "code",
   "execution_count": null,
   "metadata": {
    "scrolled": false
   },
   "outputs": [],
   "source": [
    "make_anim_justx(XX,VV,tensors,myspace)"
   ]
  },
  {
   "cell_type": "code",
   "execution_count": null,
   "metadata": {},
   "outputs": [],
   "source": [
    "make_anim_xv(XX,VV,tensors,myspace,tensorsxv,myspacexv)"
   ]
  },
  {
   "cell_type": "code",
   "execution_count": null,
   "metadata": {},
   "outputs": [],
   "source": [
    "f, ((ax1,ax2,ax3,ax4)) = plt.subplots(1, 4, figsize=(20,5))\n",
    "gs=200\n",
    "ax1.hexbin(test_v[:,0],test_v[:,1],extent=[-125,125,-125,125],mincnt=1,rasterized=True,gridsize=gs)\n",
    "ax1.set_title('Uncorrected',fontsize=20)\n",
    "ax1.set_xlabel('vx (km/s)',fontsize=20)\n",
    "ax1.set_ylabel('vy (km/s)',fontsize=20)\n",
    "ax1.set_xlim(-125,125)\n",
    "ax1.set_ylim(-125,125)\n",
    "ax2.hexbin(fixx[:,0],fixx[:,1],extent=[-125,125,-125,125],mincnt=1,rasterized=True,gridsize=gs)\n",
    "ax2.set_title('x corrected',fontsize=20)\n",
    "ax2.set_xlabel('vx (km/s)',fontsize=20)\n",
    "ax2.set_xlim(-125,125)\n",
    "ax2.set_ylim(-125,125)\n",
    "ax3.hexbin(fixxv[:,0],fixxv[:,1],extent=[-125,125,-125,125],mincnt=1,rasterized=True,gridsize=gs)\n",
    "ax3.set_title('xv corrected',fontsize=20)\n",
    "ax3.set_xlabel('vx (km/s)',fontsize=20)\n",
    "ax3.set_xlim(-125,125)\n",
    "ax3.set_ylim(-125,125)\n",
    "ax4.hexbin(fixxvx[:,0],fixxvx[:,1],extent=[-125,125,-125,125],mincnt=1,rasterized=True,gridsize=gs)\n",
    "ax4.set_title('xvxx corrected',fontsize=20)\n",
    "ax4.set_xlabel('vx (km/s)',fontsize=20)\n",
    "ax4.set_xlim(-125,125)\n",
    "ax4.set_ylim(-125,125)\n",
    "#plt.savefig('comp64.pdf',bbox_inches='tight')\n",
    "plt.show()"
   ]
  },
  {
   "cell_type": "code",
   "execution_count": null,
   "metadata": {},
   "outputs": [],
   "source": []
  },
  {
   "cell_type": "code",
   "execution_count": null,
   "metadata": {},
   "outputs": [],
   "source": []
  },
  {
   "cell_type": "code",
   "execution_count": null,
   "metadata": {},
   "outputs": [],
   "source": []
  },
  {
   "cell_type": "code",
   "execution_count": null,
   "metadata": {},
   "outputs": [],
   "source": []
  },
  {
   "cell_type": "code",
   "execution_count": null,
   "metadata": {},
   "outputs": [],
   "source": []
  },
  {
   "cell_type": "code",
   "execution_count": null,
   "metadata": {},
   "outputs": [],
   "source": []
  },
  {
   "cell_type": "code",
   "execution_count": null,
   "metadata": {},
   "outputs": [],
   "source": []
  }
 ],
 "metadata": {
  "kernelspec": {
   "display_name": "Python 3",
   "language": "python",
   "name": "python3"
  },
  "language_info": {
   "codemirror_mode": {
    "name": "ipython",
    "version": 3
   },
   "file_extension": ".py",
   "mimetype": "text/x-python",
   "name": "python",
   "nbconvert_exporter": "python",
   "pygments_lexer": "ipython3",
   "version": "3.7.4"
  }
 },
 "nbformat": 4,
 "nbformat_minor": 2
}
