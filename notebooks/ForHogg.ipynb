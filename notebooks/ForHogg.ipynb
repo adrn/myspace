{
 "cells": [
  {
   "cell_type": "code",
   "execution_count": null,
   "metadata": {},
   "outputs": [],
   "source": [
    "import numpy as np\n",
    "import matplotlib.pyplot as plt\n",
    "import matplotlib.cm as cm\n",
    "import os\n",
    "import astropy.coordinates as coord\n",
    "import astropy.units as u\n",
    "from astropy.table import Table, QTable, hstack\n",
    "from myspace import MySpace\n",
    "from sklearn.mixture import GaussianMixture\n",
    "from zero_point import zpt"
   ]
  },
  {
   "cell_type": "code",
   "execution_count": null,
   "metadata": {},
   "outputs": [],
   "source": [
    "import sklearn\n",
    "import jax\n",
    "import numpy\n",
    "import scipy\n",
    "\n",
    "print('scikit-learn', sklearn.__version__)\n",
    "print('jax', jax.__version__)\n",
    "print('numpy', numpy.__version__)\n",
    "print('scipy', scipy.__version__)\n",
    "\n",
    "#Output:\n",
    "#scikit-learn 0.23.2\n",
    "#jax 0.2.5\n",
    "#numpy 1.19.1\n",
    "#scipy 1.5.0"
   ]
  },
  {
   "cell_type": "code",
   "execution_count": null,
   "metadata": {},
   "outputs": [],
   "source": [
    "gaia = QTable.read('../data/RV-all-result.fits', format='fits')"
   ]
  },
  {
   "cell_type": "code",
   "execution_count": null,
   "metadata": {},
   "outputs": [],
   "source": [
    "zpt.load_tables()\n",
    "\n",
    "gmag = gaia['phot_g_mean_mag'].value\n",
    "nueffused = gaia['nu_eff_used_in_astrometry'].value\n",
    "psc = gaia['pseudocolour'].value\n",
    "sinbeta = np.sin(np.deg2rad(gaia['ecl_lat'].value))\n",
    "soltype = gaia['astrometric_params_solved']\n",
    "\n",
    "zpvals = zpt.get_zpt(gmag, nueffused, psc, sinbeta, soltype)\n",
    "cparallax=gaia['parallax'].value-zpvals"
   ]
  },
  {
   "cell_type": "code",
   "execution_count": null,
   "metadata": {},
   "outputs": [],
   "source": [
    "qindx=(gaia['parallax_over_error']>4.)\n"
   ]
  },
  {
   "cell_type": "code",
   "execution_count": null,
   "metadata": {},
   "outputs": [],
   "source": [
    "c = coord.SkyCoord(ra=gaia['ra'][qindx],dec=gaia['dec'][qindx],distance=1./cparallax[qindx]*u.kpc,pm_ra_cosdec=gaia['pmra'][qindx],pm_dec=gaia['pmdec'][qindx],radial_velocity=gaia['radial_velocity'][qindx])\n",
    "\n"
   ]
  },
  {
   "cell_type": "code",
   "execution_count": null,
   "metadata": {},
   "outputs": [],
   "source": [
    "gal = c.galactic\n",
    "gal.set_representation_cls('cartesian')"
   ]
  },
  {
   "cell_type": "code",
   "execution_count": null,
   "metadata": {},
   "outputs": [],
   "source": [
    "xyz = np.vstack((gal.u.to(u.kpc).value, \n",
    "                 gal.v.to(u.kpc).value,\n",
    "                 gal.w.to(u.kpc).value)).T\n",
    "\n",
    "UVW = np.vstack((gal.U.to(u.km/u.s).value, \n",
    "                 gal.V.to(u.km/u.s).value, \n",
    "                 gal.W.to(u.km/u.s).value)).T\n",
    "\n",
    "disk_vmask = np.linalg.norm(UVW, axis=1) < 150."
   ]
  },
  {
   "cell_type": "code",
   "execution_count": null,
   "metadata": {},
   "outputs": [],
   "source": [
    "XX=xyz\n",
    "VV=UVW\n",
    "dist2=np.sqrt(XX[:,0]**2+XX[:,1]**2)\n",
    "\n",
    "_cyl = gal.represent_as('cylindrical')\n",
    "mask_r100 = (_cyl.rho < 100*u.pc) & (np.abs(_cyl.z) < 150*u.pc)\n",
    "mask_r300 = (_cyl.rho < 300*u.pc) & (np.abs(_cyl.z) < 500*u.pc)\n",
    "mask_r500 = (_cyl.rho < 500*u.pc) & (np.abs(_cyl.z) < 500*u.pc)\n",
    "mask_r100.sum(), mask_r500.sum()\n",
    "#local_mask=(dist2<0.2)*(np.fabs(XX[:,2])<0.2)\n",
    "#train_mask=(dist2>0.2)*(dist2<0.5)*(np.fabs(XX[:,2])<0.5)\n",
    "\n",
    "local_v = UVW[disk_vmask & mask_r100]\n",
    "local_x = xyz[disk_vmask & mask_r100]\n",
    "\n",
    "print(local_v.shape)"
   ]
  },
  {
   "cell_type": "code",
   "execution_count": null,
   "metadata": {},
   "outputs": [],
   "source": [
    "local_gmm = GaussianMixture(n_components=64)\n",
    "local_gmm.fit(local_v)"
   ]
  },
  {
   "cell_type": "code",
   "execution_count": null,
   "metadata": {},
   "outputs": [],
   "source": [
    "myspacexv = MySpace(local_gmm, terms=['x','xv'])"
   ]
  },
  {
   "cell_type": "code",
   "execution_count": null,
   "metadata": {},
   "outputs": [],
   "source": [
    "\n",
    "train_v = UVW[disk_vmask & mask_r300]\n",
    "train_x = xyz[disk_vmask & mask_r300]\n",
    "\n",
    "test_v = UVW[disk_vmask & mask_r500]\n",
    "test_x = xyz[disk_vmask & mask_r500]\n",
    "\n",
    "local_v.shape, train_v.shape, test_v.shape"
   ]
  },
  {
   "cell_type": "code",
   "execution_count": null,
   "metadata": {},
   "outputs": [],
   "source": [
    "# subsample so Hogg doesn't die of old age\n",
    "n, p = train_v.shape\n",
    "I = np.random.randint(n, size=128)\n",
    "train_x, train_v = train_x[I], train_v[I]\n",
    "print(train_x.shape, train_v.shape)\n",
    "n2, p = test_v.shape\n",
    "I2 = np.random.randint(n2, size=42)\n",
    "test_x, test_v = test_x[I2], test_v[I2]\n",
    "print(test_x.shape, test_v.shape)"
   ]
  },
  {
   "cell_type": "code",
   "execution_count": null,
   "metadata": {},
   "outputs": [],
   "source": [
    "resxv, tensorsxv = myspacexv.fit(train_x, train_v)\n",
    "# resxvx, tensorsxvx = myspacexvx.fit(train_x, train_v)"
   ]
  },
  {
   "cell_type": "code",
   "execution_count": null,
   "metadata": {},
   "outputs": [],
   "source": [
    "print(resxv, tensorsxv)"
   ]
  },
  {
   "cell_type": "code",
   "execution_count": null,
   "metadata": {},
   "outputs": [],
   "source": [
    "fixxv=myspacexv.get_model_v(test_v,test_x)"
   ]
  },
  {
   "cell_type": "code",
   "execution_count": null,
   "metadata": {},
   "outputs": [],
   "source": [
    "print(fixxv)"
   ]
  },
  {
   "cell_type": "code",
   "execution_count": null,
   "metadata": {},
   "outputs": [],
   "source": []
  }
 ],
 "metadata": {
  "kernelspec": {
   "display_name": "Python 3",
   "language": "python",
   "name": "python3"
  },
  "language_info": {
   "codemirror_mode": {
    "name": "ipython",
    "version": 3
   },
   "file_extension": ".py",
   "mimetype": "text/x-python",
   "name": "python",
   "nbconvert_exporter": "python",
   "pygments_lexer": "ipython3",
   "version": "3.7.4"
  }
 },
 "nbformat": 4,
 "nbformat_minor": 2
}
