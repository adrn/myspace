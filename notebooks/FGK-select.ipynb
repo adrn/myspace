{
 "cells": [
  {
   "cell_type": "code",
   "execution_count": null,
   "metadata": {},
   "outputs": [],
   "source": [
    "# Third-party\n",
    "from astropy.io import fits\n",
    "from astropy.table import Table\n",
    "import astropy.coordinates as coord\n",
    "import astropy.units as u\n",
    "from astropy.table import Table\n",
    "import matplotlib as mpl\n",
    "import matplotlib.pyplot as plt\n",
    "import numpy as np\n",
    "%matplotlib inline\n",
    "\n",
    "from pyia import GaiaData"
   ]
  },
  {
   "cell_type": "code",
   "execution_count": null,
   "metadata": {},
   "outputs": [],
   "source": [
    "# orig_g = Table.read('../data/R1500_z_750_cyl_rv.fits', memmap=True)\n",
    "# mask = np.isfinite(orig_g['radial_velocity']) & ((orig_g['parallax'] / orig_g['parallax_error']) > 6)\n",
    "# mask.sum()\n",
    "\n",
    "g = GaiaData('../data/R1500_z_750_cyl_rv.fits')"
   ]
  },
  {
   "cell_type": "code",
   "execution_count": null,
   "metadata": {},
   "outputs": [],
   "source": [
    "c = g.skycoord"
   ]
  },
  {
   "cell_type": "code",
   "execution_count": null,
   "metadata": {},
   "outputs": [],
   "source": [
    "np.isfinite(g.e_bp_min_rp_val).sum(), len(g)"
   ]
  },
  {
   "cell_type": "code",
   "execution_count": null,
   "metadata": {},
   "outputs": [],
   "source": [
    "gal = c.galactic[(g.visibility_periods_used >= 8)]\n",
    "gal.set_representation_cls('cartesian')\n",
    "\n",
    "fig, axes = plt.subplots(2, 2, figsize=(8, 8), sharex=True, sharey=True)\n",
    "axes[0,0].plot(gal.u, gal.v, marker=',', alpha=0.1, linestyle='none')\n",
    "axes[1,0].plot(gal.u, gal.w, marker=',', alpha=0.1, linestyle='none')\n",
    "axes[1,1].plot(gal.v, gal.w, marker=',', alpha=0.1, linestyle='none')\n",
    "axes[0,1].set_visible(False)\n",
    "\n",
    "axes[0,0].set_xlim(-500, 500)\n",
    "axes[0,0].set_ylim(-500, 500)\n",
    "\n",
    "fig.tight_layout()"
   ]
  },
  {
   "cell_type": "code",
   "execution_count": null,
   "metadata": {},
   "outputs": [],
   "source": [
    "plt.hist(g.phot_g_mean_mag[np.isfinite(g.phot_g_mean_mag)], \n",
    "         bins=np.linspace(8, 14., 32));\n",
    "plt.axvline(12.6)"
   ]
  },
  {
   "cell_type": "code",
   "execution_count": null,
   "metadata": {},
   "outputs": [],
   "source": [
    "m = 12.6*u.mag\n",
    "M = 5.*u.mag\n",
    "coord.Distance(distmod=m-M)"
   ]
  },
  {
   "cell_type": "markdown",
   "metadata": {},
   "source": [
    "Note: to be somewhat complete with RVs, we should really only go down to abs. mag ~ 5"
   ]
  },
  {
   "cell_type": "markdown",
   "metadata": {},
   "source": [
    "Assign reddening by nearest neighbor:"
   ]
  },
  {
   "cell_type": "code",
   "execution_count": null,
   "metadata": {},
   "outputs": [],
   "source": [
    "# idx, sep2d, dist3d = c.match_to_catalog_3d(c, nthneighbor=2)\n",
    "\n",
    "no_ext = np.isnan(g.e_bp_min_rp_val) | np.isnan(g.a_g_val)\n",
    "idx, sep2d, dist3d = c[no_ext].match_to_catalog_sky(c, nthneighbor=2)"
   ]
  },
  {
   "cell_type": "code",
   "execution_count": null,
   "metadata": {},
   "outputs": [],
   "source": [
    "e_bprp = g.e_bp_min_rp_val.value\n",
    "a_g = g.a_g_val.value\n",
    "\n",
    "e_bprp[no_ext] = e_bprp[idx]\n",
    "a_g[no_ext] = a_g[idx]"
   ]
  },
  {
   "cell_type": "code",
   "execution_count": null,
   "metadata": {},
   "outputs": [],
   "source": [
    "bprp = (g.phot_bp_mean_mag - g.phot_rp_mean_mag)\n",
    "G = g.phot_g_mean_mag\n",
    "\n",
    "bprp0 = bprp - e_bprp*u.mag\n",
    "G0 = G - a_g*u.mag"
   ]
  },
  {
   "cell_type": "code",
   "execution_count": null,
   "metadata": {},
   "outputs": [],
   "source": [
    "# F5\u2013K5\n",
    "tmp_fgk_mask = (g.teff_val.value < 6500.) & (g.teff_val.value > 4400)\n",
    "test_mask = tmp_fgk_mask & (g.distance < 200*u.pc)"
   ]
  },
  {
   "cell_type": "code",
   "execution_count": null,
   "metadata": {},
   "outputs": [],
   "source": [
    "bins = (np.arange(-0.5, 2.5+1e-5, 0.02),\n",
    "        np.arange(-1, 12+1e-5, 0.02))\n",
    "\n",
    "fig, axes = plt.subplots(1, 2, figsize=(10, 5), sharex=True, sharey=True)\n",
    "\n",
    "ax = axes[0]\n",
    "\n",
    "# H, xe, ye = np.histogram2d(bprp[test_mask], (G - g.distmod)[test_mask], \n",
    "H, xe, ye = np.histogram2d(bprp0[test_mask], (G0 - g.distmod)[test_mask], \n",
    "                           bins=bins)\n",
    "ax.pcolormesh(xe, ye, H.T, cmap='Greys',\n",
    "              norm=mpl.colors.LogNorm(vmin=1E0, vmax=1E4))\n",
    "\n",
    "nodes = np.array([[-0.05, 1.1],\n",
    "                  [-0.05, 1.65],\n",
    "                  [0.55, 3.65],\n",
    "                  [0.77, 5],\n",
    "                  [1, 6],\n",
    "                  [1.2, 6],\n",
    "                  [1, 5.2],\n",
    "                  [0.65, 3.3],\n",
    "                  [0.4, 2.5],\n",
    "                  [-0.05, 1.1]])\n",
    "ax.plot(nodes[:, 0], nodes[:, 1], marker='.')\n",
    "fgk_path = mpl.patches.Path(nodes)\n",
    "ax.axhline(6, zorder=-100)\n",
    "\n",
    "ax = axes[1]\n",
    "\n",
    "# H, xe, ye = np.histogram2d(bprp, G - g.distmod, \n",
    "H, xe, ye = np.histogram2d(bprp0, G0 - g.distmod, \n",
    "                           bins=bins)\n",
    "ax.pcolormesh(xe, ye, H.T, cmap='Greys',\n",
    "              norm=mpl.colors.LogNorm(vmin=1E0, vmax=1E4))\n",
    "ax.plot(nodes[:, 0], nodes[:, 1], marker='.')\n",
    "\n",
    "ax.set_ylim(12, -1)\n",
    "ax.set_xlim(-0.5, 2.5)\n",
    "\n",
    "fig.tight_layout()"
   ]
  },
  {
   "cell_type": "code",
   "execution_count": null,
   "metadata": {},
   "outputs": [],
   "source": [
    "xy = np.vstack((bprp0, G0 - g.distmod)).T.value"
   ]
  },
  {
   "cell_type": "code",
   "execution_count": null,
   "metadata": {},
   "outputs": [],
   "source": [
    "fgk_mask = fgk_path.contains_points(xy)\n",
    "fgk_mask.sum()"
   ]
  },
  {
   "cell_type": "code",
   "execution_count": null,
   "metadata": {},
   "outputs": [],
   "source": [
    "gal_fgk = c.galactic[fgk_mask]\n",
    "gal_fgk.set_representation_cls('cartesian')\n",
    "\n",
    "fig, axes = plt.subplots(2, 2, figsize=(8, 7.2), sharex=True, sharey=True)\n",
    "axes[0,0].plot(gal_fgk.u, gal_fgk.v, \n",
    "               marker=',', alpha=0.2, linestyle='none')\n",
    "axes[1,0].plot(gal_fgk.u, gal_fgk.w, \n",
    "               marker=',', alpha=0.2, linestyle='none')\n",
    "axes[1,1].plot(gal_fgk.v, gal_fgk.w, \n",
    "               marker=',', alpha=0.2, linestyle='none')\n",
    "axes[0,1].set_visible(False)\n",
    "\n",
    "axes[0,0].set_xlim(-500, 500)\n",
    "axes[0,0].set_ylim(-500, 500)\n",
    "\n",
    "fig.tight_layout()"
   ]
  },
  {
   "cell_type": "code",
   "execution_count": null,
   "metadata": {},
   "outputs": [],
   "source": [
    "tbl = Table.from_pandas(g[fgk_mask].data)"
   ]
  },
  {
   "cell_type": "code",
   "execution_count": null,
   "metadata": {},
   "outputs": [],
   "source": [
    "tbl['bp_rp0'] = bprp0[fgk_mask]\n",
    "tbl['G0'] = G0[fgk_mask]"
   ]
  },
  {
   "cell_type": "code",
   "execution_count": null,
   "metadata": {},
   "outputs": [],
   "source": [
    "tbl.write('../data/fgk.fits')"
   ]
  },
  {
   "cell_type": "code",
   "execution_count": null,
   "metadata": {},
   "outputs": [],
   "source": []
  }
 ],
 "metadata": {
  "kernelspec": {
   "display_name": "Python [default]",
   "language": "python",
   "name": "python3"
  },
  "language_info": {
   "codemirror_mode": {
    "name": "ipython",
    "version": 3
   },
   "file_extension": ".py",
   "mimetype": "text/x-python",
   "name": "python",
   "nbconvert_exporter": "python",
   "pygments_lexer": "ipython3",
   "version": "3.6.4"
  }
 },
 "nbformat": 4,
 "nbformat_minor": 2
}